{
 "cells": [
  {
   "cell_type": "code",
   "execution_count": 1,
   "metadata": {},
   "outputs": [
    {
     "name": "stderr",
     "output_type": "stream",
     "text": [
      "/home/joaovmrf/miniconda3/envs/ppget_env/lib/python3.7/site-packages/tqdm/auto.py:21: TqdmWarning: IProgress not found. Please update jupyter and ipywidgets. See https://ipywidgets.readthedocs.io/en/stable/user_install.html\n",
      "  from .autonotebook import tqdm as notebook_tqdm\n"
     ]
    }
   ],
   "source": [
    "import glob\n",
    "import os\n",
    "from datetime import datetime\n",
    "\n",
    "import numpy as np\n",
    "import scipy.io as sio\n",
    "import torch.optim as optim\n",
    "from model import DGCNN\n",
    "from utils import generating_data\n"
   ]
  },
  {
   "cell_type": "code",
   "execution_count": 2,
   "metadata": {},
   "outputs": [
    {
     "name": "stdout",
     "output_type": "stream",
     "text": [
      "- reading file: 15_20130709.mat\n",
      "--user:15, sessions: 2013-07-09 00:00:00\n",
      "\t### TRAIN ###\n",
      "\t\tde_LDS1 - video 1 - (235, 62, 5) observacoes\n",
      "\t\tde_LDS2 - video 2 - (233, 62, 5) observacoes\n",
      "\t\tde_LDS3 - video 3 - (206, 62, 5) observacoes\n",
      "\t\tde_LDS4 - video 4 - (238, 62, 5) observacoes\n",
      "\t\tde_LDS5 - video 5 - (185, 62, 5) observacoes\n",
      "\t\tde_LDS6 - video 6 - (195, 62, 5) observacoes\n",
      "\t\tde_LDS7 - video 7 - (237, 62, 5) observacoes\n",
      "\t\tde_LDS8 - video 8 - (216, 62, 5) observacoes\n",
      "\t\tde_LDS9 - video 9 - (265, 62, 5) observacoes\n",
      "\t### TEST ###\n",
      "\t\tde_LDS10 - video 10 - (237, 62, 5) observacoes\n",
      "\t\tde_LDS11 - video 11 - (235, 62, 5) observacoes\n",
      "\t\tde_LDS12 - video 12 - (233, 62, 5) observacoes\n",
      "\t\tde_LDS13 - video 13 - (235, 62, 5) observacoes\n",
      "\t\tde_LDS14 - video 14 - (238, 62, 5) observacoes\n",
      "\t\tde_LDS15 - video 15 - (206, 62, 5) observacoes\n"
     ]
    }
   ],
   "source": [
    "label_list = np.array([1,0,-1,-1,0,1,-1,0,1,1,0,-1,0,1,-1]) + 1 # -1 for \n",
    "fn = 'de_LDS'\n",
    "\n",
    "full_path = \"/home/joaovmrf/Documents/mestrado/SEED/SEED_EEG/SEED_EEG/ExtractedFeatures\"\n",
    "# all_files = glob.glob(full_path+\"*\")\n",
    "item = \"15_20130709.mat\"\n",
    "cur_user = item.split(\"_\")[0]\n",
    "user_session = datetime.strptime(item.split(\"_\")[1][:-4],\"%Y%m%d\")\n",
    "print(f\"- reading file: {item}\\n--user:{cur_user}, sessions: {user_session}\")\n",
    "\n",
    "cur_file = os.path.join(full_path, item)\n",
    "all_data = sio.loadmat(cur_file)\n",
    "type(all_data)\n",
    "\n",
    "train_data, test_data, train_label, test_label = generating_data(all_data, label_list, fn)\n"
   ]
  },
  {
   "cell_type": "code",
   "execution_count": 3,
   "metadata": {},
   "outputs": [
    {
     "data": {
      "text/plain": [
       "(2010, 62, 5)"
      ]
     },
     "execution_count": 3,
     "metadata": {},
     "output_type": "execute_result"
    }
   ],
   "source": [
    "train_data.shape"
   ]
  },
  {
   "cell_type": "code",
   "execution_count": 5,
   "metadata": {},
   "outputs": [
    {
     "data": {
      "text/plain": [
       "(62, 5, 2010)"
      ]
     },
     "execution_count": 5,
     "metadata": {},
     "output_type": "execute_result"
    }
   ],
   "source": [
    "train_data.transpose((1,2,0)).shape"
   ]
  },
  {
   "cell_type": "code",
   "execution_count": null,
   "metadata": {},
   "outputs": [],
   "source": []
  },
  {
   "cell_type": "code",
   "execution_count": null,
   "metadata": {},
   "outputs": [],
   "source": [
    "train_data.transpose().shape"
   ]
  },
  {
   "cell_type": "code",
   "execution_count": null,
   "metadata": {},
   "outputs": [],
   "source": [
    "np.swapaxes(train_data, 0, 1).shape"
   ]
  },
  {
   "cell_type": "code",
   "execution_count": null,
   "metadata": {},
   "outputs": [],
   "source": [
    "train_data_1 = np.reshape(np.swapaxes(train_data, 0, 1), (num, -1))\n",
    "train_data_1.shape"
   ]
  },
  {
   "cell_type": "code",
   "execution_count": null,
   "metadata": {},
   "outputs": [],
   "source": [
    "a = np.array([[1, 2,3,4,5,6], \n",
    "              [1, 2,3,4,5,6],\n",
    "              [1, 2,3,4,5,6],\n",
    "              [1, 2,3,4,5,6],\n",
    "              [1, 2,3,4,5,6]])"
   ]
  },
  {
   "cell_type": "code",
   "execution_count": null,
   "metadata": {},
   "outputs": [],
   "source": [
    "a.shape"
   ]
  },
  {
   "cell_type": "code",
   "execution_count": null,
   "metadata": {},
   "outputs": [],
   "source": [
    "a.transpose(0,1).shape"
   ]
  },
  {
   "cell_type": "code",
   "execution_count": null,
   "metadata": {},
   "outputs": [],
   "source": [
    "b = np.array([\n",
    "    [[1, 2,3,4,5,6,7,8,9,10],[1, 2,3,4,5,6,7,8,9,10],[1, 2,3,4,5,6,7,8,9,10],[1, 2,3,4,5,6,7,8,9,10],[1, 2,3,4,5,6,7,8,9,10],[1, 2,3,4,5,6,7,8,9,10]],\n",
    "    [[1, 2,3,4,5,6,7,8,9,10],[1, 2,3,4,5,6,7,8,9,10],[1, 2,3,4,5,6,7,8,9,10],[1, 2,3,4,5,6,7,8,9,10],[1, 2,3,4,5,6,7,8,9,10],[1, 2,3,4,5,6,7,8,9,10]],\n",
    "    [[1, 2,3,4,5,6,7,8,9,10],[1, 2,3,4,5,6,7,8,9,10],[1, 2,3,4,5,6,7,8,9,10],[1, 2,3,4,5,6,7,8,9,10],[1, 2,3,4,5,6,7,8,9,10],[1, 2,3,4,5,6,7,8,9,10]],\n",
    "    [[1, 2,3,4,5,6,7,8,9,10],[1, 2,3,4,5,6,7,8,9,10],[1, 2,3,4,5,6,7,8,9,10],[1, 2,3,4,5,6,7,8,9,10],[1, 2,3,4,5,6,7,8,9,10],[1, 2,3,4,5,6,7,8,9,10]],\n",
    "    [[1, 2,3,4,5,6,7,8,9,10],[1, 2,3,4,5,6,7,8,9,10],[1, 2,3,4,5,6,7,8,9,10],[1, 2,3,4,5,6,7,8,9,10],[1, 2,3,4,5,6,7,8,9,10],[1, 2,3,4,5,6,7,8,9,10]],\n",
    "])"
   ]
  },
  {
   "cell_type": "code",
   "execution_count": null,
   "metadata": {},
   "outputs": [],
   "source": [
    "b.shape"
   ]
  },
  {
   "cell_type": "code",
   "execution_count": null,
   "metadata": {},
   "outputs": [],
   "source": [
    "b.transpose(0,1,2).shape"
   ]
  },
  {
   "cell_type": "code",
   "execution_count": null,
   "metadata": {},
   "outputs": [],
   "source": []
  }
 ],
 "metadata": {
  "kernelspec": {
   "display_name": "ppget_env",
   "language": "python",
   "name": "python3"
  },
  "language_info": {
   "codemirror_mode": {
    "name": "ipython",
    "version": 3
   },
   "file_extension": ".py",
   "mimetype": "text/x-python",
   "name": "python",
   "nbconvert_exporter": "python",
   "pygments_lexer": "ipython3",
   "version": "3.7.16"
  },
  "orig_nbformat": 4
 },
 "nbformat": 4,
 "nbformat_minor": 2
}
