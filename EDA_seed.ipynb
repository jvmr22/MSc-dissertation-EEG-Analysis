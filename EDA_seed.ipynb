{
 "cells": [
  {
   "attachments": {},
   "cell_type": "markdown",
   "metadata": {},
   "source": [
    "# Leitura dos arquivos SEED_EEG (pasta sem os dados de movimento dos olhos)"
   ]
  },
  {
   "cell_type": "code",
   "execution_count": null,
   "metadata": {},
   "outputs": [],
   "source": [
    "import os\n",
    "from glob import glob\n",
    "import pandas as pd\n",
    "import numpy as np\n",
    "import scipy.io\n",
    "import re\n"
   ]
  },
  {
   "cell_type": "code",
   "execution_count": null,
   "metadata": {},
   "outputs": [],
   "source": [
    "os.environ['FILE_PATH'] = '../SEED/SEED_EEG/'\n",
    "FILE_PATH = os.getenv('FILE_PATH', '/mnt/g/Meu Drive/mestrado_ppget')\n",
    "FILE_PATH"
   ]
  },
  {
   "attachments": {},
   "cell_type": "markdown",
   "metadata": {},
   "source": [
    "## Preprocessed_EEG folder:"
   ]
  },
  {
   "cell_type": "code",
   "execution_count": null,
   "metadata": {},
   "outputs": [],
   "source": [
    "PREPROCESSED_PATH = os.path.join(FILE_PATH, \"SEED_EEG/Preprocessed_EEG/\")\n",
    "ALL_FILES = os.listdir(PREPROCESSED_PATH)\n",
    "sorted(ALL_FILES)\n",
    "print(len(ALL_FILES))\n",
    "All_FILES_FULL_PATH = sorted(glob(PREPROCESSED_PATH+'/**'))\n"
   ]
  },
  {
   "cell_type": "code",
   "execution_count": null,
   "metadata": {},
   "outputs": [],
   "source": [
    "All_FILES_FULL_PATH"
   ]
  },
  {
   "cell_type": "code",
   "execution_count": null,
   "metadata": {},
   "outputs": [],
   "source": [
    "import scipy.io\n",
    "mat = scipy.io.loadmat(All_FILES_FULL_PATH[0]) \n",
    "mat"
   ]
  },
  {
   "cell_type": "code",
   "execution_count": null,
   "metadata": {},
   "outputs": [],
   "source": [
    "mat.keys()"
   ]
  },
  {
   "cell_type": "code",
   "execution_count": null,
   "metadata": {},
   "outputs": [],
   "source": [
    "len(mat.keys())"
   ]
  },
  {
   "cell_type": "code",
   "execution_count": null,
   "metadata": {},
   "outputs": [],
   "source": [
    "mat['ww_eeg1'].shape"
   ]
  },
  {
   "attachments": {},
   "cell_type": "markdown",
   "metadata": {},
   "source": []
  },
  {
   "cell_type": "code",
   "execution_count": null,
   "metadata": {},
   "outputs": [],
   "source": [
    "cur_eeg_file = All_FILES_FULL_PATH[0]\n",
    "cur_eeg_file"
   ]
  },
  {
   "cell_type": "code",
   "execution_count": null,
   "metadata": {},
   "outputs": [],
   "source": [
    "labels = scipy.io.loadmat(os.path.join(FILE_PATH, 'SEED_EEG/ExtractedFeatures/label.mat')) \n",
    "print(len(labels['label'][0]))\n",
    "print(labels['label'][0])"
   ]
  },
  {
   "cell_type": "code",
   "execution_count": null,
   "metadata": {},
   "outputs": [],
   "source": [
    "seen_movies = list(cur_egg_data.keys())[3:]\n",
    "eeg_62channels_data = cur_egg_data[seen_movies[0]]\n",
    "len(eeg_62channels_data)\n",
    "\n",
    "eeg_each_chanel_data = eeg_62channels_data[0]\n",
    "pd.DataFrame(eeg_each_chanel_data)\n",
    "\n"
   ]
  },
  {
   "cell_type": "code",
   "execution_count": null,
   "metadata": {},
   "outputs": [],
   "source": [
    "channel_order = pd.read_excel(os.path.join(FILE_PATH, \"SEED_EEG/channel-order.xlsx\"), header=None).reset_index()\n",
    "# channel_order['index'] = channel_order.index+1\n",
    "channel_order\n",
    "# channel_order[channel_order['index'] == eeg_62channels_idx][0].values[0]"
   ]
  },
  {
   "cell_type": "code",
   "execution_count": null,
   "metadata": {},
   "outputs": [],
   "source": [
    "all_data = pd.DataFrame()\n",
    "\n",
    "for cur_eeg_file in All_FILES_FULL_PATH:\n",
    "    subject_id, experiment_date = os.path.basename(cur_eeg_file).split('_')\n",
    "    cur_egg_data = scipy.io.loadmat(cur_eeg_file) \n",
    "    seen_movies = list(cur_egg_data.keys())[3:]\n",
    "    for cur_seen_movies in seen_movies:\n",
    "        eeg_62channels_data = cur_egg_data[cur_seen_movies]\n",
    "        eeg_62channels_idx = 0\n",
    "        for eeg_each_chanel_data in eeg_62channels_data:\n",
    "            # each_chanel_as_df = pd.DataFrame(eeg_each_chanel_data)\n",
    "            eeg_channel = channel_order[channel_order['index'] == eeg_62channels_idx][0].values[0]\n",
    "            print(cur_eeg_file, subject_id, experiment_date, cur_seen_movies,eeg_channel)\n",
    "            all_data = all_data.append({\"subject_id\":subject_id, \"experiment_date\":experiment_date, \"cur_seen_movie\":cur_seen_movies,\"eeg_channel\":eeg_channel, \"eeg_data\":list(eeg_each_chanel_data)},ignore_index=True)\n",
    "            eeg_62channels_idx+=1\n",
    "            # break\n",
    "        break\n",
    "    all_data.to_excel(\"dados_compilados.xlsx\")\n",
    "    break"
   ]
  },
  {
   "attachments": {},
   "cell_type": "markdown",
   "metadata": {},
   "source": [
    "## ExtractedFeatures Folder:"
   ]
  },
  {
   "attachments": {},
   "cell_type": "markdown",
   "metadata": {},
   "source": [
    "### Ja possui differential entropy (DE), differential asymmetry (DASM), asymmetry (RASM)  \n",
    "\n",
    "\n",
    "* differential entropy (DE): \n",
    "    * Identifying Stable Patterns over Time for Emotion Recognition from EEG - artigo original SEED \n",
    "    * EEG Emotion Recognition Using Dynamical Graph Convolutional Neural Networks - aplicação direta com SEED (dynamical graph convolutional neural networks (DGCNN))\n",
    "    * Multi-method Fusion of Cross-Subject Emotion Recognition Based on High-Dimensional EEG Features\n",
    "\n",
    "\n",
    "\n",
    "From our previous work[40], [41], [42], we have found that the following six different features and electrode combina- tions are efficient for EEG-based emotion recognition: power spectral density (PSD), differential entropy (DE), dif- ferential asymmetry (DASM), rational asymmetry (RASM), asymmetry (ASM) and differential caudality (DCAU) fea- tures from the EEG. As"
   ]
  },
  {
   "attachments": {},
   "cell_type": "markdown",
   "metadata": {},
   "source": []
  },
  {
   "cell_type": "code",
   "execution_count": null,
   "metadata": {},
   "outputs": [],
   "source": [
    "EXTRACTED_FEATURES_PATH = os.path.join(FILE_PATH,\"SEED_EEG/ExtractedFeatures/\")\n",
    "ALL_FILES = os.listdir(EXTRACTED_FEATURES_PATH)\n",
    "sorted(ALL_FILES)\n",
    "print(len(ALL_FILES))\n",
    "All_FILES_FULL_PATH = sorted(glob(EXTRACTED_FEATURES_PATH+'/**'))\n",
    "All_FILES_FULL_PATH\n"
   ]
  },
  {
   "cell_type": "code",
   "execution_count": null,
   "metadata": {},
   "outputs": [],
   "source": [
    "All_FILES_FULL_PATH[0]"
   ]
  },
  {
   "cell_type": "code",
   "execution_count": null,
   "metadata": {},
   "outputs": [],
   "source": [
    "import scipy.io\n",
    "mat = scipy.io.loadmat(All_FILES_FULL_PATH[0]) \n",
    "mat"
   ]
  },
  {
   "cell_type": "code",
   "execution_count": null,
   "metadata": {},
   "outputs": [],
   "source": [
    "mat.keys()"
   ]
  },
  {
   "attachments": {},
   "cell_type": "markdown",
   "metadata": {},
   "source": [
    "###  15 chaves para cada uma das features [asm', 'psd', 'rasm', 'dasm', 'dcau', 'de']\n",
    "* 'asm_LDS', 'asm_movingAve',\n",
    "* 'dasm_LDS', 'dasm_movingAve',\n",
    "* 'dcau_LDS', 'dcau_movingAve',\n",
    "* 'de_LDS', 'de_movingAve',\n",
    "* 'psd_LDS', 'psd_movingAve',\n",
    "* 'rasm_LDS', 'rasm_movingAve'\n"
   ]
  },
  {
   "attachments": {},
   "cell_type": "markdown",
   "metadata": {},
   "source": [
    "### 6 features (de, psd, etc) X 2 possibilidades (LDS, movAve) x 15 videos = 180"
   ]
  },
  {
   "cell_type": "code",
   "execution_count": null,
   "metadata": {},
   "outputs": [],
   "source": [
    "len(mat.keys()) -3"
   ]
  },
  {
   "cell_type": "code",
   "execution_count": null,
   "metadata": {},
   "outputs": [],
   "source": [
    "# all_feautres = [each_feature.split('_')[0] for each_feature in sorted(list(mat.keys()))]\n",
    "all_feautres = [re.findall('\\D+', each_feature)[0] for each_feature in sorted(list(mat.keys()))]\n",
    "sorted(list(set(all_feautres)))"
   ]
  },
  {
   "cell_type": "code",
   "execution_count": null,
   "metadata": {},
   "outputs": [],
   "source": [
    "filter_features = [each_feature for each_feature in sorted(list(mat.keys())) if 'de_LDS' in each_feature]\n",
    "filter_features"
   ]
  },
  {
   "cell_type": "code",
   "execution_count": null,
   "metadata": {},
   "outputs": [],
   "source": [
    "mat['de_LDS1'].shape"
   ]
  },
  {
   "cell_type": "code",
   "execution_count": null,
   "metadata": {},
   "outputs": [],
   "source": [
    "mat['de_LDS13'].shape"
   ]
  },
  {
   "cell_type": "code",
   "execution_count": null,
   "metadata": {},
   "outputs": [],
   "source": [
    "mat['de_LDS1'][0].shape"
   ]
  },
  {
   "attachments": {},
   "cell_type": "markdown",
   "metadata": {},
   "source": [
    "# Leitura do Pickel do modelo"
   ]
  },
  {
   "attachments": {},
   "cell_type": "markdown",
   "metadata": {},
   "source": [
    "### de_lds"
   ]
  },
  {
   "cell_type": "code",
   "execution_count": null,
   "metadata": {},
   "outputs": [],
   "source": [
    "import pandas as pd\n",
    "import os\n",
    "from datetime import datetime"
   ]
  },
  {
   "cell_type": "code",
   "execution_count": null,
   "metadata": {},
   "outputs": [],
   "source": [
    "model_folder = \"11_dnn_eeg_1s_baseline\"\n",
    "#model_folder = \"13_svm_eeg_1s_baseline\"\n",
    "\n",
    "all_lr = os.listdir(model_folder)\n",
    "print(all_lr)\n",
    "if len(all_lr) == 1:\n",
    "    idx_feature = 0\n",
    "else:\n",
    "    idx_feature = 2\n",
    "cur_feature = all_lr[idx_feature]\n",
    "print(idx_feature)\n",
    "print(cur_feature)"
   ]
  },
  {
   "cell_type": "code",
   "execution_count": null,
   "metadata": {},
   "outputs": [],
   "source": [
    "#cur_feature = \"de_LDS0\"\n",
    "cur_experiment = \"10_20131130\"\n",
    "\n",
    "cur_model_path = os.path.join(os.getcwd(), model_folder, cur_feature, cur_experiment)\n",
    "print(cur_model_path)\n",
    "model_result = pd.read_pickle(cur_model_path)"
   ]
  },
  {
   "cell_type": "code",
   "execution_count": null,
   "metadata": {},
   "outputs": [],
   "source": [
    "model_result"
   ]
  },
  {
   "cell_type": "code",
   "execution_count": null,
   "metadata": {},
   "outputs": [],
   "source": [
    "model_result.keys()"
   ]
  },
  {
   "cell_type": "code",
   "execution_count": null,
   "metadata": {},
   "outputs": [],
   "source": [
    "model_result[\"true_label\"].shape"
   ]
  },
  {
   "attachments": {},
   "cell_type": "markdown",
   "metadata": {},
   "source": [
    "Utilizando o artigo original do seed eu quero verificar os resultados."
   ]
  },
  {
   "cell_type": "code",
   "execution_count": null,
   "metadata": {},
   "outputs": [],
   "source": [
    "!find 11_dnn_eeg_1s_baseline -name {cur_experiment} >> {cur_experiment}.txt"
   ]
  },
  {
   "cell_type": "code",
   "execution_count": null,
   "metadata": {},
   "outputs": [],
   "source": [
    "with open(f\"{cur_experiment}.txt\", \"r\") as f:\n",
    "    files_from_session = f.read()\n",
    "\n",
    "files_from_session_as_list = files_from_session.split(\"\\n\")\n",
    "files_from_session_as_list = [cur_file_session for cur_file_session in files_from_session_as_list if len(cur_file_session)>1]\n",
    "files_from_session_as_list"
   ]
  },
  {
   "cell_type": "code",
   "execution_count": null,
   "metadata": {},
   "outputs": [],
   "source": [
    "accuracy_dict = {}\n",
    "for each_file in files_from_session_as_list:\n",
    "    print(each_file)\n",
    "    model_result = pd.read_pickle(each_file)\n",
    "    accuracy_dict[each_file] = model_result['acc']"
   ]
  },
  {
   "cell_type": "code",
   "execution_count": null,
   "metadata": {},
   "outputs": [],
   "source": [
    "accuracy_dict"
   ]
  },
  {
   "cell_type": "code",
   "execution_count": null,
   "metadata": {},
   "outputs": [],
   "source": [
    "dict(sorted(accuracy_dict.items(), key=lambda item: item[1], reverse=True))\n"
   ]
  },
  {
   "attachments": {},
   "cell_type": "markdown",
   "metadata": {},
   "source": [
    "# Explorando resultados SVM"
   ]
  },
  {
   "attachments": {},
   "cell_type": "markdown",
   "metadata": {},
   "source": [
    "## Verificando vetor de decisao"
   ]
  },
  {
   "cell_type": "code",
   "execution_count": null,
   "metadata": {},
   "outputs": [],
   "source": [
    "model_result"
   ]
  },
  {
   "cell_type": "code",
   "execution_count": null,
   "metadata": {},
   "outputs": [],
   "source": [
    "model_result['test_label'].shape"
   ]
  },
  {
   "cell_type": "code",
   "execution_count": null,
   "metadata": {},
   "outputs": [],
   "source": [
    "# os primeiros 237 valores sao do 10 video, que de acordo com o arquivo seed-stimulation possuem o sentimento 2\n",
    "# model_result['test_label'][0:237].shape\n",
    "# os proximos 235 valores sao do 11 video, que de acordo com o arquivo seed-stimulation possuem o sentimento 2\n",
    "# model_result['test_label'][237:472].shape\n",
    "# os proximos 233 valores sao do 12 video, que de acordo com o arquivo seed-stimulation possuem o sentimento 1\n",
    "model_result['test_label'][472:705]#.shape"
   ]
  },
  {
   "cell_type": "code",
   "execution_count": null,
   "metadata": {},
   "outputs": [],
   "source": [
    "# comprovando que O SVM fez a predicao correta.\n",
    "model_result['decision_val'][472:705]"
   ]
  },
  {
   "attachments": {},
   "cell_type": "markdown",
   "metadata": {},
   "source": [
    "## Verificando acuracia SVM"
   ]
  },
  {
   "cell_type": "code",
   "execution_count": null,
   "metadata": {},
   "outputs": [],
   "source": [
    "cur_experiment = '20230825_SVM_ACCURACY'"
   ]
  },
  {
   "cell_type": "code",
   "execution_count": null,
   "metadata": {},
   "outputs": [],
   "source": [
    "!find 20230825_svm_eeg_1s_baseline_all -type f >> {cur_experiment}.txt"
   ]
  },
  {
   "cell_type": "code",
   "execution_count": null,
   "metadata": {},
   "outputs": [],
   "source": [
    "with open(f\"{cur_experiment}.txt\", \"r\") as f:\n",
    "    files_from_session = f.read()\n",
    "\n",
    "files_from_session_as_list = files_from_session.split(\"\\n\")\n",
    "files_from_session_as_list = [cur_file_session for cur_file_session in files_from_session_as_list if len(cur_file_session)>1]\n",
    "files_from_session_as_list"
   ]
  },
  {
   "cell_type": "code",
   "execution_count": null,
   "metadata": {},
   "outputs": [],
   "source": [
    "accuracy_dict = {}\n",
    "for each_file in files_from_session_as_list:\n",
    "    print(each_file)\n",
    "    model_result = pd.read_pickle(each_file)\n",
    "    accuracy_dict[each_file] = [model_result['acc'], model_result['c']]"
   ]
  },
  {
   "cell_type": "code",
   "execution_count": null,
   "metadata": {},
   "outputs": [],
   "source": [
    "all_models_results_ordered = dict(sorted(accuracy_dict.items(), key=lambda item: item[1], reverse=True))\n",
    "all_models_results_ordered"
   ]
  },
  {
   "cell_type": "code",
   "execution_count": null,
   "metadata": {},
   "outputs": [],
   "source": [
    "result_df = pd.DataFrame(all_models_results_ordered.items())\n",
    "result_df"
   ]
  },
  {
   "cell_type": "code",
   "execution_count": null,
   "metadata": {},
   "outputs": [],
   "source": [
    "result_df[['acc', 'param']] = pd.DataFrame(result_df[1].to_list())\n",
    "result_df['param'] = result_df['param'].apply(lambda x: {\"c\":x})\n",
    "result_df"
   ]
  },
  {
   "cell_type": "code",
   "execution_count": null,
   "metadata": {},
   "outputs": [],
   "source": [
    "result_df[[\"folder\", \"feature\", \"user\"]] = pd.DataFrame(result_df[0].str.split('/').to_list())\n",
    "result_df"
   ]
  },
  {
   "cell_type": "code",
   "execution_count": null,
   "metadata": {},
   "outputs": [],
   "source": [
    "result_df[[\"user\", \"session\"]]  = pd.DataFrame(result_df['user'].str.split('_').to_list())\n",
    "result_df"
   ]
  },
  {
   "cell_type": "code",
   "execution_count": null,
   "metadata": {},
   "outputs": [],
   "source": [
    "result_df[['user', 'session', 'feature', 'param', 'acc']].sort_values(['user', 'acc'], ascending=[False, False]).to_csv(f\"{cur_experiment}.csv\")"
   ]
  },
  {
   "cell_type": "code",
   "execution_count": null,
   "metadata": {},
   "outputs": [],
   "source": [
    "import os\n",
    "# eeg_dir = '../Features/China/feature_smooth_eeg_1s/'\n",
    "os.environ['FILE_PATH'] = '../SEED/SEED_EEG/'\n",
    "FILE_PATH = os.getenv('FILE_PATH', '/mnt/g/Meu Drive/mestrado_ppget')\n",
    "print(FILE_PATH)\n",
    "eeg_dir = os.path.join(FILE_PATH,\"SEED_EEG/ExtractedFeatures/\")\n",
    "eeg_file_list = os.listdir(eeg_dir)\n",
    "eeg_file_list.sort()"
   ]
  },
  {
   "cell_type": "code",
   "execution_count": null,
   "metadata": {},
   "outputs": [],
   "source": [
    "eeg_file_list.index('13_20140527.mat')"
   ]
  },
  {
   "cell_type": "code",
   "execution_count": null,
   "metadata": {},
   "outputs": [],
   "source": [
    "eeg_file_list[10:]"
   ]
  },
  {
   "attachments": {},
   "cell_type": "markdown",
   "metadata": {},
   "source": [
    "## SVM for each band"
   ]
  },
  {
   "cell_type": "code",
   "execution_count": null,
   "metadata": {},
   "outputs": [],
   "source": [
    "from datetime import datetime\n",
    "datetime_now = datetime.now().strftime(\"%Y%m%d_%H%M\")\n",
    "external_data_ref = datetime.today().date().strftime(\"%Y%m%d\")\n",
    "\n",
    "full_svm_result_df = pd.DataFrame()\n",
    "for cur_freq_band in [\"delta\",\"theta\", \"alpha\", \"beta\", \"gamma\"]:\n",
    "    filename_to_write = f\"{datetime_now}_all_SVM_predictions_{cur_freq_band}.txt\"\n",
    "\n",
    "    os.system(f\"find 20230825_svm_eeg_1s_baseline_{cur_freq_band} -type f > {filename_to_write}\")\n",
    "\n",
    "    with open(filename_to_write, \"r\") as f:\n",
    "        files_from_session = f.read()\n",
    "\n",
    "    files_from_session_as_list = files_from_session.split(\"\\n\")\n",
    "    files_from_session_as_list = [cur_file_session for cur_file_session in files_from_session_as_list if len(cur_file_session)>1]\n",
    "    #print(len(files_from_session_as_list))\n",
    "    #print(files_from_session_as_list)\n",
    "\n",
    "    accuracy_dict = {}\n",
    "    for each_file in files_from_session_as_list:\n",
    "        # print(each_file)\n",
    "        model_result = pd.read_pickle(each_file)\n",
    "        accuracy_dict[each_file] = [model_result['acc'], model_result['c']]\n",
    "\n",
    "    all_models_results_ordered = dict(sorted(accuracy_dict.items(), key=lambda item: item[1], reverse=True))\n",
    "\n",
    "    svm_result_df = pd.DataFrame(all_models_results_ordered.items())\n",
    "    svm_result_df[['acc', 'param']] = pd.DataFrame(svm_result_df[1].to_list())\n",
    "    svm_result_df['param'] = svm_result_df['param'].apply(lambda x: {\"c\":x})\n",
    "    svm_result_df[[\"folder\", \"feature\", \"user\"]] = pd.DataFrame(svm_result_df[0].str.split('/').to_list())\n",
    "    svm_result_df[[\"user\", \"session\"]]  = pd.DataFrame(svm_result_df['user'].str.split('_').to_list())\n",
    "    svm_result_df = svm_result_df[['user', 'session', 'feature', 'param', 'acc']].sort_values(['user', 'acc'], ascending=[False, False])\n",
    "\n",
    "    # svm_result_df.to_csv(f\"{external_data_ref}_SVM_result_summary_{cur_freq_band}.csv\")\n",
    "\n",
    "    # print(f\"{cur_freq_band} - mean:{svm_result_df.acc.mean():0.4f} / std:{svm_result_df.acc.std():0.4f}\")\n",
    "    print(f\"{cur_freq_band} - {svm_result_df.acc.mean():0.4f}/{svm_result_df.acc.std():0.4f}\")\n",
    "\n",
    "    svm_result_df['freq'] = cur_freq_band\n",
    "    full_svm_result_df = pd.concat([full_svm_result_df, svm_result_df])\n",
    "\n",
    "full_svm_result_df.reset_index().to_csv(f\"{external_data_ref}_SVM_result_summary_each_band.csv\")\n"
   ]
  },
  {
   "attachments": {},
   "cell_type": "markdown",
   "metadata": {},
   "source": [
    "# Explorando resultados DNN"
   ]
  },
  {
   "cell_type": "code",
   "execution_count": null,
   "metadata": {},
   "outputs": [],
   "source": [
    "datetime_now = datetime.now().strftime(\"%Y%m%d_%H%M\")"
   ]
  },
  {
   "cell_type": "code",
   "execution_count": null,
   "metadata": {},
   "outputs": [],
   "source": [
    "!find 14_dnn_eeg_1s_baseline -type f > {datetime_now}_all_dnn_predictions.txt"
   ]
  },
  {
   "cell_type": "code",
   "execution_count": null,
   "metadata": {},
   "outputs": [],
   "source": [
    "with open(f\"{datetime_now}_all_dnn_predictions.txt\", \"r\") as f:\n",
    "    files_from_session = f.read()\n",
    "\n",
    "files_from_session_as_list = files_from_session.split(\"\\n\")\n",
    "files_from_session_as_list = [cur_file_session for cur_file_session in files_from_session_as_list if len(cur_file_session)>1]\n",
    "print(len(files_from_session_as_list))\n",
    "print(files_from_session_as_list)"
   ]
  },
  {
   "cell_type": "code",
   "execution_count": null,
   "metadata": {},
   "outputs": [],
   "source": [
    "import pandas as pd"
   ]
  },
  {
   "cell_type": "code",
   "execution_count": null,
   "metadata": {},
   "outputs": [],
   "source": [
    "model_result = pd.read_pickle(files_from_session_as_list[0])\n",
    "model_result\n"
   ]
  },
  {
   "cell_type": "code",
   "execution_count": null,
   "metadata": {},
   "outputs": [],
   "source": [
    "type(model_result['acc'])"
   ]
  },
  {
   "cell_type": "code",
   "execution_count": null,
   "metadata": {},
   "outputs": [],
   "source": [
    "model_result['acc'].item()"
   ]
  },
  {
   "cell_type": "code",
   "execution_count": null,
   "metadata": {},
   "outputs": [],
   "source": [
    "accuracy_dict = {}\n",
    "for each_file in files_from_session_as_list:\n",
    "    print(each_file)\n",
    "    model_result = pd.read_pickle(each_file)\n",
    "    accuracy_dict[each_file] = model_result['acc'].item()"
   ]
  },
  {
   "cell_type": "code",
   "execution_count": null,
   "metadata": {},
   "outputs": [],
   "source": [
    "all_models_results_ordered = dict(sorted(accuracy_dict.items(), key=lambda item: item[1], reverse=True))\n",
    "print(len(all_models_results_ordered))\n",
    "all_models_results_ordered\n"
   ]
  },
  {
   "cell_type": "code",
   "execution_count": null,
   "metadata": {},
   "outputs": [],
   "source": [
    "dnn_result_df = pd.DataFrame(all_models_results_ordered.items())\n",
    "dnn_result_df = dnn_result_df.rename(columns={1:'acc'})"
   ]
  },
  {
   "cell_type": "code",
   "execution_count": null,
   "metadata": {},
   "outputs": [],
   "source": [
    "dnn_result_df[[\"folder\", \"feature\", \"user\"]] = pd.DataFrame(dnn_result_df[0].str.split('/').to_list())"
   ]
  },
  {
   "cell_type": "code",
   "execution_count": null,
   "metadata": {},
   "outputs": [],
   "source": [
    "dnn_result_df[[\"user\", \"session\"]]  = pd.DataFrame(dnn_result_df['user'].str.split('_').to_list())\n",
    "dnn_result_df"
   ]
  },
  {
   "cell_type": "code",
   "execution_count": null,
   "metadata": {},
   "outputs": [],
   "source": [
    "import re"
   ]
  },
  {
   "cell_type": "code",
   "execution_count": null,
   "metadata": {},
   "outputs": [],
   "source": [
    "#dnn_result_df['feature'].apply(lambda x: re.findall(\"\\d*\\.?\\d*$/\", x))\n",
    "dnn_result_df['param'] = dnn_result_df['feature'].apply(lambda x: re.findall(\"-?[\\d.]+(?:e-?\\d+)?\", x))\n",
    "dnn_result_df['param'] = dnn_result_df['param'].apply(lambda x: {f\"lr{x[0]}:{x[1]}\"})"
   ]
  },
  {
   "cell_type": "code",
   "execution_count": null,
   "metadata": {},
   "outputs": [],
   "source": [
    "dnn_result_df[['user', 'session', 'feature', 'param', 'acc']].sort_values(['user', 'acc'], ascending=[False, False])"
   ]
  },
  {
   "cell_type": "code",
   "execution_count": null,
   "metadata": {},
   "outputs": [],
   "source": [
    "# dnn_result_df[dnn_result_df.user == '12']"
   ]
  },
  {
   "cell_type": "code",
   "execution_count": null,
   "metadata": {},
   "outputs": [],
   "source": [
    "from datetime import datetime"
   ]
  },
  {
   "cell_type": "code",
   "execution_count": null,
   "metadata": {},
   "outputs": [],
   "source": [
    "external_data_ref = datetime.today().date().strftime(\"%Y%m%d\")\n",
    "external_data_ref"
   ]
  },
  {
   "cell_type": "code",
   "execution_count": null,
   "metadata": {},
   "outputs": [],
   "source": [
    "dnn_result_df[['user', 'session', 'feature', 'param', 'acc']].sort_values(['user', 'acc'], ascending=[False, False]).to_csv(f\"{external_data_ref}_dnn_result.csv\")"
   ]
  },
  {
   "cell_type": "code",
   "execution_count": null,
   "metadata": {},
   "outputs": [],
   "source": [
    "eda_dnn = dnn_result_df[['user', 'session', 'feature', 'param', 'acc']].sort_values(['user', 'acc'], ascending=[False, False])\n",
    "eda_dnn"
   ]
  },
  {
   "cell_type": "code",
   "execution_count": null,
   "metadata": {},
   "outputs": [],
   "source": [
    "eda_dnn.groupby(['user', 'session'])['param', 'acc'].agg({'acc':'max'})"
   ]
  },
  {
   "cell_type": "code",
   "execution_count": null,
   "metadata": {},
   "outputs": [],
   "source": [
    "eda_dnn.groupby(['user', 'session']).max().acc.mean()"
   ]
  },
  {
   "cell_type": "code",
   "execution_count": null,
   "metadata": {},
   "outputs": [],
   "source": [
    "# https://stackoverflow.com/questions/44185787/result-based-in-other-column-using-pandas-aggregation\n",
    "# ed_dnn_2 = eda_dnn.groupby(['user', 'session'])['param', 'acc'].agg({'acc':'max', 'param':lambda x: eda_dnn['param'][x.idmax()]}).reset_index()\n",
    "ed_dnn_2 = eda_dnn.groupby(['user', 'session'])['param', 'acc'].agg({'acc':'max'}).reset_index()\n",
    "\n",
    "ed_dnn_2"
   ]
  },
  {
   "cell_type": "code",
   "execution_count": null,
   "metadata": {},
   "outputs": [],
   "source": [
    "x = ['10', '20131130', 0.7377167344093323]\n",
    "dnn_result_df[(dnn_result_df['user']==x[0]) & (dnn_result_df['session']==x[1]) & (dnn_result_df['acc']==x[2])]"
   ]
  },
  {
   "cell_type": "code",
   "execution_count": null,
   "metadata": {},
   "outputs": [],
   "source": [
    "ed_dnn_2"
   ]
  },
  {
   "cell_type": "code",
   "execution_count": null,
   "metadata": {},
   "outputs": [],
   "source": [
    "#ed_dnn_2.apply(lambda x: dnn_result_df[(dnn_result_df['user']==x[0]) & (dnn_result_df['session']==x[1]) & (dnn_result_df['acc']==x[2])], axis=1)]\n",
    "\n",
    "#quase la\n",
    "#ed_dnn_2.apply(lambda x: dnn_result_df[(dnn_result_df['user']==x[0]) & (dnn_result_df['session']==x[1]) & (dnn_result_df['acc']==x[2])]['param'], axis=1)\n",
    "\n",
    "\n",
    "# ed_dnn_2['params'] = \n",
    "\n",
    "for idx, x in ed_dnn_2.iterrows():\n",
    "    ed_dnn_2.loc[idx,'params_2'] = dnn_result_df[(dnn_result_df['user']==x[0]) & (dnn_result_df['session']==x[1]) & (dnn_result_df['acc']==x[2])].iloc[0,6]\n",
    "\n",
    "\n",
    "# ed_dnn_2.apply(lambda x: dnn_result_df[(dnn_result_df['user']==x[0]) & (dnn_result_df['session']==x[1]) & (dnn_result_df['acc']==x[2])]['param'], axis=1)"
   ]
  },
  {
   "cell_type": "code",
   "execution_count": null,
   "metadata": {},
   "outputs": [],
   "source": [
    "ed_dnn_2.to_csv(f\"{external_data_ref}_dnn_result_summary.csv\")"
   ]
  },
  {
   "cell_type": "code",
   "execution_count": null,
   "metadata": {},
   "outputs": [],
   "source": [
    "dnn_result_df[(dnn_result_df['user']==x[0]) & (dnn_result_df['session']==x[1]) & (dnn_result_df['acc']==x[2])].iloc[0,6]"
   ]
  },
  {
   "cell_type": "code",
   "execution_count": null,
   "metadata": {},
   "outputs": [],
   "source": [
    "ed_dnn_2"
   ]
  },
  {
   "cell_type": "code",
   "execution_count": null,
   "metadata": {},
   "outputs": [],
   "source": [
    "print(f\"mean:{ed_dnn_2.acc.mean():0.4f} / std:{ed_dnn_2.acc.std():0.4f}\")"
   ]
  },
  {
   "cell_type": "code",
   "execution_count": null,
   "metadata": {},
   "outputs": [],
   "source": [
    "ed_dnn_2.groupby(['user']).mean().acc.std()"
   ]
  },
  {
   "attachments": {},
   "cell_type": "markdown",
   "metadata": {},
   "source": [
    "# Explorando Resultados LOGISTIC REGRESSION"
   ]
  },
  {
   "cell_type": "code",
   "execution_count": null,
   "metadata": {},
   "outputs": [],
   "source": [
    "from datetime import datetime"
   ]
  },
  {
   "cell_type": "code",
   "execution_count": null,
   "metadata": {},
   "outputs": [],
   "source": [
    "datetime_now = datetime.now().strftime(\"%Y%m%d_%H%M\")\n",
    "filename_to_write = f\"{datetime_now}_all_logRegression_predictions.txt\""
   ]
  },
  {
   "cell_type": "code",
   "execution_count": null,
   "metadata": {},
   "outputs": [],
   "source": [
    "!find 20230827_lr_eeg_1s_baseline_all -type f > {filename_to_write}"
   ]
  },
  {
   "cell_type": "code",
   "execution_count": null,
   "metadata": {},
   "outputs": [],
   "source": [
    "with open(filename_to_write, \"r\") as f:\n",
    "    files_from_session = f.read()\n",
    "\n",
    "files_from_session_as_list = files_from_session.split(\"\\n\")\n",
    "files_from_session_as_list = [cur_file_session for cur_file_session in files_from_session_as_list if len(cur_file_session)>1]\n",
    "print(len(files_from_session_as_list))\n",
    "print(files_from_session_as_list)"
   ]
  },
  {
   "cell_type": "code",
   "execution_count": null,
   "metadata": {},
   "outputs": [],
   "source": [
    "model_result = pd.read_pickle(files_from_session_as_list[0])\n",
    "model_result"
   ]
  },
  {
   "cell_type": "code",
   "execution_count": null,
   "metadata": {},
   "outputs": [],
   "source": [
    "accuracy_dict = {}\n",
    "for each_file in files_from_session_as_list:\n",
    "    # print(each_file)\n",
    "    model_result = pd.read_pickle(each_file)\n",
    "    accuracy_dict[each_file] = model_result['acc'].item()\n",
    "accuracy_dict"
   ]
  },
  {
   "cell_type": "code",
   "execution_count": null,
   "metadata": {},
   "outputs": [],
   "source": [
    "all_models_results_ordered = dict(sorted(accuracy_dict.items(), key=lambda item: item[1], reverse=True))\n",
    "print(len(all_models_results_ordered))\n",
    "all_models_results_ordered\n"
   ]
  },
  {
   "cell_type": "code",
   "execution_count": null,
   "metadata": {},
   "outputs": [],
   "source": [
    "logrec_result_df = pd.DataFrame(all_models_results_ordered.items())\n",
    "logrec_result_df = logrec_result_df.rename(columns={1:'acc'})\n",
    "logrec_result_df"
   ]
  },
  {
   "cell_type": "code",
   "execution_count": null,
   "metadata": {},
   "outputs": [],
   "source": [
    "logrec_result_df[[\"folder\", \"feature\", \"user\"]] = pd.DataFrame(logrec_result_df[0].str.split('/').to_list())\n",
    "logrec_result_df[[\"user\", \"session\"]]  = pd.DataFrame(logrec_result_df['user'].str.split('_').to_list())\n",
    "logrec_result_df"
   ]
  },
  {
   "cell_type": "code",
   "execution_count": null,
   "metadata": {},
   "outputs": [],
   "source": [
    "external_data_ref = datetime_now\n",
    "logrec_result_df = logrec_result_df[['user', 'session', 'feature', 'acc']].sort_values(['user', 'acc'], ascending=[False, False])\n",
    "logrec_result_df.to_csv(f\"{external_data_ref}_logreg_result_summary.csv\")\n",
    "logrec_result_df"
   ]
  },
  {
   "cell_type": "code",
   "execution_count": null,
   "metadata": {},
   "outputs": [],
   "source": [
    "print(f\"mean:{logrec_result_df.acc.mean():0.4f} / std:{logrec_result_df.acc.std():0.4f}\")"
   ]
  },
  {
   "cell_type": "code",
   "execution_count": null,
   "metadata": {},
   "outputs": [],
   "source": [
    "print(\"accuracy per user:\")\n",
    "logrec_result_df.groupby(['user','session','feature']).mean().sort_values('acc', ascending=False)"
   ]
  },
  {
   "attachments": {},
   "cell_type": "markdown",
   "metadata": {},
   "source": [
    "# LR for each band"
   ]
  },
  {
   "cell_type": "code",
   "execution_count": null,
   "metadata": {},
   "outputs": [],
   "source": [
    "datetime_now = datetime.now().strftime(\"%Y%m%d_%H%M\")\n",
    "external_data_ref = datetime.today().date().strftime(\"%Y%m%d\")\n",
    "\n",
    "full_lr_result_df = pd.DataFrame()\n",
    "all_features = ['de_LDS','psd_LDS', 'rasm_LDS', 'dasm_LDS', 'asm_LDS','dcau_LDS']\n",
    "\n",
    "for cur_feature in all_features:\n",
    "    for cur_freq_band in [\"delta\",\"theta\", \"alpha\", \"beta\", \"gamma\",\"all\"]:\n",
    "        filename_to_write = f\"{datetime_now}_all_LR_predictions_{cur_freq_band}.txt\"\n",
    "\n",
    "        os.system(f\"find 20230827_lr_eeg_1s_baseline_{cur_freq_band}/{cur_feature} -type f > {filename_to_write}\")\n",
    "\n",
    "        with open(filename_to_write, \"r\") as f:\n",
    "            files_from_session = f.read()\n",
    "\n",
    "        files_from_session_as_list = files_from_session.split(\"\\n\")\n",
    "        files_from_session_as_list = [cur_file_session for cur_file_session in files_from_session_as_list if len(cur_file_session)>1]\n",
    "        #print(len(files_from_session_as_list))\n",
    "        #print(files_from_session_as_list)\n",
    "\n",
    "        accuracy_dict = {}\n",
    "        for each_file in files_from_session_as_list:\n",
    "            # print(each_file)\n",
    "            model_result = pd.read_pickle(each_file)\n",
    "            accuracy_dict[each_file] = [model_result['acc'], model_result['n']]\n",
    "\n",
    "        all_models_results_ordered = dict(sorted(accuracy_dict.items(), key=lambda item: item[1], reverse=True))\n",
    "\n",
    "        lr_result_df = pd.DataFrame(all_models_results_ordered.items())\n",
    "        lr_result_df[['acc', 'param']] = pd.DataFrame(lr_result_df[1].to_list())\n",
    "        lr_result_df['param'] = lr_result_df['param'].apply(lambda x: {\"n\":x})\n",
    "        lr_result_df[[\"folder\", \"feature\", \"user\"]] = pd.DataFrame(lr_result_df[0].str.split('/').to_list())\n",
    "        lr_result_df[[\"user\", \"session\"]]  = pd.DataFrame(lr_result_df['user'].str.split('_').to_list())\n",
    "        lr_result_df = lr_result_df[['user', 'session', 'feature', 'param', 'acc']].sort_values(['user', 'acc'], ascending=[False, False])\n",
    "\n",
    "        # lr_result_df.to_csv(f\"{external_data_ref}_knn_result_summary_{cur_freq_band}.csv\")\n",
    "\n",
    "        # print(f\"{cur_freq_band} - mean:{lr_result_df.acc.mean():0.4f} / std:{lr_result_df.acc.std():0.4f}\")\n",
    "        print(f\"{lr_result_df.acc.mean():0.4f}/{lr_result_df.acc.std():0.4f}\")\n",
    "\n",
    "        lr_result_df['freq'] = cur_freq_band\n",
    "        full_lr_result_df = pd.concat([full_lr_result_df, lr_result_df])\n",
    "\n",
    "    full_lr_result_df.reset_index().to_csv(f\"{external_data_ref}_lr_result_summary_each_band_{cur_feature}.csv\")\n",
    "    print('\\n\\n')"
   ]
  },
  {
   "cell_type": "code",
   "execution_count": null,
   "metadata": {},
   "outputs": [],
   "source": [
    "full_lr_result_df"
   ]
  },
  {
   "cell_type": "code",
   "execution_count": null,
   "metadata": {},
   "outputs": [],
   "source": [
    "full_lr_result_df['acc'].round(4)/100"
   ]
  },
  {
   "cell_type": "code",
   "execution_count": null,
   "metadata": {},
   "outputs": [],
   "source": [
    "#full_lr_result_df['acc'] = full_lr_result_df['acc'].round(4)*100\n",
    "full_lr_result_df['acc'] = full_lr_result_df['acc'].round(4)/100\n",
    "\n",
    "#full_lr_result_df['user'] = full_lr_result_df['user'].astype(int)"
   ]
  },
  {
   "cell_type": "code",
   "execution_count": 204,
   "metadata": {},
   "outputs": [
    {
     "data": {
      "text/plain": [
       "freq\n",
       "all      77.346148\n",
       "alpha    60.213852\n",
       "beta     71.603296\n",
       "delta    51.666296\n",
       "gamma    72.524074\n",
       "theta    56.066370\n",
       "Name: acc, dtype: float64"
      ]
     },
     "execution_count": 204,
     "metadata": {},
     "output_type": "execute_result"
    }
   ],
   "source": [
    "full_lr_result_df.groupby(['freq'])['acc'].mean()"
   ]
  },
  {
   "cell_type": "code",
   "execution_count": 199,
   "metadata": {},
   "outputs": [
    {
     "data": {
      "text/html": [
       "<div>\n",
       "<style scoped>\n",
       "    .dataframe tbody tr th:only-of-type {\n",
       "        vertical-align: middle;\n",
       "    }\n",
       "\n",
       "    .dataframe tbody tr th {\n",
       "        vertical-align: top;\n",
       "    }\n",
       "\n",
       "    .dataframe thead tr th {\n",
       "        text-align: left;\n",
       "    }\n",
       "\n",
       "    .dataframe thead tr:last-of-type th {\n",
       "        text-align: right;\n",
       "    }\n",
       "</style>\n",
       "<table border=\"1\" class=\"dataframe\">\n",
       "  <thead>\n",
       "    <tr>\n",
       "      <th></th>\n",
       "      <th></th>\n",
       "      <th></th>\n",
       "      <th colspan=\"6\" halign=\"left\">acc</th>\n",
       "    </tr>\n",
       "    <tr>\n",
       "      <th></th>\n",
       "      <th></th>\n",
       "      <th>freq</th>\n",
       "      <th>all</th>\n",
       "      <th>alpha</th>\n",
       "      <th>beta</th>\n",
       "      <th>delta</th>\n",
       "      <th>gamma</th>\n",
       "      <th>theta</th>\n",
       "    </tr>\n",
       "    <tr>\n",
       "      <th>feature</th>\n",
       "      <th>user</th>\n",
       "      <th>session</th>\n",
       "      <th></th>\n",
       "      <th></th>\n",
       "      <th></th>\n",
       "      <th></th>\n",
       "      <th></th>\n",
       "      <th></th>\n",
       "    </tr>\n",
       "  </thead>\n",
       "  <tbody>\n",
       "    <tr>\n",
       "      <th rowspan=\"5\" valign=\"top\">asm_LDS</th>\n",
       "      <th rowspan=\"3\" valign=\"top\">1</th>\n",
       "      <th>20131027</th>\n",
       "      <td>97.40</td>\n",
       "      <td>67.12</td>\n",
       "      <td>86.99</td>\n",
       "      <td>66.18</td>\n",
       "      <td>97.04</td>\n",
       "      <td>49.35</td>\n",
       "    </tr>\n",
       "    <tr>\n",
       "      <th>20131030</th>\n",
       "      <td>70.09</td>\n",
       "      <td>32.80</td>\n",
       "      <td>66.26</td>\n",
       "      <td>42.63</td>\n",
       "      <td>52.67</td>\n",
       "      <td>73.12</td>\n",
       "    </tr>\n",
       "    <tr>\n",
       "      <th>20131107</th>\n",
       "      <td>77.53</td>\n",
       "      <td>35.19</td>\n",
       "      <td>53.11</td>\n",
       "      <td>44.29</td>\n",
       "      <td>56.58</td>\n",
       "      <td>53.47</td>\n",
       "    </tr>\n",
       "    <tr>\n",
       "      <th rowspan=\"2\" valign=\"top\">2</th>\n",
       "      <th>20140404</th>\n",
       "      <td>76.01</td>\n",
       "      <td>44.65</td>\n",
       "      <td>66.18</td>\n",
       "      <td>37.21</td>\n",
       "      <td>67.56</td>\n",
       "      <td>26.81</td>\n",
       "    </tr>\n",
       "    <tr>\n",
       "      <th>20140413</th>\n",
       "      <td>71.82</td>\n",
       "      <td>45.16</td>\n",
       "      <td>74.57</td>\n",
       "      <td>44.00</td>\n",
       "      <td>58.45</td>\n",
       "      <td>30.13</td>\n",
       "    </tr>\n",
       "    <tr>\n",
       "      <th>...</th>\n",
       "      <th>...</th>\n",
       "      <th>...</th>\n",
       "      <td>...</td>\n",
       "      <td>...</td>\n",
       "      <td>...</td>\n",
       "      <td>...</td>\n",
       "      <td>...</td>\n",
       "      <td>...</td>\n",
       "    </tr>\n",
       "    <tr>\n",
       "      <th rowspan=\"5\" valign=\"top\">rasm_LDS</th>\n",
       "      <th rowspan=\"2\" valign=\"top\">14</th>\n",
       "      <th>20140615</th>\n",
       "      <td>77.17</td>\n",
       "      <td>49.71</td>\n",
       "      <td>78.25</td>\n",
       "      <td>62.07</td>\n",
       "      <td>72.18</td>\n",
       "      <td>78.03</td>\n",
       "    </tr>\n",
       "    <tr>\n",
       "      <th>20140627</th>\n",
       "      <td>57.15</td>\n",
       "      <td>55.71</td>\n",
       "      <td>61.71</td>\n",
       "      <td>40.82</td>\n",
       "      <td>62.86</td>\n",
       "      <td>62.79</td>\n",
       "    </tr>\n",
       "    <tr>\n",
       "      <th rowspan=\"3\" valign=\"top\">15</th>\n",
       "      <th>20130709</th>\n",
       "      <td>91.18</td>\n",
       "      <td>51.16</td>\n",
       "      <td>88.37</td>\n",
       "      <td>25.58</td>\n",
       "      <td>89.31</td>\n",
       "      <td>45.81</td>\n",
       "    </tr>\n",
       "    <tr>\n",
       "      <th>20131016</th>\n",
       "      <td>96.53</td>\n",
       "      <td>79.41</td>\n",
       "      <td>93.64</td>\n",
       "      <td>47.76</td>\n",
       "      <td>74.28</td>\n",
       "      <td>69.73</td>\n",
       "    </tr>\n",
       "    <tr>\n",
       "      <th>20131105</th>\n",
       "      <td>100.00</td>\n",
       "      <td>82.59</td>\n",
       "      <td>100.00</td>\n",
       "      <td>45.52</td>\n",
       "      <td>95.59</td>\n",
       "      <td>55.85</td>\n",
       "    </tr>\n",
       "  </tbody>\n",
       "</table>\n",
       "<p>270 rows × 6 columns</p>\n",
       "</div>"
      ],
      "text/plain": [
       "                           acc                                    \n",
       "freq                       all  alpha    beta  delta  gamma  theta\n",
       "feature  user session                                             \n",
       "asm_LDS  1    20131027   97.40  67.12   86.99  66.18  97.04  49.35\n",
       "              20131030   70.09  32.80   66.26  42.63  52.67  73.12\n",
       "              20131107   77.53  35.19   53.11  44.29  56.58  53.47\n",
       "         2    20140404   76.01  44.65   66.18  37.21  67.56  26.81\n",
       "              20140413   71.82  45.16   74.57  44.00  58.45  30.13\n",
       "...                        ...    ...     ...    ...    ...    ...\n",
       "rasm_LDS 14   20140615   77.17  49.71   78.25  62.07  72.18  78.03\n",
       "              20140627   57.15  55.71   61.71  40.82  62.86  62.79\n",
       "         15   20130709   91.18  51.16   88.37  25.58  89.31  45.81\n",
       "              20131016   96.53  79.41   93.64  47.76  74.28  69.73\n",
       "              20131105  100.00  82.59  100.00  45.52  95.59  55.85\n",
       "\n",
       "[270 rows x 6 columns]"
      ]
     },
     "execution_count": 199,
     "metadata": {},
     "output_type": "execute_result"
    }
   ],
   "source": [
    "pivoted_table = full_lr_result_df.pivot_table(index=['feature','user','session'], columns=['freq'],values=['acc'])\n",
    "pivoted_table"
   ]
  },
  {
   "cell_type": "code",
   "execution_count": null,
   "metadata": {},
   "outputs": [],
   "source": [
    "pivoted_table.columns"
   ]
  },
  {
   "cell_type": "code",
   "execution_count": null,
   "metadata": {},
   "outputs": [],
   "source": [
    "#sorted(pivoted_table.index.levels[1].astype(int))\n",
    "#df1.index..astype(str)\n",
    "#df1.index.set_levels([idx.levels[:-1], idx.levels[-1].astype(str)]) = \n"
   ]
  },
  {
   "cell_type": "code",
   "execution_count": 187,
   "metadata": {},
   "outputs": [
    {
     "data": {
      "text/html": [
       "<div>\n",
       "<style scoped>\n",
       "    .dataframe tbody tr th:only-of-type {\n",
       "        vertical-align: middle;\n",
       "    }\n",
       "\n",
       "    .dataframe tbody tr th {\n",
       "        vertical-align: top;\n",
       "    }\n",
       "\n",
       "    .dataframe thead tr th {\n",
       "        text-align: left;\n",
       "    }\n",
       "\n",
       "    .dataframe thead tr:last-of-type th {\n",
       "        text-align: right;\n",
       "    }\n",
       "</style>\n",
       "<table border=\"1\" class=\"dataframe\">\n",
       "  <thead>\n",
       "    <tr>\n",
       "      <th></th>\n",
       "      <th></th>\n",
       "      <th></th>\n",
       "      <th colspan=\"6\" halign=\"left\">acc</th>\n",
       "    </tr>\n",
       "    <tr>\n",
       "      <th></th>\n",
       "      <th></th>\n",
       "      <th>freq</th>\n",
       "      <th>delta</th>\n",
       "      <th>theta</th>\n",
       "      <th>alpha</th>\n",
       "      <th>beta</th>\n",
       "      <th>gamma</th>\n",
       "      <th>all</th>\n",
       "    </tr>\n",
       "    <tr>\n",
       "      <th>feature</th>\n",
       "      <th>user</th>\n",
       "      <th>session</th>\n",
       "      <th></th>\n",
       "      <th></th>\n",
       "      <th></th>\n",
       "      <th></th>\n",
       "      <th></th>\n",
       "      <th></th>\n",
       "    </tr>\n",
       "  </thead>\n",
       "  <tbody>\n",
       "    <tr>\n",
       "      <th rowspan=\"5\" valign=\"top\">de_LDS</th>\n",
       "      <th rowspan=\"3\" valign=\"top\">1</th>\n",
       "      <th>20131027</th>\n",
       "      <td>56.58</td>\n",
       "      <td>85.19</td>\n",
       "      <td>82.15</td>\n",
       "      <td>88.22</td>\n",
       "      <td>82.15</td>\n",
       "      <td>95.30</td>\n",
       "    </tr>\n",
       "    <tr>\n",
       "      <th>20131030</th>\n",
       "      <td>60.84</td>\n",
       "      <td>71.97</td>\n",
       "      <td>51.73</td>\n",
       "      <td>63.08</td>\n",
       "      <td>73.55</td>\n",
       "      <td>79.55</td>\n",
       "    </tr>\n",
       "    <tr>\n",
       "      <th>20131107</th>\n",
       "      <td>45.66</td>\n",
       "      <td>69.44</td>\n",
       "      <td>53.61</td>\n",
       "      <td>61.20</td>\n",
       "      <td>56.00</td>\n",
       "      <td>70.09</td>\n",
       "    </tr>\n",
       "    <tr>\n",
       "      <th rowspan=\"2\" valign=\"top\">2</th>\n",
       "      <th>20140404</th>\n",
       "      <td>79.99</td>\n",
       "      <td>19.58</td>\n",
       "      <td>35.84</td>\n",
       "      <td>45.74</td>\n",
       "      <td>55.42</td>\n",
       "      <td>79.48</td>\n",
       "    </tr>\n",
       "    <tr>\n",
       "      <th>20140413</th>\n",
       "      <td>73.99</td>\n",
       "      <td>57.73</td>\n",
       "      <td>68.64</td>\n",
       "      <td>65.03</td>\n",
       "      <td>65.61</td>\n",
       "      <td>91.84</td>\n",
       "    </tr>\n",
       "    <tr>\n",
       "      <th>...</th>\n",
       "      <th>...</th>\n",
       "      <th>...</th>\n",
       "      <td>...</td>\n",
       "      <td>...</td>\n",
       "      <td>...</td>\n",
       "      <td>...</td>\n",
       "      <td>...</td>\n",
       "      <td>...</td>\n",
       "    </tr>\n",
       "    <tr>\n",
       "      <th rowspan=\"5\" valign=\"top\">dcau_LDS</th>\n",
       "      <th rowspan=\"2\" valign=\"top\">14</th>\n",
       "      <th>20140615</th>\n",
       "      <td>51.66</td>\n",
       "      <td>56.36</td>\n",
       "      <td>59.03</td>\n",
       "      <td>65.53</td>\n",
       "      <td>50.29</td>\n",
       "      <td>90.03</td>\n",
       "    </tr>\n",
       "    <tr>\n",
       "      <th>20140627</th>\n",
       "      <td>42.41</td>\n",
       "      <td>48.19</td>\n",
       "      <td>74.49</td>\n",
       "      <td>65.46</td>\n",
       "      <td>59.75</td>\n",
       "      <td>64.31</td>\n",
       "    </tr>\n",
       "    <tr>\n",
       "      <th rowspan=\"3\" valign=\"top\">15</th>\n",
       "      <th>20130709</th>\n",
       "      <td>55.56</td>\n",
       "      <td>32.30</td>\n",
       "      <td>59.47</td>\n",
       "      <td>71.53</td>\n",
       "      <td>90.61</td>\n",
       "      <td>83.74</td>\n",
       "    </tr>\n",
       "    <tr>\n",
       "      <th>20131016</th>\n",
       "      <td>64.67</td>\n",
       "      <td>55.78</td>\n",
       "      <td>79.99</td>\n",
       "      <td>100.00</td>\n",
       "      <td>92.05</td>\n",
       "      <td>98.48</td>\n",
       "    </tr>\n",
       "    <tr>\n",
       "      <th>20131105</th>\n",
       "      <td>69.44</td>\n",
       "      <td>58.31</td>\n",
       "      <td>73.99</td>\n",
       "      <td>98.92</td>\n",
       "      <td>95.95</td>\n",
       "      <td>100.00</td>\n",
       "    </tr>\n",
       "  </tbody>\n",
       "</table>\n",
       "<p>270 rows × 6 columns</p>\n",
       "</div>"
      ],
      "text/plain": [
       "                          acc                                     \n",
       "freq                    delta  theta  alpha    beta  gamma     all\n",
       "feature  user session                                             \n",
       "de_LDS   1    20131027  56.58  85.19  82.15   88.22  82.15   95.30\n",
       "              20131030  60.84  71.97  51.73   63.08  73.55   79.55\n",
       "              20131107  45.66  69.44  53.61   61.20  56.00   70.09\n",
       "         2    20140404  79.99  19.58  35.84   45.74  55.42   79.48\n",
       "              20140413  73.99  57.73  68.64   65.03  65.61   91.84\n",
       "...                       ...    ...    ...     ...    ...     ...\n",
       "dcau_LDS 14   20140615  51.66  56.36  59.03   65.53  50.29   90.03\n",
       "              20140627  42.41  48.19  74.49   65.46  59.75   64.31\n",
       "         15   20130709  55.56  32.30  59.47   71.53  90.61   83.74\n",
       "              20131016  64.67  55.78  79.99  100.00  92.05   98.48\n",
       "              20131105  69.44  58.31  73.99   98.92  95.95  100.00\n",
       "\n",
       "[270 rows x 6 columns]"
      ]
     },
     "execution_count": 187,
     "metadata": {},
     "output_type": "execute_result"
    }
   ],
   "source": [
    "pivoted_table = pivoted_table.reindex([\"delta\",\"theta\", \"alpha\", \"beta\", \"gamma\", \"all\"],axis=1,level=1)\\\n",
    "    .reindex(['de_LDS','psd_LDS', 'rasm_LDS', 'dasm_LDS', 'asm_LDS','dcau_LDS'],axis=0, level=0)\n",
    "pivoted_table"
   ]
  },
  {
   "cell_type": "code",
   "execution_count": null,
   "metadata": {},
   "outputs": [],
   "source": [
    "pivoted_table.round(2).to_csv(f'{datetime_now}_lr_result_summary_FULL_REPORT.csv')"
   ]
  },
  {
   "cell_type": "code",
   "execution_count": null,
   "metadata": {},
   "outputs": [],
   "source": [
    "# Media Por individuo\n",
    "full_lr_result_df.pivot_table(index=['feature','user'], columns=['freq'],values=['acc'])\\\n",
    "    .reindex([\"delta\",\"theta\", \"alpha\", \"beta\", \"gamma\", \"all\"],axis=1,level=1)\\\n",
    "    .reindex(['de_LDS','psd_LDS', 'rasm_LDS', 'dasm_LDS', 'asm_LDS','dcau_LDS'],axis=0, level=0)\n"
   ]
  },
  {
   "cell_type": "code",
   "execution_count": 197,
   "metadata": {},
   "outputs": [
    {
     "data": {
      "text/html": [
       "<div>\n",
       "<style scoped>\n",
       "    .dataframe tbody tr th:only-of-type {\n",
       "        vertical-align: middle;\n",
       "    }\n",
       "\n",
       "    .dataframe tbody tr th {\n",
       "        vertical-align: top;\n",
       "    }\n",
       "\n",
       "    .dataframe thead tr th {\n",
       "        text-align: left;\n",
       "    }\n",
       "\n",
       "    .dataframe thead tr:last-of-type th {\n",
       "        text-align: right;\n",
       "    }\n",
       "</style>\n",
       "<table border=\"1\" class=\"dataframe\">\n",
       "  <thead>\n",
       "    <tr>\n",
       "      <th></th>\n",
       "      <th colspan=\"6\" halign=\"left\">acc</th>\n",
       "    </tr>\n",
       "    <tr>\n",
       "      <th></th>\n",
       "      <th colspan=\"6\" halign=\"left\">mean</th>\n",
       "    </tr>\n",
       "    <tr>\n",
       "      <th>freq</th>\n",
       "      <th>all</th>\n",
       "      <th>alpha</th>\n",
       "      <th>beta</th>\n",
       "      <th>delta</th>\n",
       "      <th>gamma</th>\n",
       "      <th>theta</th>\n",
       "    </tr>\n",
       "    <tr>\n",
       "      <th>feature</th>\n",
       "      <th></th>\n",
       "      <th></th>\n",
       "      <th></th>\n",
       "      <th></th>\n",
       "      <th></th>\n",
       "      <th></th>\n",
       "    </tr>\n",
       "  </thead>\n",
       "  <tbody>\n",
       "    <tr>\n",
       "      <th>de_LDS</th>\n",
       "      <td>82.458000</td>\n",
       "      <td>67.577111</td>\n",
       "      <td>76.711333</td>\n",
       "      <td>61.183778</td>\n",
       "      <td>74.342889</td>\n",
       "      <td>65.322889</td>\n",
       "    </tr>\n",
       "    <tr>\n",
       "      <th>psd_LDS</th>\n",
       "      <td>75.444667</td>\n",
       "      <td>62.814889</td>\n",
       "      <td>67.869556</td>\n",
       "      <td>58.661556</td>\n",
       "      <td>67.085778</td>\n",
       "      <td>66.016889</td>\n",
       "    </tr>\n",
       "    <tr>\n",
       "      <th>rasm_LDS</th>\n",
       "      <td>75.342222</td>\n",
       "      <td>56.423111</td>\n",
       "      <td>71.021111</td>\n",
       "      <td>45.306444</td>\n",
       "      <td>73.413111</td>\n",
       "      <td>49.851778</td>\n",
       "    </tr>\n",
       "    <tr>\n",
       "      <th>dasm_LDS</th>\n",
       "      <td>75.405778</td>\n",
       "      <td>56.568667</td>\n",
       "      <td>71.122444</td>\n",
       "      <td>45.715111</td>\n",
       "      <td>73.392667</td>\n",
       "      <td>49.933778</td>\n",
       "    </tr>\n",
       "    <tr>\n",
       "      <th>asm_LDS</th>\n",
       "      <td>74.732222</td>\n",
       "      <td>56.923333</td>\n",
       "      <td>70.708667</td>\n",
       "      <td>45.356222</td>\n",
       "      <td>73.048667</td>\n",
       "      <td>50.048222</td>\n",
       "    </tr>\n",
       "    <tr>\n",
       "      <th>dcau_LDS</th>\n",
       "      <td>80.694000</td>\n",
       "      <td>60.976000</td>\n",
       "      <td>72.186667</td>\n",
       "      <td>53.774667</td>\n",
       "      <td>73.861333</td>\n",
       "      <td>55.224667</td>\n",
       "    </tr>\n",
       "  </tbody>\n",
       "</table>\n",
       "</div>"
      ],
      "text/plain": [
       "                acc                                                       \n",
       "               mean                                                       \n",
       "freq            all      alpha       beta      delta      gamma      theta\n",
       "feature                                                                   \n",
       "de_LDS    82.458000  67.577111  76.711333  61.183778  74.342889  65.322889\n",
       "psd_LDS   75.444667  62.814889  67.869556  58.661556  67.085778  66.016889\n",
       "rasm_LDS  75.342222  56.423111  71.021111  45.306444  73.413111  49.851778\n",
       "dasm_LDS  75.405778  56.568667  71.122444  45.715111  73.392667  49.933778\n",
       "asm_LDS   74.732222  56.923333  70.708667  45.356222  73.048667  50.048222\n",
       "dcau_LDS  80.694000  60.976000  72.186667  53.774667  73.861333  55.224667"
      ]
     },
     "execution_count": 197,
     "metadata": {},
     "output_type": "execute_result"
    }
   ],
   "source": [
    "full_lr_result_df.pivot_table(index=['feature'], columns=['freq'],values=['acc'],aggfunc={'acc':[np.mean]})\\\n",
    "    .reindex(['de_LDS','psd_LDS', 'rasm_LDS', 'dasm_LDS', 'asm_LDS','dcau_LDS'],axis=0)\n"
   ]
  },
  {
   "cell_type": "code",
   "execution_count": 188,
   "metadata": {},
   "outputs": [
    {
     "data": {
      "text/html": [
       "<div>\n",
       "<style scoped>\n",
       "    .dataframe tbody tr th:only-of-type {\n",
       "        vertical-align: middle;\n",
       "    }\n",
       "\n",
       "    .dataframe tbody tr th {\n",
       "        vertical-align: top;\n",
       "    }\n",
       "\n",
       "    .dataframe thead tr th {\n",
       "        text-align: left;\n",
       "    }\n",
       "\n",
       "    .dataframe thead tr:last-of-type th {\n",
       "        text-align: right;\n",
       "    }\n",
       "</style>\n",
       "<table border=\"1\" class=\"dataframe\">\n",
       "  <thead>\n",
       "    <tr>\n",
       "      <th></th>\n",
       "      <th colspan=\"12\" halign=\"left\">acc</th>\n",
       "    </tr>\n",
       "    <tr>\n",
       "      <th></th>\n",
       "      <th colspan=\"6\" halign=\"left\">mean</th>\n",
       "      <th colspan=\"6\" halign=\"left\">std</th>\n",
       "    </tr>\n",
       "    <tr>\n",
       "      <th>freq</th>\n",
       "      <th>all</th>\n",
       "      <th>alpha</th>\n",
       "      <th>beta</th>\n",
       "      <th>delta</th>\n",
       "      <th>gamma</th>\n",
       "      <th>theta</th>\n",
       "      <th>all</th>\n",
       "      <th>alpha</th>\n",
       "      <th>beta</th>\n",
       "      <th>delta</th>\n",
       "      <th>gamma</th>\n",
       "      <th>theta</th>\n",
       "    </tr>\n",
       "    <tr>\n",
       "      <th>feature</th>\n",
       "      <th></th>\n",
       "      <th></th>\n",
       "      <th></th>\n",
       "      <th></th>\n",
       "      <th></th>\n",
       "      <th></th>\n",
       "      <th></th>\n",
       "      <th></th>\n",
       "      <th></th>\n",
       "      <th></th>\n",
       "      <th></th>\n",
       "      <th></th>\n",
       "    </tr>\n",
       "  </thead>\n",
       "  <tbody>\n",
       "    <tr>\n",
       "      <th>asm_LDS</th>\n",
       "      <td>74.732222</td>\n",
       "      <td>56.923333</td>\n",
       "      <td>70.708667</td>\n",
       "      <td>45.356222</td>\n",
       "      <td>73.048667</td>\n",
       "      <td>50.048222</td>\n",
       "      <td>15.477118</td>\n",
       "      <td>14.269027</td>\n",
       "      <td>17.961062</td>\n",
       "      <td>12.947141</td>\n",
       "      <td>16.588951</td>\n",
       "      <td>15.562169</td>\n",
       "    </tr>\n",
       "    <tr>\n",
       "      <th>dasm_LDS</th>\n",
       "      <td>75.405778</td>\n",
       "      <td>56.568667</td>\n",
       "      <td>71.122444</td>\n",
       "      <td>45.715111</td>\n",
       "      <td>73.392667</td>\n",
       "      <td>49.933778</td>\n",
       "      <td>15.531563</td>\n",
       "      <td>14.538417</td>\n",
       "      <td>17.714376</td>\n",
       "      <td>12.800312</td>\n",
       "      <td>16.104540</td>\n",
       "      <td>15.673062</td>\n",
       "    </tr>\n",
       "    <tr>\n",
       "      <th>dcau_LDS</th>\n",
       "      <td>80.694000</td>\n",
       "      <td>60.976000</td>\n",
       "      <td>72.186667</td>\n",
       "      <td>53.774667</td>\n",
       "      <td>73.861333</td>\n",
       "      <td>55.224667</td>\n",
       "      <td>11.724812</td>\n",
       "      <td>14.922011</td>\n",
       "      <td>17.312604</td>\n",
       "      <td>15.154159</td>\n",
       "      <td>17.742180</td>\n",
       "      <td>15.723545</td>\n",
       "    </tr>\n",
       "    <tr>\n",
       "      <th>de_LDS</th>\n",
       "      <td>82.458000</td>\n",
       "      <td>67.577111</td>\n",
       "      <td>76.711333</td>\n",
       "      <td>61.183778</td>\n",
       "      <td>74.342889</td>\n",
       "      <td>65.322889</td>\n",
       "      <td>11.111227</td>\n",
       "      <td>13.744776</td>\n",
       "      <td>14.329133</td>\n",
       "      <td>13.708993</td>\n",
       "      <td>15.733859</td>\n",
       "      <td>14.160092</td>\n",
       "    </tr>\n",
       "    <tr>\n",
       "      <th>psd_LDS</th>\n",
       "      <td>75.444667</td>\n",
       "      <td>62.814889</td>\n",
       "      <td>67.869556</td>\n",
       "      <td>58.661556</td>\n",
       "      <td>67.085778</td>\n",
       "      <td>66.016889</td>\n",
       "      <td>15.017445</td>\n",
       "      <td>17.225728</td>\n",
       "      <td>18.090502</td>\n",
       "      <td>15.661419</td>\n",
       "      <td>15.917743</td>\n",
       "      <td>12.916974</td>\n",
       "    </tr>\n",
       "    <tr>\n",
       "      <th>rasm_LDS</th>\n",
       "      <td>75.342222</td>\n",
       "      <td>56.423111</td>\n",
       "      <td>71.021111</td>\n",
       "      <td>45.306444</td>\n",
       "      <td>73.413111</td>\n",
       "      <td>49.851778</td>\n",
       "      <td>15.555075</td>\n",
       "      <td>14.698551</td>\n",
       "      <td>17.923468</td>\n",
       "      <td>12.827995</td>\n",
       "      <td>16.252268</td>\n",
       "      <td>15.545804</td>\n",
       "    </tr>\n",
       "  </tbody>\n",
       "</table>\n",
       "</div>"
      ],
      "text/plain": [
       "                acc                                                         \\\n",
       "               mean                                                          \n",
       "freq            all      alpha       beta      delta      gamma      theta   \n",
       "feature                                                                      \n",
       "asm_LDS   74.732222  56.923333  70.708667  45.356222  73.048667  50.048222   \n",
       "dasm_LDS  75.405778  56.568667  71.122444  45.715111  73.392667  49.933778   \n",
       "dcau_LDS  80.694000  60.976000  72.186667  53.774667  73.861333  55.224667   \n",
       "de_LDS    82.458000  67.577111  76.711333  61.183778  74.342889  65.322889   \n",
       "psd_LDS   75.444667  62.814889  67.869556  58.661556  67.085778  66.016889   \n",
       "rasm_LDS  75.342222  56.423111  71.021111  45.306444  73.413111  49.851778   \n",
       "\n",
       "                                                                            \n",
       "                std                                                         \n",
       "freq            all      alpha       beta      delta      gamma      theta  \n",
       "feature                                                                     \n",
       "asm_LDS   15.477118  14.269027  17.961062  12.947141  16.588951  15.562169  \n",
       "dasm_LDS  15.531563  14.538417  17.714376  12.800312  16.104540  15.673062  \n",
       "dcau_LDS  11.724812  14.922011  17.312604  15.154159  17.742180  15.723545  \n",
       "de_LDS    11.111227  13.744776  14.329133  13.708993  15.733859  14.160092  \n",
       "psd_LDS   15.017445  17.225728  18.090502  15.661419  15.917743  12.916974  \n",
       "rasm_LDS  15.555075  14.698551  17.923468  12.827995  16.252268  15.545804  "
      ]
     },
     "execution_count": 188,
     "metadata": {},
     "output_type": "execute_result"
    }
   ],
   "source": [
    "# Media Por feature\n",
    "analysing_std_and_mean = full_lr_result_df.pivot_table(index=['feature'], columns=['freq'],values=['acc'],aggfunc={'acc':[np.mean,np.std]})\n",
    "# \\\n",
    "#     .reindex([\"delta\",\"theta\", \"alpha\", \"beta\", \"gamma\", \"all\"],axis=1,level=1)\\\n",
    "#     .reindex(['de_LDS','psd_LDS', 'rasm_LDS', 'dasm_LDS', 'asm_LDS','dcau_LDS'],axis=0)\n",
    "analysing_std_and_mean"
   ]
  },
  {
   "cell_type": "code",
   "execution_count": null,
   "metadata": {},
   "outputs": [],
   "source": [
    "analysing_std_and_mean.columns"
   ]
  },
  {
   "cell_type": "code",
   "execution_count": 189,
   "metadata": {},
   "outputs": [
    {
     "name": "stdout",
     "output_type": "stream",
     "text": [
      "MultiIndex([('acc',   'all', 'mean'),\n",
      "            ('acc', 'alpha', 'mean'),\n",
      "            ('acc',  'beta', 'mean'),\n",
      "            ('acc', 'delta', 'mean'),\n",
      "            ('acc', 'gamma', 'mean'),\n",
      "            ('acc', 'theta', 'mean'),\n",
      "            ('acc',   'all',  'std'),\n",
      "            ('acc', 'alpha',  'std'),\n",
      "            ('acc',  'beta',  'std'),\n",
      "            ('acc', 'delta',  'std'),\n",
      "            ('acc', 'gamma',  'std'),\n",
      "            ('acc', 'theta',  'std')],\n",
      "           names=[None, 'freq', None])\n"
     ]
    },
    {
     "data": {
      "text/html": [
       "<div>\n",
       "<style scoped>\n",
       "    .dataframe tbody tr th:only-of-type {\n",
       "        vertical-align: middle;\n",
       "    }\n",
       "\n",
       "    .dataframe tbody tr th {\n",
       "        vertical-align: top;\n",
       "    }\n",
       "\n",
       "    .dataframe thead tr th {\n",
       "        text-align: left;\n",
       "    }\n",
       "\n",
       "    .dataframe thead tr:last-of-type th {\n",
       "        text-align: right;\n",
       "    }\n",
       "</style>\n",
       "<table border=\"1\" class=\"dataframe\">\n",
       "  <thead>\n",
       "    <tr>\n",
       "      <th></th>\n",
       "      <th colspan=\"12\" halign=\"left\">acc</th>\n",
       "    </tr>\n",
       "    <tr>\n",
       "      <th>freq</th>\n",
       "      <th>all</th>\n",
       "      <th>alpha</th>\n",
       "      <th>beta</th>\n",
       "      <th>delta</th>\n",
       "      <th>gamma</th>\n",
       "      <th>theta</th>\n",
       "      <th>all</th>\n",
       "      <th>alpha</th>\n",
       "      <th>beta</th>\n",
       "      <th>delta</th>\n",
       "      <th>gamma</th>\n",
       "      <th>theta</th>\n",
       "    </tr>\n",
       "    <tr>\n",
       "      <th></th>\n",
       "      <th>mean</th>\n",
       "      <th>mean</th>\n",
       "      <th>mean</th>\n",
       "      <th>mean</th>\n",
       "      <th>mean</th>\n",
       "      <th>mean</th>\n",
       "      <th>std</th>\n",
       "      <th>std</th>\n",
       "      <th>std</th>\n",
       "      <th>std</th>\n",
       "      <th>std</th>\n",
       "      <th>std</th>\n",
       "    </tr>\n",
       "    <tr>\n",
       "      <th>feature</th>\n",
       "      <th></th>\n",
       "      <th></th>\n",
       "      <th></th>\n",
       "      <th></th>\n",
       "      <th></th>\n",
       "      <th></th>\n",
       "      <th></th>\n",
       "      <th></th>\n",
       "      <th></th>\n",
       "      <th></th>\n",
       "      <th></th>\n",
       "      <th></th>\n",
       "    </tr>\n",
       "  </thead>\n",
       "  <tbody>\n",
       "    <tr>\n",
       "      <th>asm_LDS</th>\n",
       "      <td>74.732222</td>\n",
       "      <td>56.923333</td>\n",
       "      <td>70.708667</td>\n",
       "      <td>45.356222</td>\n",
       "      <td>73.048667</td>\n",
       "      <td>50.048222</td>\n",
       "      <td>15.477118</td>\n",
       "      <td>14.269027</td>\n",
       "      <td>17.961062</td>\n",
       "      <td>12.947141</td>\n",
       "      <td>16.588951</td>\n",
       "      <td>15.562169</td>\n",
       "    </tr>\n",
       "    <tr>\n",
       "      <th>dasm_LDS</th>\n",
       "      <td>75.405778</td>\n",
       "      <td>56.568667</td>\n",
       "      <td>71.122444</td>\n",
       "      <td>45.715111</td>\n",
       "      <td>73.392667</td>\n",
       "      <td>49.933778</td>\n",
       "      <td>15.531563</td>\n",
       "      <td>14.538417</td>\n",
       "      <td>17.714376</td>\n",
       "      <td>12.800312</td>\n",
       "      <td>16.104540</td>\n",
       "      <td>15.673062</td>\n",
       "    </tr>\n",
       "    <tr>\n",
       "      <th>dcau_LDS</th>\n",
       "      <td>80.694000</td>\n",
       "      <td>60.976000</td>\n",
       "      <td>72.186667</td>\n",
       "      <td>53.774667</td>\n",
       "      <td>73.861333</td>\n",
       "      <td>55.224667</td>\n",
       "      <td>11.724812</td>\n",
       "      <td>14.922011</td>\n",
       "      <td>17.312604</td>\n",
       "      <td>15.154159</td>\n",
       "      <td>17.742180</td>\n",
       "      <td>15.723545</td>\n",
       "    </tr>\n",
       "    <tr>\n",
       "      <th>de_LDS</th>\n",
       "      <td>82.458000</td>\n",
       "      <td>67.577111</td>\n",
       "      <td>76.711333</td>\n",
       "      <td>61.183778</td>\n",
       "      <td>74.342889</td>\n",
       "      <td>65.322889</td>\n",
       "      <td>11.111227</td>\n",
       "      <td>13.744776</td>\n",
       "      <td>14.329133</td>\n",
       "      <td>13.708993</td>\n",
       "      <td>15.733859</td>\n",
       "      <td>14.160092</td>\n",
       "    </tr>\n",
       "    <tr>\n",
       "      <th>psd_LDS</th>\n",
       "      <td>75.444667</td>\n",
       "      <td>62.814889</td>\n",
       "      <td>67.869556</td>\n",
       "      <td>58.661556</td>\n",
       "      <td>67.085778</td>\n",
       "      <td>66.016889</td>\n",
       "      <td>15.017445</td>\n",
       "      <td>17.225728</td>\n",
       "      <td>18.090502</td>\n",
       "      <td>15.661419</td>\n",
       "      <td>15.917743</td>\n",
       "      <td>12.916974</td>\n",
       "    </tr>\n",
       "    <tr>\n",
       "      <th>rasm_LDS</th>\n",
       "      <td>75.342222</td>\n",
       "      <td>56.423111</td>\n",
       "      <td>71.021111</td>\n",
       "      <td>45.306444</td>\n",
       "      <td>73.413111</td>\n",
       "      <td>49.851778</td>\n",
       "      <td>15.555075</td>\n",
       "      <td>14.698551</td>\n",
       "      <td>17.923468</td>\n",
       "      <td>12.827995</td>\n",
       "      <td>16.252268</td>\n",
       "      <td>15.545804</td>\n",
       "    </tr>\n",
       "  </tbody>\n",
       "</table>\n",
       "</div>"
      ],
      "text/plain": [
       "                acc                                                         \\\n",
       "freq            all      alpha       beta      delta      gamma      theta   \n",
       "               mean       mean       mean       mean       mean       mean   \n",
       "feature                                                                      \n",
       "asm_LDS   74.732222  56.923333  70.708667  45.356222  73.048667  50.048222   \n",
       "dasm_LDS  75.405778  56.568667  71.122444  45.715111  73.392667  49.933778   \n",
       "dcau_LDS  80.694000  60.976000  72.186667  53.774667  73.861333  55.224667   \n",
       "de_LDS    82.458000  67.577111  76.711333  61.183778  74.342889  65.322889   \n",
       "psd_LDS   75.444667  62.814889  67.869556  58.661556  67.085778  66.016889   \n",
       "rasm_LDS  75.342222  56.423111  71.021111  45.306444  73.413111  49.851778   \n",
       "\n",
       "                                                                            \n",
       "freq            all      alpha       beta      delta      gamma      theta  \n",
       "                std        std        std        std        std        std  \n",
       "feature                                                                     \n",
       "asm_LDS   15.477118  14.269027  17.961062  12.947141  16.588951  15.562169  \n",
       "dasm_LDS  15.531563  14.538417  17.714376  12.800312  16.104540  15.673062  \n",
       "dcau_LDS  11.724812  14.922011  17.312604  15.154159  17.742180  15.723545  \n",
       "de_LDS    11.111227  13.744776  14.329133  13.708993  15.733859  14.160092  \n",
       "psd_LDS   15.017445  17.225728  18.090502  15.661419  15.917743  12.916974  \n",
       "rasm_LDS  15.555075  14.698551  17.923468  12.827995  16.252268  15.545804  "
      ]
     },
     "execution_count": 189,
     "metadata": {},
     "output_type": "execute_result"
    }
   ],
   "source": [
    "analysing_std_and_mean.columns = analysing_std_and_mean.columns.reorder_levels(order=[0,2,1])\n",
    "print(analysing_std_and_mean.columns)\n",
    "analysing_std_and_mean"
   ]
  },
  {
   "cell_type": "code",
   "execution_count": null,
   "metadata": {},
   "outputs": [],
   "source": [
    "#quase la\n",
    "analysing_std_and_mean.stack()"
   ]
  },
  {
   "cell_type": "code",
   "execution_count": null,
   "metadata": {},
   "outputs": [],
   "source": [
    "# analysing_std_and_mean.columns.get_level_values(0)"
   ]
  },
  {
   "cell_type": "code",
   "execution_count": null,
   "metadata": {},
   "outputs": [],
   "source": [
    "analysing_std_and_mean.columns"
   ]
  },
  {
   "cell_type": "code",
   "execution_count": 190,
   "metadata": {},
   "outputs": [
    {
     "data": {
      "text/html": [
       "<div>\n",
       "<style scoped>\n",
       "    .dataframe tbody tr th:only-of-type {\n",
       "        vertical-align: middle;\n",
       "    }\n",
       "\n",
       "    .dataframe tbody tr th {\n",
       "        vertical-align: top;\n",
       "    }\n",
       "\n",
       "    .dataframe thead th {\n",
       "        text-align: right;\n",
       "    }\n",
       "</style>\n",
       "<table border=\"1\" class=\"dataframe\">\n",
       "  <thead>\n",
       "    <tr style=\"text-align: right;\">\n",
       "      <th></th>\n",
       "      <th>acc_all_mean</th>\n",
       "      <th>acc_alpha_mean</th>\n",
       "      <th>acc_beta_mean</th>\n",
       "      <th>acc_delta_mean</th>\n",
       "      <th>acc_gamma_mean</th>\n",
       "      <th>acc_theta_mean</th>\n",
       "      <th>acc_all_std</th>\n",
       "      <th>acc_alpha_std</th>\n",
       "      <th>acc_beta_std</th>\n",
       "      <th>acc_delta_std</th>\n",
       "      <th>acc_gamma_std</th>\n",
       "      <th>acc_theta_std</th>\n",
       "    </tr>\n",
       "    <tr>\n",
       "      <th>feature</th>\n",
       "      <th></th>\n",
       "      <th></th>\n",
       "      <th></th>\n",
       "      <th></th>\n",
       "      <th></th>\n",
       "      <th></th>\n",
       "      <th></th>\n",
       "      <th></th>\n",
       "      <th></th>\n",
       "      <th></th>\n",
       "      <th></th>\n",
       "      <th></th>\n",
       "    </tr>\n",
       "  </thead>\n",
       "  <tbody>\n",
       "    <tr>\n",
       "      <th>asm_LDS</th>\n",
       "      <td>74.732222</td>\n",
       "      <td>56.923333</td>\n",
       "      <td>70.708667</td>\n",
       "      <td>45.356222</td>\n",
       "      <td>73.048667</td>\n",
       "      <td>50.048222</td>\n",
       "      <td>15.477118</td>\n",
       "      <td>14.269027</td>\n",
       "      <td>17.961062</td>\n",
       "      <td>12.947141</td>\n",
       "      <td>16.588951</td>\n",
       "      <td>15.562169</td>\n",
       "    </tr>\n",
       "    <tr>\n",
       "      <th>dasm_LDS</th>\n",
       "      <td>75.405778</td>\n",
       "      <td>56.568667</td>\n",
       "      <td>71.122444</td>\n",
       "      <td>45.715111</td>\n",
       "      <td>73.392667</td>\n",
       "      <td>49.933778</td>\n",
       "      <td>15.531563</td>\n",
       "      <td>14.538417</td>\n",
       "      <td>17.714376</td>\n",
       "      <td>12.800312</td>\n",
       "      <td>16.104540</td>\n",
       "      <td>15.673062</td>\n",
       "    </tr>\n",
       "    <tr>\n",
       "      <th>dcau_LDS</th>\n",
       "      <td>80.694000</td>\n",
       "      <td>60.976000</td>\n",
       "      <td>72.186667</td>\n",
       "      <td>53.774667</td>\n",
       "      <td>73.861333</td>\n",
       "      <td>55.224667</td>\n",
       "      <td>11.724812</td>\n",
       "      <td>14.922011</td>\n",
       "      <td>17.312604</td>\n",
       "      <td>15.154159</td>\n",
       "      <td>17.742180</td>\n",
       "      <td>15.723545</td>\n",
       "    </tr>\n",
       "    <tr>\n",
       "      <th>de_LDS</th>\n",
       "      <td>82.458000</td>\n",
       "      <td>67.577111</td>\n",
       "      <td>76.711333</td>\n",
       "      <td>61.183778</td>\n",
       "      <td>74.342889</td>\n",
       "      <td>65.322889</td>\n",
       "      <td>11.111227</td>\n",
       "      <td>13.744776</td>\n",
       "      <td>14.329133</td>\n",
       "      <td>13.708993</td>\n",
       "      <td>15.733859</td>\n",
       "      <td>14.160092</td>\n",
       "    </tr>\n",
       "    <tr>\n",
       "      <th>psd_LDS</th>\n",
       "      <td>75.444667</td>\n",
       "      <td>62.814889</td>\n",
       "      <td>67.869556</td>\n",
       "      <td>58.661556</td>\n",
       "      <td>67.085778</td>\n",
       "      <td>66.016889</td>\n",
       "      <td>15.017445</td>\n",
       "      <td>17.225728</td>\n",
       "      <td>18.090502</td>\n",
       "      <td>15.661419</td>\n",
       "      <td>15.917743</td>\n",
       "      <td>12.916974</td>\n",
       "    </tr>\n",
       "    <tr>\n",
       "      <th>rasm_LDS</th>\n",
       "      <td>75.342222</td>\n",
       "      <td>56.423111</td>\n",
       "      <td>71.021111</td>\n",
       "      <td>45.306444</td>\n",
       "      <td>73.413111</td>\n",
       "      <td>49.851778</td>\n",
       "      <td>15.555075</td>\n",
       "      <td>14.698551</td>\n",
       "      <td>17.923468</td>\n",
       "      <td>12.827995</td>\n",
       "      <td>16.252268</td>\n",
       "      <td>15.545804</td>\n",
       "    </tr>\n",
       "  </tbody>\n",
       "</table>\n",
       "</div>"
      ],
      "text/plain": [
       "          acc_all_mean  acc_alpha_mean  acc_beta_mean  acc_delta_mean  \\\n",
       "feature                                                                 \n",
       "asm_LDS      74.732222       56.923333      70.708667       45.356222   \n",
       "dasm_LDS     75.405778       56.568667      71.122444       45.715111   \n",
       "dcau_LDS     80.694000       60.976000      72.186667       53.774667   \n",
       "de_LDS       82.458000       67.577111      76.711333       61.183778   \n",
       "psd_LDS      75.444667       62.814889      67.869556       58.661556   \n",
       "rasm_LDS     75.342222       56.423111      71.021111       45.306444   \n",
       "\n",
       "          acc_gamma_mean  acc_theta_mean  acc_all_std  acc_alpha_std  \\\n",
       "feature                                                                \n",
       "asm_LDS        73.048667       50.048222    15.477118      14.269027   \n",
       "dasm_LDS       73.392667       49.933778    15.531563      14.538417   \n",
       "dcau_LDS       73.861333       55.224667    11.724812      14.922011   \n",
       "de_LDS         74.342889       65.322889    11.111227      13.744776   \n",
       "psd_LDS        67.085778       66.016889    15.017445      17.225728   \n",
       "rasm_LDS       73.413111       49.851778    15.555075      14.698551   \n",
       "\n",
       "          acc_beta_std  acc_delta_std  acc_gamma_std  acc_theta_std  \n",
       "feature                                                              \n",
       "asm_LDS      17.961062      12.947141      16.588951      15.562169  \n",
       "dasm_LDS     17.714376      12.800312      16.104540      15.673062  \n",
       "dcau_LDS     17.312604      15.154159      17.742180      15.723545  \n",
       "de_LDS       14.329133      13.708993      15.733859      14.160092  \n",
       "psd_LDS      18.090502      15.661419      15.917743      12.916974  \n",
       "rasm_LDS     17.923468      12.827995      16.252268      15.545804  "
      ]
     },
     "execution_count": 190,
     "metadata": {},
     "output_type": "execute_result"
    }
   ],
   "source": [
    "analysing_std_and_mean.columns = ['_'.join(col) for col in analysing_std_and_mean.columns]\n",
    "analysing_std_and_mean"
   ]
  },
  {
   "cell_type": "code",
   "execution_count": 191,
   "metadata": {},
   "outputs": [
    {
     "data": {
      "text/html": [
       "<div>\n",
       "<style scoped>\n",
       "    .dataframe tbody tr th:only-of-type {\n",
       "        vertical-align: middle;\n",
       "    }\n",
       "\n",
       "    .dataframe tbody tr th {\n",
       "        vertical-align: top;\n",
       "    }\n",
       "\n",
       "    .dataframe thead th {\n",
       "        text-align: right;\n",
       "    }\n",
       "</style>\n",
       "<table border=\"1\" class=\"dataframe\">\n",
       "  <thead>\n",
       "    <tr style=\"text-align: right;\">\n",
       "      <th></th>\n",
       "      <th>acc_all_together</th>\n",
       "      <th>acc_alpha_together</th>\n",
       "      <th>acc_beta_together</th>\n",
       "      <th>acc_delta_together</th>\n",
       "      <th>acc_gamma_together</th>\n",
       "      <th>acc_theta_together</th>\n",
       "    </tr>\n",
       "    <tr>\n",
       "      <th>feature</th>\n",
       "      <th></th>\n",
       "      <th></th>\n",
       "      <th></th>\n",
       "      <th></th>\n",
       "      <th></th>\n",
       "      <th></th>\n",
       "    </tr>\n",
       "  </thead>\n",
       "  <tbody>\n",
       "    <tr>\n",
       "      <th>asm_LDS</th>\n",
       "      <td>74.73/15.48</td>\n",
       "      <td>56.92/14.27</td>\n",
       "      <td>70.71/17.96</td>\n",
       "      <td>45.36/12.95</td>\n",
       "      <td>73.05/16.59</td>\n",
       "      <td>50.05/15.56</td>\n",
       "    </tr>\n",
       "    <tr>\n",
       "      <th>dasm_LDS</th>\n",
       "      <td>75.41/15.53</td>\n",
       "      <td>56.57/14.54</td>\n",
       "      <td>71.12/17.71</td>\n",
       "      <td>45.72/12.8</td>\n",
       "      <td>73.39/16.1</td>\n",
       "      <td>49.93/15.67</td>\n",
       "    </tr>\n",
       "    <tr>\n",
       "      <th>dcau_LDS</th>\n",
       "      <td>80.69/11.72</td>\n",
       "      <td>60.98/14.92</td>\n",
       "      <td>72.19/17.31</td>\n",
       "      <td>53.77/15.15</td>\n",
       "      <td>73.86/17.74</td>\n",
       "      <td>55.22/15.72</td>\n",
       "    </tr>\n",
       "    <tr>\n",
       "      <th>de_LDS</th>\n",
       "      <td>82.46/11.11</td>\n",
       "      <td>67.58/13.74</td>\n",
       "      <td>76.71/14.33</td>\n",
       "      <td>61.18/13.71</td>\n",
       "      <td>74.34/15.73</td>\n",
       "      <td>65.32/14.16</td>\n",
       "    </tr>\n",
       "    <tr>\n",
       "      <th>psd_LDS</th>\n",
       "      <td>75.44/15.02</td>\n",
       "      <td>62.81/17.23</td>\n",
       "      <td>67.87/18.09</td>\n",
       "      <td>58.66/15.66</td>\n",
       "      <td>67.09/15.92</td>\n",
       "      <td>66.02/12.92</td>\n",
       "    </tr>\n",
       "    <tr>\n",
       "      <th>rasm_LDS</th>\n",
       "      <td>75.34/15.56</td>\n",
       "      <td>56.42/14.7</td>\n",
       "      <td>71.02/17.92</td>\n",
       "      <td>45.31/12.83</td>\n",
       "      <td>73.41/16.25</td>\n",
       "      <td>49.85/15.55</td>\n",
       "    </tr>\n",
       "  </tbody>\n",
       "</table>\n",
       "</div>"
      ],
      "text/plain": [
       "         acc_all_together acc_alpha_together acc_beta_together  \\\n",
       "feature                                                          \n",
       "asm_LDS       74.73/15.48        56.92/14.27       70.71/17.96   \n",
       "dasm_LDS      75.41/15.53        56.57/14.54       71.12/17.71   \n",
       "dcau_LDS      80.69/11.72        60.98/14.92       72.19/17.31   \n",
       "de_LDS        82.46/11.11        67.58/13.74       76.71/14.33   \n",
       "psd_LDS       75.44/15.02        62.81/17.23       67.87/18.09   \n",
       "rasm_LDS      75.34/15.56         56.42/14.7       71.02/17.92   \n",
       "\n",
       "         acc_delta_together acc_gamma_together acc_theta_together  \n",
       "feature                                                            \n",
       "asm_LDS         45.36/12.95        73.05/16.59        50.05/15.56  \n",
       "dasm_LDS         45.72/12.8         73.39/16.1        49.93/15.67  \n",
       "dcau_LDS        53.77/15.15        73.86/17.74        55.22/15.72  \n",
       "de_LDS          61.18/13.71        74.34/15.73        65.32/14.16  \n",
       "psd_LDS         58.66/15.66        67.09/15.92        66.02/12.92  \n",
       "rasm_LDS        45.31/12.83        73.41/16.25        49.85/15.55  "
      ]
     },
     "execution_count": 191,
     "metadata": {},
     "output_type": "execute_result"
    }
   ],
   "source": [
    "# column_to_concatenate='acc_all'\n",
    "new_column_list = []\n",
    "for column_to_concatenate in ['acc_all','acc_alpha','acc_beta','acc_delta','acc_gamma','acc_theta']:\n",
    "    new_column = f'{column_to_concatenate}_together'\n",
    "    analysing_std_and_mean[new_column] = analysing_std_and_mean[f'{column_to_concatenate}_mean'].round(2).astype(str) + '/'+ analysing_std_and_mean[f'{column_to_concatenate}_std'].round(2).astype(str) \n",
    "    new_column_list.append(new_column)\n",
    "analysing_std_and_mean[new_column_list]\n",
    "#analysing_std_and_mean.loc[:,'acc_all_mean']"
   ]
  },
  {
   "cell_type": "code",
   "execution_count": 192,
   "metadata": {},
   "outputs": [
    {
     "data": {
      "text/html": [
       "<div>\n",
       "<style scoped>\n",
       "    .dataframe tbody tr th:only-of-type {\n",
       "        vertical-align: middle;\n",
       "    }\n",
       "\n",
       "    .dataframe tbody tr th {\n",
       "        vertical-align: top;\n",
       "    }\n",
       "\n",
       "    .dataframe thead th {\n",
       "        text-align: right;\n",
       "    }\n",
       "</style>\n",
       "<table border=\"1\" class=\"dataframe\">\n",
       "  <thead>\n",
       "    <tr style=\"text-align: right;\">\n",
       "      <th></th>\n",
       "      <th>acc_delta_together</th>\n",
       "      <th>acc_theta_together</th>\n",
       "      <th>acc_alpha_together</th>\n",
       "      <th>acc_beta_together</th>\n",
       "      <th>acc_gamma_together</th>\n",
       "      <th>acc_all_together</th>\n",
       "    </tr>\n",
       "    <tr>\n",
       "      <th>feature</th>\n",
       "      <th></th>\n",
       "      <th></th>\n",
       "      <th></th>\n",
       "      <th></th>\n",
       "      <th></th>\n",
       "      <th></th>\n",
       "    </tr>\n",
       "  </thead>\n",
       "  <tbody>\n",
       "    <tr>\n",
       "      <th>de_LDS</th>\n",
       "      <td>61.18/13.71</td>\n",
       "      <td>65.32/14.16</td>\n",
       "      <td>67.58/13.74</td>\n",
       "      <td>76.71/14.33</td>\n",
       "      <td>74.34/15.73</td>\n",
       "      <td>82.46/11.11</td>\n",
       "    </tr>\n",
       "    <tr>\n",
       "      <th>psd_LDS</th>\n",
       "      <td>58.66/15.66</td>\n",
       "      <td>66.02/12.92</td>\n",
       "      <td>62.81/17.23</td>\n",
       "      <td>67.87/18.09</td>\n",
       "      <td>67.09/15.92</td>\n",
       "      <td>75.44/15.02</td>\n",
       "    </tr>\n",
       "    <tr>\n",
       "      <th>rasm_LDS</th>\n",
       "      <td>45.31/12.83</td>\n",
       "      <td>49.85/15.55</td>\n",
       "      <td>56.42/14.7</td>\n",
       "      <td>71.02/17.92</td>\n",
       "      <td>73.41/16.25</td>\n",
       "      <td>75.34/15.56</td>\n",
       "    </tr>\n",
       "    <tr>\n",
       "      <th>dasm_LDS</th>\n",
       "      <td>45.72/12.8</td>\n",
       "      <td>49.93/15.67</td>\n",
       "      <td>56.57/14.54</td>\n",
       "      <td>71.12/17.71</td>\n",
       "      <td>73.39/16.1</td>\n",
       "      <td>75.41/15.53</td>\n",
       "    </tr>\n",
       "    <tr>\n",
       "      <th>asm_LDS</th>\n",
       "      <td>45.36/12.95</td>\n",
       "      <td>50.05/15.56</td>\n",
       "      <td>56.92/14.27</td>\n",
       "      <td>70.71/17.96</td>\n",
       "      <td>73.05/16.59</td>\n",
       "      <td>74.73/15.48</td>\n",
       "    </tr>\n",
       "    <tr>\n",
       "      <th>dcau_LDS</th>\n",
       "      <td>53.77/15.15</td>\n",
       "      <td>55.22/15.72</td>\n",
       "      <td>60.98/14.92</td>\n",
       "      <td>72.19/17.31</td>\n",
       "      <td>73.86/17.74</td>\n",
       "      <td>80.69/11.72</td>\n",
       "    </tr>\n",
       "  </tbody>\n",
       "</table>\n",
       "</div>"
      ],
      "text/plain": [
       "         acc_delta_together acc_theta_together acc_alpha_together  \\\n",
       "feature                                                             \n",
       "de_LDS          61.18/13.71        65.32/14.16        67.58/13.74   \n",
       "psd_LDS         58.66/15.66        66.02/12.92        62.81/17.23   \n",
       "rasm_LDS        45.31/12.83        49.85/15.55         56.42/14.7   \n",
       "dasm_LDS         45.72/12.8        49.93/15.67        56.57/14.54   \n",
       "asm_LDS         45.36/12.95        50.05/15.56        56.92/14.27   \n",
       "dcau_LDS        53.77/15.15        55.22/15.72        60.98/14.92   \n",
       "\n",
       "         acc_beta_together acc_gamma_together acc_all_together  \n",
       "feature                                                         \n",
       "de_LDS         76.71/14.33        74.34/15.73      82.46/11.11  \n",
       "psd_LDS        67.87/18.09        67.09/15.92      75.44/15.02  \n",
       "rasm_LDS       71.02/17.92        73.41/16.25      75.34/15.56  \n",
       "dasm_LDS       71.12/17.71         73.39/16.1      75.41/15.53  \n",
       "asm_LDS        70.71/17.96        73.05/16.59      74.73/15.48  \n",
       "dcau_LDS       72.19/17.31        73.86/17.74      80.69/11.72  "
      ]
     },
     "execution_count": 192,
     "metadata": {},
     "output_type": "execute_result"
    }
   ],
   "source": [
    "# \"delta\",\"theta\", \"alpha\", \"beta\", \"gamma\", \"all\"],\n",
    "analysing_std_and_mean[['acc_delta_together','acc_theta_together','acc_alpha_together','acc_beta_together','acc_gamma_together','acc_all_together']]\\\n",
    "    .reindex(['de_LDS','psd_LDS', 'rasm_LDS', 'dasm_LDS', 'asm_LDS','dcau_LDS'],axis=0)\n"
   ]
  },
  {
   "cell_type": "code",
   "execution_count": 194,
   "metadata": {},
   "outputs": [
    {
     "data": {
      "text/html": [
       "<div>\n",
       "<style scoped>\n",
       "    .dataframe tbody tr th:only-of-type {\n",
       "        vertical-align: middle;\n",
       "    }\n",
       "\n",
       "    .dataframe tbody tr th {\n",
       "        vertical-align: top;\n",
       "    }\n",
       "\n",
       "    .dataframe thead th {\n",
       "        text-align: right;\n",
       "    }\n",
       "</style>\n",
       "<table border=\"1\" class=\"dataframe\">\n",
       "  <thead>\n",
       "    <tr style=\"text-align: right;\">\n",
       "      <th></th>\n",
       "      <th>acc_all_together</th>\n",
       "    </tr>\n",
       "    <tr>\n",
       "      <th>feature</th>\n",
       "      <th></th>\n",
       "    </tr>\n",
       "  </thead>\n",
       "  <tbody>\n",
       "    <tr>\n",
       "      <th>de_LDS</th>\n",
       "      <td>82.46/11.11</td>\n",
       "    </tr>\n",
       "    <tr>\n",
       "      <th>psd_LDS</th>\n",
       "      <td>75.44/15.02</td>\n",
       "    </tr>\n",
       "    <tr>\n",
       "      <th>rasm_LDS</th>\n",
       "      <td>75.34/15.56</td>\n",
       "    </tr>\n",
       "    <tr>\n",
       "      <th>dasm_LDS</th>\n",
       "      <td>75.41/15.53</td>\n",
       "    </tr>\n",
       "    <tr>\n",
       "      <th>asm_LDS</th>\n",
       "      <td>74.73/15.48</td>\n",
       "    </tr>\n",
       "    <tr>\n",
       "      <th>dcau_LDS</th>\n",
       "      <td>80.69/11.72</td>\n",
       "    </tr>\n",
       "  </tbody>\n",
       "</table>\n",
       "</div>"
      ],
      "text/plain": [
       "         acc_all_together\n",
       "feature                  \n",
       "de_LDS        82.46/11.11\n",
       "psd_LDS       75.44/15.02\n",
       "rasm_LDS      75.34/15.56\n",
       "dasm_LDS      75.41/15.53\n",
       "asm_LDS       74.73/15.48\n",
       "dcau_LDS      80.69/11.72"
      ]
     },
     "execution_count": 194,
     "metadata": {},
     "output_type": "execute_result"
    }
   ],
   "source": [
    "analysing_std_and_mean[['acc_all_together']]\\\n",
    "    .reindex(['de_LDS','psd_LDS', 'rasm_LDS', 'dasm_LDS', 'asm_LDS','dcau_LDS'],axis=0)\n"
   ]
  },
  {
   "attachments": {},
   "cell_type": "markdown",
   "metadata": {},
   "source": [
    "# Explorando Resultados KNN"
   ]
  },
  {
   "cell_type": "code",
   "execution_count": null,
   "metadata": {},
   "outputs": [],
   "source": [
    "datetime_now = datetime.now().strftime(\"%Y%m%d_%H%M\")\n",
    "filename_to_write = f\"{datetime_now}_all_KNN_predictions.txt\""
   ]
  },
  {
   "cell_type": "code",
   "execution_count": null,
   "metadata": {},
   "outputs": [],
   "source": [
    "!find 17_KNN_eeg_1s_baseline -type f > {filename_to_write}"
   ]
  },
  {
   "cell_type": "code",
   "execution_count": null,
   "metadata": {},
   "outputs": [],
   "source": [
    "with open(filename_to_write, \"r\") as f:\n",
    "    files_from_session = f.read()\n",
    "\n",
    "files_from_session_as_list = files_from_session.split(\"\\n\")\n",
    "files_from_session_as_list = [cur_file_session for cur_file_session in files_from_session_as_list if len(cur_file_session)>1]\n",
    "print(len(files_from_session_as_list))\n",
    "print(files_from_session_as_list)"
   ]
  },
  {
   "cell_type": "code",
   "execution_count": null,
   "metadata": {},
   "outputs": [],
   "source": [
    "model_result = pd.read_pickle(files_from_session_as_list[0])\n",
    "model_result"
   ]
  },
  {
   "cell_type": "code",
   "execution_count": null,
   "metadata": {},
   "outputs": [],
   "source": [
    "accuracy_dict = {}\n",
    "for each_file in files_from_session_as_list:\n",
    "    # print(each_file)\n",
    "    model_result = pd.read_pickle(each_file)\n",
    "    accuracy_dict[each_file] = [model_result['acc'], model_result['n']]\n",
    "accuracy_dict"
   ]
  },
  {
   "cell_type": "code",
   "execution_count": null,
   "metadata": {},
   "outputs": [],
   "source": [
    "all_models_results_ordered = dict(sorted(accuracy_dict.items(), key=lambda item: item[1], reverse=True))\n",
    "print(len(all_models_results_ordered))\n",
    "all_models_results_ordered\n"
   ]
  },
  {
   "cell_type": "code",
   "execution_count": null,
   "metadata": {},
   "outputs": [],
   "source": [
    "knn_result_df = pd.DataFrame(all_models_results_ordered.items())\n",
    "knn_result_df[['acc', 'param']] = pd.DataFrame(knn_result_df[1].to_list())\n",
    "knn_result_df['param'] = knn_result_df['param'].apply(lambda x: {\"n\":x})\n"
   ]
  },
  {
   "cell_type": "code",
   "execution_count": null,
   "metadata": {},
   "outputs": [],
   "source": [
    "#knn_result_df[[\"folder\", \"feature\", \"user\"]] = pd.DataFrame(knn_result_df[0].str.split('/').to_list())\n",
    "#knn_result_df[[\"user\", \"session\"]]  = pd.DataFrame(knn_result_df['user'].str.split('_').to_list())\n",
    "#knn_result_df = knn_result_df[['user', 'session', 'feature', 'param', 'acc']].sort_values(['user', 'acc'], ascending=[False, False])\n",
    "knn_result_df.to_csv(f\"{external_data_ref}_knn_result_summary.csv\")\n",
    "knn_result_df"
   ]
  },
  {
   "cell_type": "code",
   "execution_count": null,
   "metadata": {},
   "outputs": [],
   "source": [
    "print(f\"mean:{knn_result_df.acc.mean():0.4f} / std:{knn_result_df.acc.std():0.4f}\")"
   ]
  },
  {
   "cell_type": "code",
   "execution_count": null,
   "metadata": {},
   "outputs": [],
   "source": [
    "print(\"accuracy per user:\")\n",
    "knn_result_df.groupby(['user']).mean().sort_values('acc', ascending=False)"
   ]
  },
  {
   "attachments": {},
   "cell_type": "markdown",
   "metadata": {},
   "source": [
    "## KNN for each band"
   ]
  },
  {
   "cell_type": "code",
   "execution_count": null,
   "metadata": {},
   "outputs": [],
   "source": [
    "datetime_now = datetime.now().strftime(\"%Y%m%d_%H%M\")\n",
    "external_data_ref = datetime.today().date().strftime(\"%Y%m%d\")\n",
    "\n",
    "full_knn_result_df = pd.DataFrame()\n",
    "for cur_freq_band in [\"delta\",\"theta\", \"alpha\", \"beta\", \"gamma\"]:\n",
    "    filename_to_write = f\"{datetime_now}_all_KNN_predictions_{cur_freq_band}.txt\"\n",
    "\n",
    "    os.system(f\"find 18_KNN_eeg_1s_baseline_{cur_freq_band} -type f > {filename_to_write}\")\n",
    "\n",
    "    with open(filename_to_write, \"r\") as f:\n",
    "        files_from_session = f.read()\n",
    "\n",
    "    files_from_session_as_list = files_from_session.split(\"\\n\")\n",
    "    files_from_session_as_list = [cur_file_session for cur_file_session in files_from_session_as_list if len(cur_file_session)>1]\n",
    "    #print(len(files_from_session_as_list))\n",
    "    #print(files_from_session_as_list)\n",
    "\n",
    "    accuracy_dict = {}\n",
    "    for each_file in files_from_session_as_list:\n",
    "        # print(each_file)\n",
    "        model_result = pd.read_pickle(each_file)\n",
    "        accuracy_dict[each_file] = [model_result['acc'], model_result['n']]\n",
    "\n",
    "    all_models_results_ordered = dict(sorted(accuracy_dict.items(), key=lambda item: item[1], reverse=True))\n",
    "\n",
    "    knn_result_df = pd.DataFrame(all_models_results_ordered.items())\n",
    "    knn_result_df[['acc', 'param']] = pd.DataFrame(knn_result_df[1].to_list())\n",
    "    knn_result_df['param'] = knn_result_df['param'].apply(lambda x: {\"n\":x})\n",
    "    knn_result_df[[\"folder\", \"feature\", \"user\"]] = pd.DataFrame(knn_result_df[0].str.split('/').to_list())\n",
    "    knn_result_df[[\"user\", \"session\"]]  = pd.DataFrame(knn_result_df['user'].str.split('_').to_list())\n",
    "    knn_result_df = knn_result_df[['user', 'session', 'feature', 'param', 'acc']].sort_values(['user', 'acc'], ascending=[False, False])\n",
    "\n",
    "    # knn_result_df.to_csv(f\"{external_data_ref}_knn_result_summary_{cur_freq_band}.csv\")\n",
    "\n",
    "    # print(f\"{cur_freq_band} - mean:{knn_result_df.acc.mean():0.4f} / std:{knn_result_df.acc.std():0.4f}\")\n",
    "    print(f\"{knn_result_df.acc.mean():0.4f}/{knn_result_df.acc.std():0.4f}\")\n",
    "\n",
    "    knn_result_df['freq'] = cur_freq_band\n",
    "    full_knn_result_df = pd.concat([full_knn_result_df, knn_result_df])\n",
    "\n",
    "full_knn_result_df.reset_index().to_csv(f\"{external_data_ref}_knn_result_summary_each_band.csv\")\n"
   ]
  },
  {
   "cell_type": "code",
   "execution_count": null,
   "metadata": {},
   "outputs": [],
   "source": [
    "full_knn_result_df"
   ]
  },
  {
   "cell_type": "code",
   "execution_count": null,
   "metadata": {},
   "outputs": [],
   "source": []
  }
 ],
 "metadata": {
  "kernelspec": {
   "display_name": "ppget_env",
   "language": "python",
   "name": "python3"
  },
  "language_info": {
   "codemirror_mode": {
    "name": "ipython",
    "version": 3
   },
   "file_extension": ".py",
   "mimetype": "text/x-python",
   "name": "python",
   "nbconvert_exporter": "python",
   "pygments_lexer": "ipython3",
   "version": "3.7.16"
  },
  "orig_nbformat": 4,
  "vscode": {
   "interpreter": {
    "hash": "91f9952c56706b049e70c780d2eadeed0ab5d9a1e1cfd3530058c6575c21370c"
   }
  }
 },
 "nbformat": 4,
 "nbformat_minor": 2
}
