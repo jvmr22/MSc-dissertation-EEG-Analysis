{
 "cells": [
  {
   "attachments": {},
   "cell_type": "markdown",
   "metadata": {},
   "source": [
    "# Leitura dos arquivos SEED_EEG (pasta sem os dados de movimento dos olhos)"
   ]
  },
  {
   "cell_type": "code",
   "execution_count": null,
   "metadata": {},
   "outputs": [],
   "source": [
    "import os\n",
    "from glob import glob\n",
    "import pandas as pd\n",
    "import numpy as np\n",
    "import scipy.io\n",
    "import re\n"
   ]
  },
  {
   "cell_type": "code",
   "execution_count": null,
   "metadata": {},
   "outputs": [],
   "source": [
    "os.environ['FILE_PATH'] = '../SEED/SEED_EEG/'\n",
    "FILE_PATH = os.getenv('FILE_PATH', '/mnt/g/Meu Drive/mestrado_ppget')\n",
    "FILE_PATH"
   ]
  },
  {
   "attachments": {},
   "cell_type": "markdown",
   "metadata": {},
   "source": [
    "## Preprocessed_EEG folder:"
   ]
  },
  {
   "cell_type": "code",
   "execution_count": null,
   "metadata": {},
   "outputs": [],
   "source": [
    "PREPROCESSED_PATH = os.path.join(FILE_PATH, \"SEED_EEG/Preprocessed_EEG/\")\n",
    "ALL_FILES = os.listdir(PREPROCESSED_PATH)\n",
    "sorted(ALL_FILES)\n",
    "print(len(ALL_FILES))\n",
    "All_FILES_FULL_PATH = sorted(glob(PREPROCESSED_PATH+'/**'))\n"
   ]
  },
  {
   "cell_type": "code",
   "execution_count": null,
   "metadata": {},
   "outputs": [],
   "source": [
    "All_FILES_FULL_PATH"
   ]
  },
  {
   "cell_type": "code",
   "execution_count": null,
   "metadata": {},
   "outputs": [],
   "source": [
    "import scipy.io\n",
    "mat = scipy.io.loadmat(All_FILES_FULL_PATH[0]) \n",
    "mat"
   ]
  },
  {
   "cell_type": "code",
   "execution_count": null,
   "metadata": {},
   "outputs": [],
   "source": [
    "mat.keys()"
   ]
  },
  {
   "cell_type": "code",
   "execution_count": null,
   "metadata": {},
   "outputs": [],
   "source": [
    "len(mat.keys())"
   ]
  },
  {
   "cell_type": "code",
   "execution_count": null,
   "metadata": {},
   "outputs": [],
   "source": [
    "mat['ww_eeg1'].shape"
   ]
  },
  {
   "attachments": {},
   "cell_type": "markdown",
   "metadata": {},
   "source": []
  },
  {
   "cell_type": "code",
   "execution_count": null,
   "metadata": {},
   "outputs": [],
   "source": [
    "cur_eeg_file = All_FILES_FULL_PATH[0]\n",
    "cur_eeg_file"
   ]
  },
  {
   "cell_type": "code",
   "execution_count": null,
   "metadata": {},
   "outputs": [],
   "source": [
    "labels = scipy.io.loadmat(os.path.join(FILE_PATH, 'SEED_EEG/ExtractedFeatures/label.mat')) \n",
    "print(len(labels['label'][0]))\n",
    "print(labels['label'][0])"
   ]
  },
  {
   "cell_type": "code",
   "execution_count": null,
   "metadata": {},
   "outputs": [],
   "source": [
    "seen_movies = list(cur_egg_data.keys())[3:]\n",
    "eeg_62channels_data = cur_egg_data[seen_movies[0]]\n",
    "len(eeg_62channels_data)\n",
    "\n",
    "eeg_each_chanel_data = eeg_62channels_data[0]\n",
    "pd.DataFrame(eeg_each_chanel_data)\n",
    "\n"
   ]
  },
  {
   "cell_type": "code",
   "execution_count": null,
   "metadata": {},
   "outputs": [],
   "source": [
    "channel_order = pd.read_excel(os.path.join(FILE_PATH, \"SEED_EEG/channel-order.xlsx\"), header=None).reset_index()\n",
    "# channel_order['index'] = channel_order.index+1\n",
    "channel_order\n",
    "# channel_order[channel_order['index'] == eeg_62channels_idx][0].values[0]"
   ]
  },
  {
   "cell_type": "code",
   "execution_count": null,
   "metadata": {},
   "outputs": [],
   "source": [
    "all_data = pd.DataFrame()\n",
    "\n",
    "for cur_eeg_file in All_FILES_FULL_PATH:\n",
    "    subject_id, experiment_date = os.path.basename(cur_eeg_file).split('_')\n",
    "    cur_egg_data = scipy.io.loadmat(cur_eeg_file) \n",
    "    seen_movies = list(cur_egg_data.keys())[3:]\n",
    "    for cur_seen_movies in seen_movies:\n",
    "        eeg_62channels_data = cur_egg_data[cur_seen_movies]\n",
    "        eeg_62channels_idx = 0\n",
    "        for eeg_each_chanel_data in eeg_62channels_data:\n",
    "            # each_chanel_as_df = pd.DataFrame(eeg_each_chanel_data)\n",
    "            eeg_channel = channel_order[channel_order['index'] == eeg_62channels_idx][0].values[0]\n",
    "            print(cur_eeg_file, subject_id, experiment_date, cur_seen_movies,eeg_channel)\n",
    "            all_data = all_data.append({\"subject_id\":subject_id, \"experiment_date\":experiment_date, \"cur_seen_movie\":cur_seen_movies,\"eeg_channel\":eeg_channel, \"eeg_data\":list(eeg_each_chanel_data)},ignore_index=True)\n",
    "            eeg_62channels_idx+=1\n",
    "            # break\n",
    "        break\n",
    "    all_data.to_excel(\"dados_compilados.xlsx\")\n",
    "    break"
   ]
  },
  {
   "attachments": {},
   "cell_type": "markdown",
   "metadata": {},
   "source": [
    "## ExtractedFeatures Folder:"
   ]
  },
  {
   "attachments": {},
   "cell_type": "markdown",
   "metadata": {},
   "source": [
    "### Ja possui differential entropy (DE), differential asymmetry (DASM), asymmetry (RASM)  \n",
    "\n",
    "\n",
    "* differential entropy (DE): \n",
    "    * Identifying Stable Patterns over Time for Emotion Recognition from EEG - artigo original SEED \n",
    "    * EEG Emotion Recognition Using Dynamical Graph Convolutional Neural Networks - aplicação direta com SEED (dynamical graph convolutional neural networks (DGCNN))\n",
    "    * Multi-method Fusion of Cross-Subject Emotion Recognition Based on High-Dimensional EEG Features\n",
    "\n",
    "\n",
    "\n",
    "From our previous work[40], [41], [42], we have found that the following six different features and electrode combina- tions are efficient for EEG-based emotion recognition: power spectral density (PSD), differential entropy (DE), dif- ferential asymmetry (DASM), rational asymmetry (RASM), asymmetry (ASM) and differential caudality (DCAU) fea- tures from the EEG. As"
   ]
  },
  {
   "attachments": {},
   "cell_type": "markdown",
   "metadata": {},
   "source": []
  },
  {
   "cell_type": "code",
   "execution_count": null,
   "metadata": {},
   "outputs": [],
   "source": [
    "EXTRACTED_FEATURES_PATH = os.path.join(FILE_PATH,\"SEED_EEG/ExtractedFeatures/\")\n",
    "ALL_FILES = os.listdir(EXTRACTED_FEATURES_PATH)\n",
    "sorted(ALL_FILES)\n",
    "print(len(ALL_FILES))\n",
    "All_FILES_FULL_PATH = sorted(glob(EXTRACTED_FEATURES_PATH+'/**'))\n",
    "All_FILES_FULL_PATH\n"
   ]
  },
  {
   "cell_type": "code",
   "execution_count": null,
   "metadata": {},
   "outputs": [],
   "source": [
    "All_FILES_FULL_PATH[0]"
   ]
  },
  {
   "cell_type": "code",
   "execution_count": null,
   "metadata": {},
   "outputs": [],
   "source": [
    "import scipy.io\n",
    "mat = scipy.io.loadmat(All_FILES_FULL_PATH[0]) \n",
    "mat"
   ]
  },
  {
   "cell_type": "code",
   "execution_count": null,
   "metadata": {},
   "outputs": [],
   "source": [
    "mat.keys()"
   ]
  },
  {
   "attachments": {},
   "cell_type": "markdown",
   "metadata": {},
   "source": [
    "###  15 chaves para cada uma das features [asm', 'psd', 'rasm', 'dasm', 'dcau', 'de']\n",
    "* 'asm_LDS', 'asm_movingAve',\n",
    "* 'dasm_LDS', 'dasm_movingAve',\n",
    "* 'dcau_LDS', 'dcau_movingAve',\n",
    "* 'de_LDS', 'de_movingAve',\n",
    "* 'psd_LDS', 'psd_movingAve',\n",
    "* 'rasm_LDS', 'rasm_movingAve'\n"
   ]
  },
  {
   "attachments": {},
   "cell_type": "markdown",
   "metadata": {},
   "source": [
    "### 6 features (de, psd, etc) X 2 possibilidades (LDS, movAve) x 15 videos = 180"
   ]
  },
  {
   "cell_type": "code",
   "execution_count": null,
   "metadata": {},
   "outputs": [],
   "source": [
    "len(mat.keys()) -3"
   ]
  },
  {
   "cell_type": "code",
   "execution_count": null,
   "metadata": {},
   "outputs": [],
   "source": [
    "# all_feautres = [each_feature.split('_')[0] for each_feature in sorted(list(mat.keys()))]\n",
    "all_feautres = [re.findall('\\D+', each_feature)[0] for each_feature in sorted(list(mat.keys()))]\n",
    "sorted(list(set(all_feautres)))"
   ]
  },
  {
   "cell_type": "code",
   "execution_count": null,
   "metadata": {},
   "outputs": [],
   "source": [
    "filter_features = [each_feature for each_feature in sorted(list(mat.keys())) if 'de_LDS' in each_feature]\n",
    "filter_features"
   ]
  },
  {
   "cell_type": "code",
   "execution_count": null,
   "metadata": {},
   "outputs": [],
   "source": [
    "mat['de_LDS1'].shape"
   ]
  },
  {
   "cell_type": "code",
   "execution_count": null,
   "metadata": {},
   "outputs": [],
   "source": [
    "mat['de_LDS13'].shape"
   ]
  },
  {
   "cell_type": "code",
   "execution_count": null,
   "metadata": {},
   "outputs": [],
   "source": [
    "mat['de_LDS1'][0].shape"
   ]
  },
  {
   "attachments": {},
   "cell_type": "markdown",
   "metadata": {},
   "source": [
    "# Leitura do Pickel do modelo"
   ]
  },
  {
   "attachments": {},
   "cell_type": "markdown",
   "metadata": {},
   "source": [
    "### de_lds"
   ]
  },
  {
   "cell_type": "code",
   "execution_count": null,
   "metadata": {},
   "outputs": [],
   "source": [
    "import pandas as pd\n",
    "import os\n",
    "from datetime import datetime"
   ]
  },
  {
   "cell_type": "code",
   "execution_count": null,
   "metadata": {},
   "outputs": [],
   "source": [
    "model_folder = \"11_dnn_eeg_1s_baseline\"\n",
    "#model_folder = \"13_svm_eeg_1s_baseline\"\n",
    "\n",
    "all_lr = os.listdir(model_folder)\n",
    "print(all_lr)\n",
    "if len(all_lr) == 1:\n",
    "    idx_feature = 0\n",
    "else:\n",
    "    idx_feature = 2\n",
    "cur_feature = all_lr[idx_feature]\n",
    "print(idx_feature)\n",
    "print(cur_feature)"
   ]
  },
  {
   "cell_type": "code",
   "execution_count": null,
   "metadata": {},
   "outputs": [],
   "source": [
    "#cur_feature = \"de_LDS0\"\n",
    "cur_experiment = \"10_20131130\"\n",
    "\n",
    "cur_model_path = os.path.join(os.getcwd(), model_folder, cur_feature, cur_experiment)\n",
    "print(cur_model_path)\n",
    "model_result = pd.read_pickle(cur_model_path)"
   ]
  },
  {
   "cell_type": "code",
   "execution_count": null,
   "metadata": {},
   "outputs": [],
   "source": [
    "model_result"
   ]
  },
  {
   "cell_type": "code",
   "execution_count": null,
   "metadata": {},
   "outputs": [],
   "source": [
    "model_result.keys()"
   ]
  },
  {
   "cell_type": "code",
   "execution_count": null,
   "metadata": {},
   "outputs": [],
   "source": [
    "model_result[\"true_label\"].shape"
   ]
  },
  {
   "attachments": {},
   "cell_type": "markdown",
   "metadata": {},
   "source": [
    "Utilizando o artigo original do seed eu quero verificar os resultados."
   ]
  },
  {
   "cell_type": "code",
   "execution_count": null,
   "metadata": {},
   "outputs": [],
   "source": [
    "!find 11_dnn_eeg_1s_baseline -name {cur_experiment} >> {cur_experiment}.txt"
   ]
  },
  {
   "cell_type": "code",
   "execution_count": null,
   "metadata": {},
   "outputs": [],
   "source": [
    "with open(f\"{cur_experiment}.txt\", \"r\") as f:\n",
    "    files_from_session = f.read()\n",
    "\n",
    "files_from_session_as_list = files_from_session.split(\"\\n\")\n",
    "files_from_session_as_list = [cur_file_session for cur_file_session in files_from_session_as_list if len(cur_file_session)>1]\n",
    "files_from_session_as_list"
   ]
  },
  {
   "cell_type": "code",
   "execution_count": null,
   "metadata": {},
   "outputs": [],
   "source": [
    "accuracy_dict = {}\n",
    "for each_file in files_from_session_as_list:\n",
    "    print(each_file)\n",
    "    model_result = pd.read_pickle(each_file)\n",
    "    accuracy_dict[each_file] = model_result['acc']"
   ]
  },
  {
   "cell_type": "code",
   "execution_count": null,
   "metadata": {},
   "outputs": [],
   "source": [
    "accuracy_dict"
   ]
  },
  {
   "cell_type": "code",
   "execution_count": null,
   "metadata": {},
   "outputs": [],
   "source": [
    "dict(sorted(accuracy_dict.items(), key=lambda item: item[1], reverse=True))\n"
   ]
  },
  {
   "attachments": {},
   "cell_type": "markdown",
   "metadata": {},
   "source": [
    "# Explorando resultados SVM"
   ]
  },
  {
   "attachments": {},
   "cell_type": "markdown",
   "metadata": {},
   "source": [
    "## Verificando vetor de decisao"
   ]
  },
  {
   "cell_type": "code",
   "execution_count": null,
   "metadata": {},
   "outputs": [],
   "source": [
    "model_result"
   ]
  },
  {
   "cell_type": "code",
   "execution_count": null,
   "metadata": {},
   "outputs": [],
   "source": [
    "model_result['test_label'].shape"
   ]
  },
  {
   "cell_type": "code",
   "execution_count": null,
   "metadata": {},
   "outputs": [],
   "source": [
    "# os primeiros 237 valores sao do 10 video, que de acordo com o arquivo seed-stimulation possuem o sentimento 2\n",
    "# model_result['test_label'][0:237].shape\n",
    "# os proximos 235 valores sao do 11 video, que de acordo com o arquivo seed-stimulation possuem o sentimento 2\n",
    "# model_result['test_label'][237:472].shape\n",
    "# os proximos 233 valores sao do 12 video, que de acordo com o arquivo seed-stimulation possuem o sentimento 1\n",
    "model_result['test_label'][472:705]#.shape"
   ]
  },
  {
   "cell_type": "code",
   "execution_count": null,
   "metadata": {},
   "outputs": [],
   "source": [
    "# comprovando que O SVM fez a predicao correta.\n",
    "model_result['decision_val'][472:705]"
   ]
  },
  {
   "attachments": {},
   "cell_type": "markdown",
   "metadata": {},
   "source": [
    "## Verificando acuracia SVM"
   ]
  },
  {
   "cell_type": "code",
   "execution_count": null,
   "metadata": {},
   "outputs": [],
   "source": [
    "cur_experiment = '20230407_SVM_ACCURACY_ALPHA'"
   ]
  },
  {
   "cell_type": "code",
   "execution_count": null,
   "metadata": {},
   "outputs": [],
   "source": [
    "!find 15_svm_eeg_alpha_1s_baseline -type f >> {cur_experiment}.txt"
   ]
  },
  {
   "cell_type": "code",
   "execution_count": null,
   "metadata": {},
   "outputs": [],
   "source": [
    "with open(f\"{cur_experiment}.txt\", \"r\") as f:\n",
    "    files_from_session = f.read()\n",
    "\n",
    "files_from_session_as_list = files_from_session.split(\"\\n\")\n",
    "files_from_session_as_list = [cur_file_session for cur_file_session in files_from_session_as_list if len(cur_file_session)>1]\n",
    "files_from_session_as_list"
   ]
  },
  {
   "cell_type": "code",
   "execution_count": null,
   "metadata": {},
   "outputs": [],
   "source": [
    "accuracy_dict = {}\n",
    "for each_file in files_from_session_as_list:\n",
    "    print(each_file)\n",
    "    model_result = pd.read_pickle(each_file)\n",
    "    accuracy_dict[each_file] = [model_result['acc'], model_result['c']]"
   ]
  },
  {
   "cell_type": "code",
   "execution_count": null,
   "metadata": {},
   "outputs": [],
   "source": [
    "all_models_results_ordered = dict(sorted(accuracy_dict.items(), key=lambda item: item[1], reverse=True))\n",
    "all_models_results_ordered"
   ]
  },
  {
   "cell_type": "code",
   "execution_count": null,
   "metadata": {},
   "outputs": [],
   "source": [
    "result_df = pd.DataFrame(all_models_results_ordered.items())\n",
    "result_df"
   ]
  },
  {
   "cell_type": "code",
   "execution_count": null,
   "metadata": {},
   "outputs": [],
   "source": [
    "result_df[['acc', 'param']] = pd.DataFrame(result_df[1].to_list())\n",
    "result_df['param'] = result_df['param'].apply(lambda x: {\"c\":x})\n",
    "result_df"
   ]
  },
  {
   "cell_type": "code",
   "execution_count": null,
   "metadata": {},
   "outputs": [],
   "source": [
    "result_df[[\"folder\", \"feature\", \"user\"]] = pd.DataFrame(result_df[0].str.split('/').to_list())\n",
    "result_df"
   ]
  },
  {
   "cell_type": "code",
   "execution_count": null,
   "metadata": {},
   "outputs": [],
   "source": [
    "result_df[[\"user\", \"session\"]]  = pd.DataFrame(result_df['user'].str.split('_').to_list())\n",
    "result_df"
   ]
  },
  {
   "cell_type": "code",
   "execution_count": null,
   "metadata": {},
   "outputs": [],
   "source": [
    "result_df[['user', 'session', 'feature', 'param', 'acc']].sort_values(['user', 'acc'], ascending=[False, False]).to_csv(f\"{cur_experiment}.csv\")"
   ]
  },
  {
   "cell_type": "code",
   "execution_count": null,
   "metadata": {},
   "outputs": [],
   "source": [
    "import os\n",
    "# eeg_dir = '../Features/China/feature_smooth_eeg_1s/'\n",
    "os.environ['FILE_PATH'] = '../SEED/SEED_EEG/'\n",
    "FILE_PATH = os.getenv('FILE_PATH', '/mnt/g/Meu Drive/mestrado_ppget')\n",
    "print(FILE_PATH)\n",
    "eeg_dir = os.path.join(FILE_PATH,\"SEED_EEG/ExtractedFeatures/\")\n",
    "eeg_file_list = os.listdir(eeg_dir)\n",
    "eeg_file_list.sort()"
   ]
  },
  {
   "cell_type": "code",
   "execution_count": null,
   "metadata": {},
   "outputs": [],
   "source": [
    "eeg_file_list.index('13_20140527.mat')"
   ]
  },
  {
   "cell_type": "code",
   "execution_count": null,
   "metadata": {},
   "outputs": [],
   "source": [
    "eeg_file_list[10:]"
   ]
  },
  {
   "attachments": {},
   "cell_type": "markdown",
   "metadata": {},
   "source": [
    "## SVM for each band"
   ]
  },
  {
   "cell_type": "code",
   "execution_count": null,
   "metadata": {},
   "outputs": [],
   "source": [
    "datetime_now = datetime.now().strftime(\"%Y%m%d_%H%M\")\n",
    "external_data_ref = datetime.today().date().strftime(\"%Y%m%d\")\n",
    "\n",
    "full_svm_result_df = pd.DataFrame()\n",
    "for cur_freq_band in [\"delta\",\"theta\", \"alpha\", \"beta\", \"gamma\"]:\n",
    "    filename_to_write = f\"{datetime_now}_all_SVM_predictions_{cur_freq_band}.txt\"\n",
    "\n",
    "    os.system(f\"find 19_svm_eeg_1s_baseline_{cur_freq_band} -type f > {filename_to_write}\")\n",
    "\n",
    "    with open(filename_to_write, \"r\") as f:\n",
    "        files_from_session = f.read()\n",
    "\n",
    "    files_from_session_as_list = files_from_session.split(\"\\n\")\n",
    "    files_from_session_as_list = [cur_file_session for cur_file_session in files_from_session_as_list if len(cur_file_session)>1]\n",
    "    #print(len(files_from_session_as_list))\n",
    "    #print(files_from_session_as_list)\n",
    "\n",
    "    accuracy_dict = {}\n",
    "    for each_file in files_from_session_as_list:\n",
    "        # print(each_file)\n",
    "        model_result = pd.read_pickle(each_file)\n",
    "        accuracy_dict[each_file] = [model_result['acc'], model_result['c']]\n",
    "\n",
    "    all_models_results_ordered = dict(sorted(accuracy_dict.items(), key=lambda item: item[1], reverse=True))\n",
    "\n",
    "    svm_result_df = pd.DataFrame(all_models_results_ordered.items())\n",
    "    svm_result_df[['acc', 'param']] = pd.DataFrame(svm_result_df[1].to_list())\n",
    "    svm_result_df['param'] = svm_result_df['param'].apply(lambda x: {\"c\":x})\n",
    "    svm_result_df[[\"folder\", \"feature\", \"user\"]] = pd.DataFrame(svm_result_df[0].str.split('/').to_list())\n",
    "    svm_result_df[[\"user\", \"session\"]]  = pd.DataFrame(svm_result_df['user'].str.split('_').to_list())\n",
    "    svm_result_df = svm_result_df[['user', 'session', 'feature', 'param', 'acc']].sort_values(['user', 'acc'], ascending=[False, False])\n",
    "\n",
    "    # svm_result_df.to_csv(f\"{external_data_ref}_SVM_result_summary_{cur_freq_band}.csv\")\n",
    "\n",
    "    # print(f\"{cur_freq_band} - mean:{svm_result_df.acc.mean():0.4f} / std:{svm_result_df.acc.std():0.4f}\")\n",
    "    print(f\"{svm_result_df.acc.mean():0.4f}/{svm_result_df.acc.std():0.4f}\")\n",
    "\n",
    "    svm_result_df['freq'] = cur_freq_band\n",
    "    full_svm_result_df = pd.concat([full_svm_result_df, svm_result_df])\n",
    "\n",
    "full_svm_result_df.reset_index().to_csv(f\"{external_data_ref}_SVM_result_summary_each_band.csv\")\n"
   ]
  },
  {
   "attachments": {},
   "cell_type": "markdown",
   "metadata": {},
   "source": [
    "# Explorando resultados DNN"
   ]
  },
  {
   "cell_type": "code",
   "execution_count": null,
   "metadata": {},
   "outputs": [],
   "source": [
    "datetime_now = datetime.now().strftime(\"%Y%m%d_%H%M\")"
   ]
  },
  {
   "cell_type": "code",
   "execution_count": null,
   "metadata": {},
   "outputs": [],
   "source": [
    "!find 14_dnn_eeg_1s_baseline -type f > {datetime_now}_all_dnn_predictions.txt"
   ]
  },
  {
   "cell_type": "code",
   "execution_count": null,
   "metadata": {},
   "outputs": [],
   "source": [
    "with open(f\"{datetime_now}_all_dnn_predictions.txt\", \"r\") as f:\n",
    "    files_from_session = f.read()\n",
    "\n",
    "files_from_session_as_list = files_from_session.split(\"\\n\")\n",
    "files_from_session_as_list = [cur_file_session for cur_file_session in files_from_session_as_list if len(cur_file_session)>1]\n",
    "print(len(files_from_session_as_list))\n",
    "print(files_from_session_as_list)"
   ]
  },
  {
   "cell_type": "code",
   "execution_count": null,
   "metadata": {},
   "outputs": [],
   "source": [
    "import pandas as pd"
   ]
  },
  {
   "cell_type": "code",
   "execution_count": null,
   "metadata": {},
   "outputs": [],
   "source": [
    "model_result = pd.read_pickle(files_from_session_as_list[0])\n",
    "model_result\n"
   ]
  },
  {
   "cell_type": "code",
   "execution_count": null,
   "metadata": {},
   "outputs": [],
   "source": [
    "type(model_result['acc'])"
   ]
  },
  {
   "cell_type": "code",
   "execution_count": null,
   "metadata": {},
   "outputs": [],
   "source": [
    "model_result['acc'].item()"
   ]
  },
  {
   "cell_type": "code",
   "execution_count": null,
   "metadata": {},
   "outputs": [],
   "source": [
    "accuracy_dict = {}\n",
    "for each_file in files_from_session_as_list:\n",
    "    print(each_file)\n",
    "    model_result = pd.read_pickle(each_file)\n",
    "    accuracy_dict[each_file] = model_result['acc'].item()"
   ]
  },
  {
   "cell_type": "code",
   "execution_count": null,
   "metadata": {},
   "outputs": [],
   "source": [
    "all_models_results_ordered = dict(sorted(accuracy_dict.items(), key=lambda item: item[1], reverse=True))\n",
    "print(len(all_models_results_ordered))\n",
    "all_models_results_ordered\n"
   ]
  },
  {
   "cell_type": "code",
   "execution_count": null,
   "metadata": {},
   "outputs": [],
   "source": [
    "dnn_result_df = pd.DataFrame(all_models_results_ordered.items())\n",
    "dnn_result_df = dnn_result_df.rename(columns={1:'acc'})"
   ]
  },
  {
   "cell_type": "code",
   "execution_count": null,
   "metadata": {},
   "outputs": [],
   "source": [
    "dnn_result_df[[\"folder\", \"feature\", \"user\"]] = pd.DataFrame(dnn_result_df[0].str.split('/').to_list())"
   ]
  },
  {
   "cell_type": "code",
   "execution_count": null,
   "metadata": {},
   "outputs": [],
   "source": [
    "dnn_result_df[[\"user\", \"session\"]]  = pd.DataFrame(dnn_result_df['user'].str.split('_').to_list())\n",
    "dnn_result_df"
   ]
  },
  {
   "cell_type": "code",
   "execution_count": null,
   "metadata": {},
   "outputs": [],
   "source": [
    "import re"
   ]
  },
  {
   "cell_type": "code",
   "execution_count": null,
   "metadata": {},
   "outputs": [],
   "source": [
    "#dnn_result_df['feature'].apply(lambda x: re.findall(\"\\d*\\.?\\d*$/\", x))\n",
    "dnn_result_df['param'] = dnn_result_df['feature'].apply(lambda x: re.findall(\"-?[\\d.]+(?:e-?\\d+)?\", x))\n",
    "dnn_result_df['param'] = dnn_result_df['param'].apply(lambda x: {f\"lr{x[0]}:{x[1]}\"})"
   ]
  },
  {
   "cell_type": "code",
   "execution_count": null,
   "metadata": {},
   "outputs": [],
   "source": [
    "dnn_result_df[['user', 'session', 'feature', 'param', 'acc']].sort_values(['user', 'acc'], ascending=[False, False])"
   ]
  },
  {
   "cell_type": "code",
   "execution_count": null,
   "metadata": {},
   "outputs": [],
   "source": [
    "# dnn_result_df[dnn_result_df.user == '12']"
   ]
  },
  {
   "cell_type": "code",
   "execution_count": null,
   "metadata": {},
   "outputs": [],
   "source": [
    "from datetime import datetime"
   ]
  },
  {
   "cell_type": "code",
   "execution_count": null,
   "metadata": {},
   "outputs": [],
   "source": [
    "external_data_ref = datetime.today().date().strftime(\"%Y%m%d\")\n",
    "external_data_ref"
   ]
  },
  {
   "cell_type": "code",
   "execution_count": null,
   "metadata": {},
   "outputs": [],
   "source": [
    "dnn_result_df[['user', 'session', 'feature', 'param', 'acc']].sort_values(['user', 'acc'], ascending=[False, False]).to_csv(f\"{external_data_ref}_dnn_result.csv\")"
   ]
  },
  {
   "cell_type": "code",
   "execution_count": null,
   "metadata": {},
   "outputs": [],
   "source": [
    "eda_dnn = dnn_result_df[['user', 'session', 'feature', 'param', 'acc']].sort_values(['user', 'acc'], ascending=[False, False])\n",
    "eda_dnn"
   ]
  },
  {
   "cell_type": "code",
   "execution_count": null,
   "metadata": {},
   "outputs": [],
   "source": [
    "eda_dnn.groupby(['user', 'session'])['param', 'acc'].agg({'acc':'max'})"
   ]
  },
  {
   "cell_type": "code",
   "execution_count": null,
   "metadata": {},
   "outputs": [],
   "source": [
    "eda_dnn.groupby(['user', 'session']).max().acc.mean()"
   ]
  },
  {
   "cell_type": "code",
   "execution_count": null,
   "metadata": {},
   "outputs": [],
   "source": [
    "# https://stackoverflow.com/questions/44185787/result-based-in-other-column-using-pandas-aggregation\n",
    "# ed_dnn_2 = eda_dnn.groupby(['user', 'session'])['param', 'acc'].agg({'acc':'max', 'param':lambda x: eda_dnn['param'][x.idmax()]}).reset_index()\n",
    "ed_dnn_2 = eda_dnn.groupby(['user', 'session'])['param', 'acc'].agg({'acc':'max'}).reset_index()\n",
    "\n",
    "ed_dnn_2"
   ]
  },
  {
   "cell_type": "code",
   "execution_count": null,
   "metadata": {},
   "outputs": [],
   "source": [
    "x = ['10', '20131130', 0.7377167344093323]\n",
    "dnn_result_df[(dnn_result_df['user']==x[0]) & (dnn_result_df['session']==x[1]) & (dnn_result_df['acc']==x[2])]"
   ]
  },
  {
   "cell_type": "code",
   "execution_count": null,
   "metadata": {},
   "outputs": [],
   "source": [
    "ed_dnn_2"
   ]
  },
  {
   "cell_type": "code",
   "execution_count": null,
   "metadata": {},
   "outputs": [],
   "source": [
    "#ed_dnn_2.apply(lambda x: dnn_result_df[(dnn_result_df['user']==x[0]) & (dnn_result_df['session']==x[1]) & (dnn_result_df['acc']==x[2])], axis=1)]\n",
    "\n",
    "#quase la\n",
    "#ed_dnn_2.apply(lambda x: dnn_result_df[(dnn_result_df['user']==x[0]) & (dnn_result_df['session']==x[1]) & (dnn_result_df['acc']==x[2])]['param'], axis=1)\n",
    "\n",
    "\n",
    "# ed_dnn_2['params'] = \n",
    "\n",
    "for idx, x in ed_dnn_2.iterrows():\n",
    "    ed_dnn_2.loc[idx,'params_2'] = dnn_result_df[(dnn_result_df['user']==x[0]) & (dnn_result_df['session']==x[1]) & (dnn_result_df['acc']==x[2])].iloc[0,6]\n",
    "\n",
    "\n",
    "# ed_dnn_2.apply(lambda x: dnn_result_df[(dnn_result_df['user']==x[0]) & (dnn_result_df['session']==x[1]) & (dnn_result_df['acc']==x[2])]['param'], axis=1)"
   ]
  },
  {
   "cell_type": "code",
   "execution_count": null,
   "metadata": {},
   "outputs": [],
   "source": [
    "ed_dnn_2.to_csv(f\"{external_data_ref}_dnn_result_summary.csv\")"
   ]
  },
  {
   "cell_type": "code",
   "execution_count": null,
   "metadata": {},
   "outputs": [],
   "source": [
    "dnn_result_df[(dnn_result_df['user']==x[0]) & (dnn_result_df['session']==x[1]) & (dnn_result_df['acc']==x[2])].iloc[0,6]"
   ]
  },
  {
   "cell_type": "code",
   "execution_count": null,
   "metadata": {},
   "outputs": [],
   "source": [
    "ed_dnn_2"
   ]
  },
  {
   "cell_type": "code",
   "execution_count": null,
   "metadata": {},
   "outputs": [],
   "source": [
    "print(f\"mean:{ed_dnn_2.acc.mean():0.4f} / std:{ed_dnn_2.acc.std():0.4f}\")"
   ]
  },
  {
   "cell_type": "code",
   "execution_count": null,
   "metadata": {},
   "outputs": [],
   "source": [
    "ed_dnn_2.groupby(['user']).mean().acc.std()"
   ]
  },
  {
   "attachments": {},
   "cell_type": "markdown",
   "metadata": {},
   "source": [
    "# Explorando Resultados LOGISTIC REGRESSION"
   ]
  },
  {
   "cell_type": "code",
   "execution_count": null,
   "metadata": {},
   "outputs": [],
   "source": [
    "datetime_now = datetime.now().strftime(\"%Y%m%d_%H%M\")\n",
    "filename_to_write = f\"{datetime_now}_all_logRegression_predictions.txt\""
   ]
  },
  {
   "cell_type": "code",
   "execution_count": null,
   "metadata": {},
   "outputs": [],
   "source": [
    "!find 16_logisticReg_eeg_1s_baseline -type f > {filename_to_write}"
   ]
  },
  {
   "cell_type": "code",
   "execution_count": null,
   "metadata": {},
   "outputs": [],
   "source": [
    "with open(filename_to_write, \"r\") as f:\n",
    "    files_from_session = f.read()\n",
    "\n",
    "files_from_session_as_list = files_from_session.split(\"\\n\")\n",
    "files_from_session_as_list = [cur_file_session for cur_file_session in files_from_session_as_list if len(cur_file_session)>1]\n",
    "print(len(files_from_session_as_list))\n",
    "print(files_from_session_as_list)"
   ]
  },
  {
   "cell_type": "code",
   "execution_count": null,
   "metadata": {},
   "outputs": [],
   "source": [
    "model_result = pd.read_pickle(files_from_session_as_list[0])\n",
    "model_result"
   ]
  },
  {
   "cell_type": "code",
   "execution_count": null,
   "metadata": {},
   "outputs": [],
   "source": [
    "accuracy_dict = {}\n",
    "for each_file in files_from_session_as_list:\n",
    "    # print(each_file)\n",
    "    model_result = pd.read_pickle(each_file)\n",
    "    accuracy_dict[each_file] = model_result['acc'].item()\n",
    "accuracy_dict"
   ]
  },
  {
   "cell_type": "code",
   "execution_count": null,
   "metadata": {},
   "outputs": [],
   "source": [
    "all_models_results_ordered = dict(sorted(accuracy_dict.items(), key=lambda item: item[1], reverse=True))\n",
    "print(len(all_models_results_ordered))\n",
    "all_models_results_ordered\n"
   ]
  },
  {
   "cell_type": "code",
   "execution_count": null,
   "metadata": {},
   "outputs": [],
   "source": [
    "logrec_result_df = pd.DataFrame(all_models_results_ordered.items())\n",
    "logrec_result_df = logrec_result_df.rename(columns={1:'acc'})\n",
    "logrec_result_df"
   ]
  },
  {
   "cell_type": "code",
   "execution_count": null,
   "metadata": {},
   "outputs": [],
   "source": [
    "logrec_result_df[[\"folder\", \"feature\", \"user\"]] = pd.DataFrame(logrec_result_df[0].str.split('/').to_list())\n",
    "logrec_result_df[[\"user\", \"session\"]]  = pd.DataFrame(logrec_result_df['user'].str.split('_').to_list())\n",
    "logrec_result_df"
   ]
  },
  {
   "cell_type": "code",
   "execution_count": null,
   "metadata": {},
   "outputs": [],
   "source": [
    "logrec_result_df = logrec_result_df[['user', 'session', 'feature', 'acc']].sort_values(['user', 'acc'], ascending=[False, False])\n",
    "logrec_result_df.to_csv(f\"{external_data_ref}_logreg_result_summary.csv\")\n",
    "logrec_result_df"
   ]
  },
  {
   "cell_type": "code",
   "execution_count": null,
   "metadata": {},
   "outputs": [],
   "source": [
    "print(f\"mean:{logrec_result_df.acc.mean():0.4f} / std:{logrec_result_df.acc.std():0.4f}\")"
   ]
  },
  {
   "cell_type": "code",
   "execution_count": null,
   "metadata": {},
   "outputs": [],
   "source": [
    "print(\"accuracy per user:\")\n",
    "logrec_result_df.groupby(['user']).mean().sort_values('acc', ascending=False)"
   ]
  },
  {
   "attachments": {},
   "cell_type": "markdown",
   "metadata": {},
   "source": [
    "# LR for each band"
   ]
  },
  {
   "cell_type": "code",
   "execution_count": null,
   "metadata": {},
   "outputs": [],
   "source": [
    "datetime_now = datetime.now().strftime(\"%Y%m%d_%H%M\")\n",
    "external_data_ref = datetime.today().date().strftime(\"%Y%m%d\")\n",
    "\n",
    "full_lr_result_df = pd.DataFrame()\n",
    "all_features = ['de_LDS', 'psd_LDS']\n",
    "\n",
    "for cur_feature in all_features:\n",
    "    for cur_freq_band in [\"delta\",\"theta\", \"alpha\", \"beta\", \"gamma\"]:\n",
    "        filename_to_write = f\"{datetime_now}_all_LR_predictions_{cur_freq_band}.txt\"\n",
    "\n",
    "        os.system(f\"find 20_LR_eeg_1s_baseline_{cur_freq_band}/{cur_feature} -type f > {filename_to_write}\")\n",
    "\n",
    "        with open(filename_to_write, \"r\") as f:\n",
    "            files_from_session = f.read()\n",
    "\n",
    "        files_from_session_as_list = files_from_session.split(\"\\n\")\n",
    "        files_from_session_as_list = [cur_file_session for cur_file_session in files_from_session_as_list if len(cur_file_session)>1]\n",
    "        #print(len(files_from_session_as_list))\n",
    "        #print(files_from_session_as_list)\n",
    "\n",
    "        accuracy_dict = {}\n",
    "        for each_file in files_from_session_as_list:\n",
    "            # print(each_file)\n",
    "            model_result = pd.read_pickle(each_file)\n",
    "            accuracy_dict[each_file] = [model_result['acc'], model_result['n']]\n",
    "\n",
    "        all_models_results_ordered = dict(sorted(accuracy_dict.items(), key=lambda item: item[1], reverse=True))\n",
    "\n",
    "        lr_result_df = pd.DataFrame(all_models_results_ordered.items())\n",
    "        lr_result_df[['acc', 'param']] = pd.DataFrame(lr_result_df[1].to_list())\n",
    "        lr_result_df['param'] = lr_result_df['param'].apply(lambda x: {\"n\":x})\n",
    "        lr_result_df[[\"folder\", \"feature\", \"user\"]] = pd.DataFrame(lr_result_df[0].str.split('/').to_list())\n",
    "        lr_result_df[[\"user\", \"session\"]]  = pd.DataFrame(lr_result_df['user'].str.split('_').to_list())\n",
    "        lr_result_df = lr_result_df[['user', 'session', 'feature', 'param', 'acc']].sort_values(['user', 'acc'], ascending=[False, False])\n",
    "\n",
    "        # lr_result_df.to_csv(f\"{external_data_ref}_knn_result_summary_{cur_freq_band}.csv\")\n",
    "\n",
    "        # print(f\"{cur_freq_band} - mean:{lr_result_df.acc.mean():0.4f} / std:{lr_result_df.acc.std():0.4f}\")\n",
    "        print(f\"{lr_result_df.acc.mean():0.4f}/{lr_result_df.acc.std():0.4f}\")\n",
    "\n",
    "        lr_result_df['freq'] = cur_freq_band\n",
    "        full_lr_result_df = pd.concat([full_lr_result_df, lr_result_df])\n",
    "\n",
    "    full_lr_result_df.reset_index().to_csv(f\"{external_data_ref}_lr_result_summary_each_band_{cur_feature}.csv\")\n",
    "    print('\\n\\n')"
   ]
  },
  {
   "attachments": {},
   "cell_type": "markdown",
   "metadata": {},
   "source": [
    "# Explorando Resultados KNN"
   ]
  },
  {
   "cell_type": "code",
   "execution_count": null,
   "metadata": {},
   "outputs": [],
   "source": [
    "datetime_now = datetime.now().strftime(\"%Y%m%d_%H%M\")\n",
    "filename_to_write = f\"{datetime_now}_all_KNN_predictions.txt\""
   ]
  },
  {
   "cell_type": "code",
   "execution_count": null,
   "metadata": {},
   "outputs": [],
   "source": [
    "!find 17_KNN_eeg_1s_baseline -type f > {filename_to_write}"
   ]
  },
  {
   "cell_type": "code",
   "execution_count": null,
   "metadata": {},
   "outputs": [],
   "source": [
    "with open(filename_to_write, \"r\") as f:\n",
    "    files_from_session = f.read()\n",
    "\n",
    "files_from_session_as_list = files_from_session.split(\"\\n\")\n",
    "files_from_session_as_list = [cur_file_session for cur_file_session in files_from_session_as_list if len(cur_file_session)>1]\n",
    "print(len(files_from_session_as_list))\n",
    "print(files_from_session_as_list)"
   ]
  },
  {
   "cell_type": "code",
   "execution_count": null,
   "metadata": {},
   "outputs": [],
   "source": [
    "model_result = pd.read_pickle(files_from_session_as_list[0])\n",
    "model_result"
   ]
  },
  {
   "cell_type": "code",
   "execution_count": null,
   "metadata": {},
   "outputs": [],
   "source": [
    "accuracy_dict = {}\n",
    "for each_file in files_from_session_as_list:\n",
    "    # print(each_file)\n",
    "    model_result = pd.read_pickle(each_file)\n",
    "    accuracy_dict[each_file] = [model_result['acc'], model_result['n']]\n",
    "accuracy_dict"
   ]
  },
  {
   "cell_type": "code",
   "execution_count": null,
   "metadata": {},
   "outputs": [],
   "source": [
    "all_models_results_ordered = dict(sorted(accuracy_dict.items(), key=lambda item: item[1], reverse=True))\n",
    "print(len(all_models_results_ordered))\n",
    "all_models_results_ordered\n"
   ]
  },
  {
   "cell_type": "code",
   "execution_count": null,
   "metadata": {},
   "outputs": [],
   "source": [
    "knn_result_df = pd.DataFrame(all_models_results_ordered.items())\n",
    "knn_result_df[['acc', 'param']] = pd.DataFrame(knn_result_df[1].to_list())\n",
    "knn_result_df['param'] = knn_result_df['param'].apply(lambda x: {\"n\":x})\n"
   ]
  },
  {
   "cell_type": "code",
   "execution_count": null,
   "metadata": {},
   "outputs": [],
   "source": [
    "#knn_result_df[[\"folder\", \"feature\", \"user\"]] = pd.DataFrame(knn_result_df[0].str.split('/').to_list())\n",
    "#knn_result_df[[\"user\", \"session\"]]  = pd.DataFrame(knn_result_df['user'].str.split('_').to_list())\n",
    "#knn_result_df = knn_result_df[['user', 'session', 'feature', 'param', 'acc']].sort_values(['user', 'acc'], ascending=[False, False])\n",
    "knn_result_df.to_csv(f\"{external_data_ref}_knn_result_summary.csv\")\n",
    "knn_result_df"
   ]
  },
  {
   "cell_type": "code",
   "execution_count": null,
   "metadata": {},
   "outputs": [],
   "source": [
    "print(f\"mean:{knn_result_df.acc.mean():0.4f} / std:{knn_result_df.acc.std():0.4f}\")"
   ]
  },
  {
   "cell_type": "code",
   "execution_count": null,
   "metadata": {},
   "outputs": [],
   "source": [
    "print(\"accuracy per user:\")\n",
    "knn_result_df.groupby(['user']).mean().sort_values('acc', ascending=False)"
   ]
  },
  {
   "attachments": {},
   "cell_type": "markdown",
   "metadata": {},
   "source": [
    "## KNN for each band"
   ]
  },
  {
   "cell_type": "code",
   "execution_count": null,
   "metadata": {},
   "outputs": [],
   "source": [
    "datetime_now = datetime.now().strftime(\"%Y%m%d_%H%M\")\n",
    "external_data_ref = datetime.today().date().strftime(\"%Y%m%d\")\n",
    "\n",
    "full_knn_result_df = pd.DataFrame()\n",
    "for cur_freq_band in [\"delta\",\"theta\", \"alpha\", \"beta\", \"gamma\"]:\n",
    "    filename_to_write = f\"{datetime_now}_all_KNN_predictions_{cur_freq_band}.txt\"\n",
    "\n",
    "    os.system(f\"find 18_KNN_eeg_1s_baseline_{cur_freq_band} -type f > {filename_to_write}\")\n",
    "\n",
    "    with open(filename_to_write, \"r\") as f:\n",
    "        files_from_session = f.read()\n",
    "\n",
    "    files_from_session_as_list = files_from_session.split(\"\\n\")\n",
    "    files_from_session_as_list = [cur_file_session for cur_file_session in files_from_session_as_list if len(cur_file_session)>1]\n",
    "    #print(len(files_from_session_as_list))\n",
    "    #print(files_from_session_as_list)\n",
    "\n",
    "    accuracy_dict = {}\n",
    "    for each_file in files_from_session_as_list:\n",
    "        # print(each_file)\n",
    "        model_result = pd.read_pickle(each_file)\n",
    "        accuracy_dict[each_file] = [model_result['acc'], model_result['n']]\n",
    "\n",
    "    all_models_results_ordered = dict(sorted(accuracy_dict.items(), key=lambda item: item[1], reverse=True))\n",
    "\n",
    "    knn_result_df = pd.DataFrame(all_models_results_ordered.items())\n",
    "    knn_result_df[['acc', 'param']] = pd.DataFrame(knn_result_df[1].to_list())\n",
    "    knn_result_df['param'] = knn_result_df['param'].apply(lambda x: {\"n\":x})\n",
    "    knn_result_df[[\"folder\", \"feature\", \"user\"]] = pd.DataFrame(knn_result_df[0].str.split('/').to_list())\n",
    "    knn_result_df[[\"user\", \"session\"]]  = pd.DataFrame(knn_result_df['user'].str.split('_').to_list())\n",
    "    knn_result_df = knn_result_df[['user', 'session', 'feature', 'param', 'acc']].sort_values(['user', 'acc'], ascending=[False, False])\n",
    "\n",
    "    # knn_result_df.to_csv(f\"{external_data_ref}_knn_result_summary_{cur_freq_band}.csv\")\n",
    "\n",
    "    # print(f\"{cur_freq_band} - mean:{knn_result_df.acc.mean():0.4f} / std:{knn_result_df.acc.std():0.4f}\")\n",
    "    print(f\"{knn_result_df.acc.mean():0.4f}/{knn_result_df.acc.std():0.4f}\")\n",
    "\n",
    "    knn_result_df['freq'] = cur_freq_band\n",
    "    full_knn_result_df = pd.concat([full_knn_result_df, knn_result_df])\n",
    "\n",
    "full_knn_result_df.reset_index().to_csv(f\"{external_data_ref}_knn_result_summary_each_band.csv\")\n"
   ]
  },
  {
   "cell_type": "code",
   "execution_count": null,
   "metadata": {},
   "outputs": [],
   "source": [
    "full_knn_result_df"
   ]
  },
  {
   "cell_type": "code",
   "execution_count": null,
   "metadata": {},
   "outputs": [],
   "source": []
  }
 ],
 "metadata": {
  "kernelspec": {
   "display_name": "ppget_env",
   "language": "python",
   "name": "python3"
  },
  "language_info": {
   "codemirror_mode": {
    "name": "ipython",
    "version": 3
   },
   "file_extension": ".py",
   "mimetype": "text/x-python",
   "name": "python",
   "nbconvert_exporter": "python",
   "pygments_lexer": "ipython3",
   "version": "3.7.16"
  },
  "orig_nbformat": 4,
  "vscode": {
   "interpreter": {
    "hash": "91f9952c56706b049e70c780d2eadeed0ab5d9a1e1cfd3530058c6575c21370c"
   }
  }
 },
 "nbformat": 4,
 "nbformat_minor": 2
}
