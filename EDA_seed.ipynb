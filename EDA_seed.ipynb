{
 "cells": [
  {
   "attachments": {},
   "cell_type": "markdown",
   "metadata": {},
   "source": [
    "# Leitura dos arquivos SEED_EEG (pasta sem os dados de movimento dos olhos)"
   ]
  },
  {
   "cell_type": "code",
   "execution_count": null,
   "metadata": {},
   "outputs": [],
   "source": [
    "import os\n",
    "from glob import glob\n",
    "import pandas as pd\n",
    "import numpy as np\n",
    "import scipy.io\n",
    "import re\n"
   ]
  },
  {
   "cell_type": "code",
   "execution_count": null,
   "metadata": {},
   "outputs": [],
   "source": [
    "os.environ['FILE_PATH'] = '../SEED/SEED_EEG/'\n",
    "FILE_PATH = os.getenv('FILE_PATH', '/mnt/g/Meu Drive/mestrado_ppget')\n",
    "FILE_PATH"
   ]
  },
  {
   "attachments": {},
   "cell_type": "markdown",
   "metadata": {},
   "source": [
    "## Preprocessed_EEG folder:"
   ]
  },
  {
   "cell_type": "code",
   "execution_count": null,
   "metadata": {},
   "outputs": [],
   "source": [
    "PREPROCESSED_PATH = os.path.join(FILE_PATH, \"SEED_EEG/Preprocessed_EEG/\")\n",
    "ALL_FILES = os.listdir(PREPROCESSED_PATH)\n",
    "sorted(ALL_FILES)\n",
    "print(len(ALL_FILES))\n",
    "All_FILES_FULL_PATH = sorted(glob(PREPROCESSED_PATH+'/**'))\n"
   ]
  },
  {
   "cell_type": "code",
   "execution_count": null,
   "metadata": {},
   "outputs": [],
   "source": [
    "All_FILES_FULL_PATH"
   ]
  },
  {
   "cell_type": "code",
   "execution_count": null,
   "metadata": {},
   "outputs": [],
   "source": [
    "import scipy.io\n",
    "mat = scipy.io.loadmat(All_FILES_FULL_PATH[0]) \n",
    "mat"
   ]
  },
  {
   "cell_type": "code",
   "execution_count": null,
   "metadata": {},
   "outputs": [],
   "source": [
    "mat.keys()"
   ]
  },
  {
   "cell_type": "code",
   "execution_count": null,
   "metadata": {},
   "outputs": [],
   "source": [
    "len(mat.keys())"
   ]
  },
  {
   "cell_type": "code",
   "execution_count": null,
   "metadata": {},
   "outputs": [],
   "source": [
    "mat['ww_eeg1'].shape"
   ]
  },
  {
   "attachments": {},
   "cell_type": "markdown",
   "metadata": {},
   "source": []
  },
  {
   "cell_type": "code",
   "execution_count": null,
   "metadata": {},
   "outputs": [],
   "source": [
    "cur_eeg_file = All_FILES_FULL_PATH[0]\n",
    "cur_eeg_file"
   ]
  },
  {
   "cell_type": "code",
   "execution_count": null,
   "metadata": {},
   "outputs": [],
   "source": [
    "labels = scipy.io.loadmat(os.path.join(FILE_PATH, 'SEED_EEG/ExtractedFeatures/label.mat')) \n",
    "print(len(labels['label'][0]))\n",
    "print(labels['label'][0])"
   ]
  },
  {
   "cell_type": "code",
   "execution_count": null,
   "metadata": {},
   "outputs": [],
   "source": [
    "seen_movies = list(cur_egg_data.keys())[3:]\n",
    "eeg_62channels_data = cur_egg_data[seen_movies[0]]\n",
    "len(eeg_62channels_data)\n",
    "\n",
    "eeg_each_chanel_data = eeg_62channels_data[0]\n",
    "pd.DataFrame(eeg_each_chanel_data)\n",
    "\n"
   ]
  },
  {
   "cell_type": "code",
   "execution_count": null,
   "metadata": {},
   "outputs": [],
   "source": [
    "channel_order = pd.read_excel(os.path.join(FILE_PATH, \"SEED_EEG/channel-order.xlsx\"), header=None).reset_index()\n",
    "# channel_order['index'] = channel_order.index+1\n",
    "channel_order\n",
    "# channel_order[channel_order['index'] == eeg_62channels_idx][0].values[0]"
   ]
  },
  {
   "cell_type": "code",
   "execution_count": null,
   "metadata": {},
   "outputs": [],
   "source": [
    "all_data = pd.DataFrame()\n",
    "\n",
    "for cur_eeg_file in All_FILES_FULL_PATH:\n",
    "    subject_id, experiment_date = os.path.basename(cur_eeg_file).split('_')\n",
    "    cur_egg_data = scipy.io.loadmat(cur_eeg_file) \n",
    "    seen_movies = list(cur_egg_data.keys())[3:]\n",
    "    for cur_seen_movies in seen_movies:\n",
    "        eeg_62channels_data = cur_egg_data[cur_seen_movies]\n",
    "        eeg_62channels_idx = 0\n",
    "        for eeg_each_chanel_data in eeg_62channels_data:\n",
    "            # each_chanel_as_df = pd.DataFrame(eeg_each_chanel_data)\n",
    "            eeg_channel = channel_order[channel_order['index'] == eeg_62channels_idx][0].values[0]\n",
    "            print(cur_eeg_file, subject_id, experiment_date, cur_seen_movies,eeg_channel)\n",
    "            all_data = all_data.append({\"subject_id\":subject_id, \"experiment_date\":experiment_date, \"cur_seen_movie\":cur_seen_movies,\"eeg_channel\":eeg_channel, \"eeg_data\":list(eeg_each_chanel_data)},ignore_index=True)\n",
    "            eeg_62channels_idx+=1\n",
    "            # break\n",
    "        break\n",
    "    all_data.to_excel(\"dados_compilados.xlsx\")\n",
    "    break"
   ]
  },
  {
   "attachments": {},
   "cell_type": "markdown",
   "metadata": {},
   "source": [
    "## ExtractedFeatures Folder:"
   ]
  },
  {
   "attachments": {},
   "cell_type": "markdown",
   "metadata": {},
   "source": [
    "### Ja possui differential entropy (DE), differential asymmetry (DASM), asymmetry (RASM)  \n",
    "\n",
    "\n",
    "* differential entropy (DE): \n",
    "    * Identifying Stable Patterns over Time for Emotion Recognition from EEG - artigo original SEED \n",
    "    * EEG Emotion Recognition Using Dynamical Graph Convolutional Neural Networks - aplicação direta com SEED (dynamical graph convolutional neural networks (DGCNN))\n",
    "    * Multi-method Fusion of Cross-Subject Emotion Recognition Based on High-Dimensional EEG Features\n",
    "\n",
    "\n",
    "\n",
    "From our previous work[40], [41], [42], we have found that the following six different features and electrode combina- tions are efficient for EEG-based emotion recognition: power spectral density (PSD), differential entropy (DE), dif- ferential asymmetry (DASM), rational asymmetry (RASM), asymmetry (ASM) and differential caudality (DCAU) fea- tures from the EEG. As"
   ]
  },
  {
   "attachments": {},
   "cell_type": "markdown",
   "metadata": {},
   "source": []
  },
  {
   "cell_type": "code",
   "execution_count": null,
   "metadata": {},
   "outputs": [],
   "source": [
    "EXTRACTED_FEATURES_PATH = os.path.join(FILE_PATH,\"SEED_EEG/ExtractedFeatures/\")\n",
    "ALL_FILES = os.listdir(EXTRACTED_FEATURES_PATH)\n",
    "sorted(ALL_FILES)\n",
    "print(len(ALL_FILES))\n",
    "All_FILES_FULL_PATH = sorted(glob(EXTRACTED_FEATURES_PATH+'/**'))\n",
    "All_FILES_FULL_PATH\n"
   ]
  },
  {
   "cell_type": "code",
   "execution_count": null,
   "metadata": {},
   "outputs": [],
   "source": [
    "All_FILES_FULL_PATH[0]"
   ]
  },
  {
   "cell_type": "code",
   "execution_count": null,
   "metadata": {},
   "outputs": [],
   "source": [
    "import scipy.io\n",
    "mat = scipy.io.loadmat(All_FILES_FULL_PATH[0]) \n",
    "mat"
   ]
  },
  {
   "cell_type": "code",
   "execution_count": null,
   "metadata": {},
   "outputs": [],
   "source": [
    "mat.keys()"
   ]
  },
  {
   "attachments": {},
   "cell_type": "markdown",
   "metadata": {},
   "source": [
    "###  15 chaves para cada uma das features [asm', 'psd', 'rasm', 'dasm', 'dcau', 'de']\n",
    "* 'asm_LDS', 'asm_movingAve',\n",
    "* 'dasm_LDS', 'dasm_movingAve',\n",
    "* 'dcau_LDS', 'dcau_movingAve',\n",
    "* 'de_LDS', 'de_movingAve',\n",
    "* 'psd_LDS', 'psd_movingAve',\n",
    "* 'rasm_LDS', 'rasm_movingAve'\n"
   ]
  },
  {
   "attachments": {},
   "cell_type": "markdown",
   "metadata": {},
   "source": [
    "### 6 features (de, psd, etc) X 2 possibilidades (LDS, movAve) x 15 videos = 180"
   ]
  },
  {
   "cell_type": "code",
   "execution_count": null,
   "metadata": {},
   "outputs": [],
   "source": [
    "len(mat.keys()) -3"
   ]
  },
  {
   "cell_type": "code",
   "execution_count": null,
   "metadata": {},
   "outputs": [],
   "source": [
    "# all_feautres = [each_feature.split('_')[0] for each_feature in sorted(list(mat.keys()))]\n",
    "all_feautres = [re.findall('\\D+', each_feature)[0] for each_feature in sorted(list(mat.keys()))]\n",
    "sorted(list(set(all_feautres)))"
   ]
  },
  {
   "cell_type": "code",
   "execution_count": null,
   "metadata": {},
   "outputs": [],
   "source": [
    "filter_features = [each_feature for each_feature in sorted(list(mat.keys())) if 'de_LDS' in each_feature]\n",
    "filter_features"
   ]
  },
  {
   "cell_type": "code",
   "execution_count": null,
   "metadata": {},
   "outputs": [],
   "source": [
    "mat['de_LDS1'].shape"
   ]
  },
  {
   "cell_type": "code",
   "execution_count": null,
   "metadata": {},
   "outputs": [],
   "source": [
    "mat['de_LDS13'].shape"
   ]
  },
  {
   "cell_type": "code",
   "execution_count": null,
   "metadata": {},
   "outputs": [],
   "source": [
    "mat['de_LDS1'][0].shape"
   ]
  },
  {
   "attachments": {},
   "cell_type": "markdown",
   "metadata": {},
   "source": [
    "# Leitura do Pickel do modelo"
   ]
  },
  {
   "attachments": {},
   "cell_type": "markdown",
   "metadata": {},
   "source": [
    "### de_lds"
   ]
  },
  {
   "cell_type": "code",
   "execution_count": null,
   "metadata": {},
   "outputs": [],
   "source": [
    "import pandas as pd\n",
    "import os\n",
    "from datetime import datetime"
   ]
  },
  {
   "cell_type": "code",
   "execution_count": null,
   "metadata": {},
   "outputs": [],
   "source": [
    "model_folder = \"11_dnn_eeg_1s_baseline\"\n",
    "#model_folder = \"13_svm_eeg_1s_baseline\"\n",
    "\n",
    "all_lr = os.listdir(model_folder)\n",
    "print(all_lr)\n",
    "if len(all_lr) == 1:\n",
    "    idx_feature = 0\n",
    "else:\n",
    "    idx_feature = 2\n",
    "cur_feature = all_lr[idx_feature]\n",
    "print(idx_feature)\n",
    "print(cur_feature)"
   ]
  },
  {
   "cell_type": "code",
   "execution_count": null,
   "metadata": {},
   "outputs": [],
   "source": [
    "#cur_feature = \"de_LDS0\"\n",
    "cur_experiment = \"10_20131130\"\n",
    "\n",
    "cur_model_path = os.path.join(os.getcwd(), model_folder, cur_feature, cur_experiment)\n",
    "print(cur_model_path)\n",
    "model_result = pd.read_pickle(cur_model_path)"
   ]
  },
  {
   "cell_type": "code",
   "execution_count": null,
   "metadata": {},
   "outputs": [],
   "source": [
    "model_result"
   ]
  },
  {
   "cell_type": "code",
   "execution_count": null,
   "metadata": {},
   "outputs": [],
   "source": [
    "model_result.keys()"
   ]
  },
  {
   "cell_type": "code",
   "execution_count": null,
   "metadata": {},
   "outputs": [],
   "source": [
    "model_result[\"true_label\"].shape"
   ]
  },
  {
   "attachments": {},
   "cell_type": "markdown",
   "metadata": {},
   "source": [
    "Utilizando o artigo original do seed eu quero verificar os resultados."
   ]
  },
  {
   "cell_type": "code",
   "execution_count": null,
   "metadata": {},
   "outputs": [],
   "source": [
    "!find 11_dnn_eeg_1s_baseline -name {cur_experiment} >> {cur_experiment}.txt"
   ]
  },
  {
   "cell_type": "code",
   "execution_count": null,
   "metadata": {},
   "outputs": [],
   "source": [
    "with open(f\"{cur_experiment}.txt\", \"r\") as f:\n",
    "    files_from_session = f.read()\n",
    "\n",
    "files_from_session_as_list = files_from_session.split(\"\\n\")\n",
    "files_from_session_as_list = [cur_file_session for cur_file_session in files_from_session_as_list if len(cur_file_session)>1]\n",
    "files_from_session_as_list"
   ]
  },
  {
   "cell_type": "code",
   "execution_count": null,
   "metadata": {},
   "outputs": [],
   "source": [
    "accuracy_dict = {}\n",
    "for each_file in files_from_session_as_list:\n",
    "    print(each_file)\n",
    "    model_result = pd.read_pickle(each_file)\n",
    "    accuracy_dict[each_file] = model_result['acc']"
   ]
  },
  {
   "cell_type": "code",
   "execution_count": null,
   "metadata": {},
   "outputs": [],
   "source": [
    "accuracy_dict"
   ]
  },
  {
   "cell_type": "code",
   "execution_count": null,
   "metadata": {},
   "outputs": [],
   "source": [
    "dict(sorted(accuracy_dict.items(), key=lambda item: item[1], reverse=True))\n"
   ]
  },
  {
   "attachments": {},
   "cell_type": "markdown",
   "metadata": {},
   "source": [
    "# Explorando resultados SVM"
   ]
  },
  {
   "attachments": {},
   "cell_type": "markdown",
   "metadata": {},
   "source": [
    "## Verificando vetor de decisao"
   ]
  },
  {
   "cell_type": "code",
   "execution_count": null,
   "metadata": {},
   "outputs": [],
   "source": [
    "model_result"
   ]
  },
  {
   "cell_type": "code",
   "execution_count": null,
   "metadata": {},
   "outputs": [],
   "source": [
    "model_result['test_label'].shape"
   ]
  },
  {
   "cell_type": "code",
   "execution_count": null,
   "metadata": {},
   "outputs": [],
   "source": [
    "# os primeiros 237 valores sao do 10 video, que de acordo com o arquivo seed-stimulation possuem o sentimento 2\n",
    "# model_result['test_label'][0:237].shape\n",
    "# os proximos 235 valores sao do 11 video, que de acordo com o arquivo seed-stimulation possuem o sentimento 2\n",
    "# model_result['test_label'][237:472].shape\n",
    "# os proximos 233 valores sao do 12 video, que de acordo com o arquivo seed-stimulation possuem o sentimento 1\n",
    "model_result['test_label'][472:705]#.shape"
   ]
  },
  {
   "cell_type": "code",
   "execution_count": null,
   "metadata": {},
   "outputs": [],
   "source": [
    "# comprovando que O SVM fez a predicao correta.\n",
    "model_result['decision_val'][472:705]"
   ]
  },
  {
   "attachments": {},
   "cell_type": "markdown",
   "metadata": {},
   "source": [
    "## Verificando acuracia SVM"
   ]
  },
  {
   "cell_type": "code",
   "execution_count": null,
   "metadata": {},
   "outputs": [],
   "source": [
    "cur_experiment = '20230825_SVM_ACCURACY'"
   ]
  },
  {
   "cell_type": "code",
   "execution_count": null,
   "metadata": {},
   "outputs": [],
   "source": [
    "!find 20230825_svm_eeg_1s_baseline_all -type f >> {cur_experiment}.txt"
   ]
  },
  {
   "cell_type": "code",
   "execution_count": null,
   "metadata": {},
   "outputs": [],
   "source": [
    "with open(f\"{cur_experiment}.txt\", \"r\") as f:\n",
    "    files_from_session = f.read()\n",
    "\n",
    "files_from_session_as_list = files_from_session.split(\"\\n\")\n",
    "files_from_session_as_list = [cur_file_session for cur_file_session in files_from_session_as_list if len(cur_file_session)>1]\n",
    "files_from_session_as_list"
   ]
  },
  {
   "cell_type": "code",
   "execution_count": null,
   "metadata": {},
   "outputs": [],
   "source": [
    "accuracy_dict = {}\n",
    "for each_file in files_from_session_as_list:\n",
    "    print(each_file)\n",
    "    model_result = pd.read_pickle(each_file)\n",
    "    accuracy_dict[each_file] = [model_result['acc'], model_result['c']]"
   ]
  },
  {
   "cell_type": "code",
   "execution_count": null,
   "metadata": {},
   "outputs": [],
   "source": [
    "all_models_results_ordered = dict(sorted(accuracy_dict.items(), key=lambda item: item[1], reverse=True))\n",
    "all_models_results_ordered"
   ]
  },
  {
   "cell_type": "code",
   "execution_count": null,
   "metadata": {},
   "outputs": [],
   "source": [
    "result_df = pd.DataFrame(all_models_results_ordered.items())\n",
    "result_df"
   ]
  },
  {
   "cell_type": "code",
   "execution_count": null,
   "metadata": {},
   "outputs": [],
   "source": [
    "result_df[['acc', 'param']] = pd.DataFrame(result_df[1].to_list())\n",
    "result_df['param'] = result_df['param'].apply(lambda x: {\"c\":x})\n",
    "result_df"
   ]
  },
  {
   "cell_type": "code",
   "execution_count": null,
   "metadata": {},
   "outputs": [],
   "source": [
    "result_df[[\"folder\", \"feature\", \"user\"]] = pd.DataFrame(result_df[0].str.split('/').to_list())\n",
    "result_df"
   ]
  },
  {
   "cell_type": "code",
   "execution_count": null,
   "metadata": {},
   "outputs": [],
   "source": [
    "result_df[[\"user\", \"session\"]]  = pd.DataFrame(result_df['user'].str.split('_').to_list())\n",
    "result_df"
   ]
  },
  {
   "cell_type": "code",
   "execution_count": null,
   "metadata": {},
   "outputs": [],
   "source": [
    "result_df[['user', 'session', 'feature', 'param', 'acc']].sort_values(['user', 'acc'], ascending=[False, False]).to_csv(f\"{cur_experiment}.csv\")"
   ]
  },
  {
   "cell_type": "code",
   "execution_count": null,
   "metadata": {},
   "outputs": [],
   "source": [
    "import os\n",
    "# eeg_dir = '../Features/China/feature_smooth_eeg_1s/'\n",
    "os.environ['FILE_PATH'] = '../SEED/SEED_EEG/'\n",
    "FILE_PATH = os.getenv('FILE_PATH', '/mnt/g/Meu Drive/mestrado_ppget')\n",
    "print(FILE_PATH)\n",
    "eeg_dir = os.path.join(FILE_PATH,\"SEED_EEG/ExtractedFeatures/\")\n",
    "eeg_file_list = os.listdir(eeg_dir)\n",
    "eeg_file_list.sort()"
   ]
  },
  {
   "cell_type": "code",
   "execution_count": null,
   "metadata": {},
   "outputs": [],
   "source": [
    "eeg_file_list.index('13_20140527.mat')"
   ]
  },
  {
   "cell_type": "code",
   "execution_count": null,
   "metadata": {},
   "outputs": [],
   "source": [
    "eeg_file_list[10:]"
   ]
  },
  {
   "attachments": {},
   "cell_type": "markdown",
   "metadata": {},
   "source": [
    "## SVM for each band"
   ]
  },
  {
   "cell_type": "code",
   "execution_count": 46,
   "metadata": {},
   "outputs": [
    {
     "name": "stdout",
     "output_type": "stream",
     "text": [
      "delta - 0.6301/0.1289\n",
      "theta - 0.6961/0.1378\n",
      "alpha - 0.7153/0.1422\n",
      "beta - 0.7982/0.1371\n",
      "gamma - 0.7825/0.1501\n",
      "all - 0.8444/0.1158\n",
      "delta - 0.6191/0.1410\n",
      "theta - 0.6943/0.1241\n",
      "alpha - 0.6633/0.1642\n",
      "beta - 0.7104/0.1701\n",
      "gamma - 0.7196/0.1502\n",
      "all - 0.7799/0.1391\n",
      "delta - 0.4899/0.1289\n",
      "theta - 0.5349/0.1454\n",
      "alpha - 0.6121/0.1496\n",
      "beta - 0.7448/0.1764\n",
      "gamma - 0.7711/0.1583\n",
      "all - 0.7688/0.1446\n",
      "delta - 0.4983/0.1283\n",
      "theta - 0.5353/0.1490\n",
      "alpha - 0.6195/0.1502\n",
      "beta - 0.7387/0.1767\n",
      "gamma - 0.7722/0.1590\n",
      "all - 0.7680/0.1444\n",
      "delta - 0.4909/0.1304\n",
      "theta - 0.5377/0.1503\n",
      "alpha - 0.6148/0.1458\n",
      "beta - 0.7344/0.1771\n",
      "gamma - 0.7617/0.1607\n",
      "all - 0.7645/0.1437\n",
      "delta - 0.5749/0.1575\n",
      "theta - 0.6016/0.1462\n",
      "alpha - 0.6477/0.1430\n",
      "beta - 0.7490/0.1634\n",
      "gamma - 0.7767/0.1685\n",
      "all - 0.8143/0.1162\n"
     ]
    }
   ],
   "source": [
    "from datetime import datetime\n",
    "datetime_now = datetime.now().strftime(\"%Y%m%d_%H%M\")\n",
    "external_data_ref = datetime.today().date().strftime(\"%Y%m%d\")\n",
    "\n",
    "full_svm_result_df = pd.DataFrame()\n",
    "all_features = ['de_LDS','psd_LDS', 'rasm_LDS', 'dasm_LDS', 'asm_LDS','dcau_LDS']\n",
    "\n",
    "for cur_feature in all_features:\n",
    "    for cur_freq_band in [\"delta\",\"theta\", \"alpha\", \"beta\", \"gamma\",\"all\"]:\n",
    "        filename_to_write = f\"{datetime_now}_all_SVM_predictions_{cur_freq_band}.txt\"\n",
    "\n",
    "        os.system(f\"find 20230829_svm_eeg_1s_baseline_{cur_freq_band}/{cur_feature} -type f > {filename_to_write}\")\n",
    "\n",
    "        with open(filename_to_write, \"r\") as f:\n",
    "            files_from_session = f.read()\n",
    "\n",
    "        files_from_session_as_list = files_from_session.split(\"\\n\")\n",
    "        files_from_session_as_list = [cur_file_session for cur_file_session in files_from_session_as_list if len(cur_file_session)>1]\n",
    "        #print(len(files_from_session_as_list))\n",
    "        #print(files_from_session_as_list)\n",
    "\n",
    "        accuracy_dict = {}\n",
    "        for each_file in files_from_session_as_list:\n",
    "            # print(each_file)\n",
    "            model_result = pd.read_pickle(each_file)\n",
    "            accuracy_dict[each_file] = [model_result['acc'], model_result['c']]\n",
    "\n",
    "        all_models_results_ordered = dict(sorted(accuracy_dict.items(), key=lambda item: item[1], reverse=True))\n",
    "\n",
    "        svm_result_df = pd.DataFrame(all_models_results_ordered.items())\n",
    "        svm_result_df[['acc', 'param']] = pd.DataFrame(svm_result_df[1].to_list())\n",
    "        svm_result_df['param'] = svm_result_df['param'].apply(lambda x: {\"c\":x})\n",
    "        svm_result_df[[\"folder\", \"feature\", \"user\"]] = pd.DataFrame(svm_result_df[0].str.split('/').to_list())\n",
    "        svm_result_df[[\"user\", \"session\"]]  = pd.DataFrame(svm_result_df['user'].str.split('_').to_list())\n",
    "        svm_result_df = svm_result_df[['user', 'session', 'feature', 'param', 'acc']].sort_values(['user', 'acc'], ascending=[False, False])\n",
    "\n",
    "        # svm_result_df.to_csv(f\"{external_data_ref}_SVM_result_summary_{cur_freq_band}.csv\")\n",
    "\n",
    "        # print(f\"{cur_freq_band} - mean:{svm_result_df.acc.mean():0.4f} / std:{svm_result_df.acc.std():0.4f}\")\n",
    "        print(f\"{cur_freq_band} - {svm_result_df.acc.mean():0.4f}/{svm_result_df.acc.std():0.4f}\")\n",
    "\n",
    "        svm_result_df['freq'] = cur_freq_band\n",
    "        full_svm_result_df = pd.concat([full_svm_result_df, svm_result_df])\n",
    "\n",
    "    full_svm_result_df.reset_index().to_csv(f\"{external_data_ref}_SVM_result_summary_each_band_{cur_feature}.csv\")\n"
   ]
  },
  {
   "cell_type": "code",
   "execution_count": 47,
   "metadata": {},
   "outputs": [],
   "source": [
    "full_svm_result_df['acc'] = full_svm_result_df['acc'].round(4)*100\n",
    "full_svm_result_df['user'] = full_svm_result_df['user'].astype(int)"
   ]
  },
  {
   "cell_type": "code",
   "execution_count": 48,
   "metadata": {},
   "outputs": [
    {
     "data": {
      "text/html": [
       "<div>\n",
       "<style scoped>\n",
       "    .dataframe tbody tr th:only-of-type {\n",
       "        vertical-align: middle;\n",
       "    }\n",
       "\n",
       "    .dataframe tbody tr th {\n",
       "        vertical-align: top;\n",
       "    }\n",
       "\n",
       "    .dataframe thead tr th {\n",
       "        text-align: left;\n",
       "    }\n",
       "\n",
       "    .dataframe thead tr:last-of-type th {\n",
       "        text-align: right;\n",
       "    }\n",
       "</style>\n",
       "<table border=\"1\" class=\"dataframe\">\n",
       "  <thead>\n",
       "    <tr>\n",
       "      <th></th>\n",
       "      <th></th>\n",
       "      <th colspan=\"6\" halign=\"left\">acc</th>\n",
       "    </tr>\n",
       "    <tr>\n",
       "      <th></th>\n",
       "      <th>freq</th>\n",
       "      <th>delta</th>\n",
       "      <th>theta</th>\n",
       "      <th>alpha</th>\n",
       "      <th>beta</th>\n",
       "      <th>gamma</th>\n",
       "      <th>all</th>\n",
       "    </tr>\n",
       "    <tr>\n",
       "      <th>feature</th>\n",
       "      <th>user</th>\n",
       "      <th></th>\n",
       "      <th></th>\n",
       "      <th></th>\n",
       "      <th></th>\n",
       "      <th></th>\n",
       "      <th></th>\n",
       "    </tr>\n",
       "  </thead>\n",
       "  <tbody>\n",
       "    <tr>\n",
       "      <th rowspan=\"5\" valign=\"top\">de_LDS</th>\n",
       "      <th>1</th>\n",
       "      <td>58.720000</td>\n",
       "      <td>73.530000</td>\n",
       "      <td>61.873333</td>\n",
       "      <td>72.880000</td>\n",
       "      <td>76.060000</td>\n",
       "      <td>77.766667</td>\n",
       "    </tr>\n",
       "    <tr>\n",
       "      <th>2</th>\n",
       "      <td>73.410000</td>\n",
       "      <td>51.806667</td>\n",
       "      <td>66.283333</td>\n",
       "      <td>64.666667</td>\n",
       "      <td>64.980000</td>\n",
       "      <td>86.463333</td>\n",
       "    </tr>\n",
       "    <tr>\n",
       "      <th>3</th>\n",
       "      <td>67.290000</td>\n",
       "      <td>68.066667</td>\n",
       "      <td>75.963333</td>\n",
       "      <td>81.263333</td>\n",
       "      <td>77.626667</td>\n",
       "      <td>89.523333</td>\n",
       "    </tr>\n",
       "    <tr>\n",
       "      <th>4</th>\n",
       "      <td>58.236667</td>\n",
       "      <td>69.993333</td>\n",
       "      <td>72.400000</td>\n",
       "      <td>68.980000</td>\n",
       "      <td>73.410000</td>\n",
       "      <td>72.833333</td>\n",
       "    </tr>\n",
       "    <tr>\n",
       "      <th>5</th>\n",
       "      <td>65.196667</td>\n",
       "      <td>81.670000</td>\n",
       "      <td>66.473333</td>\n",
       "      <td>75.436667</td>\n",
       "      <td>58.093333</td>\n",
       "      <td>80.153333</td>\n",
       "    </tr>\n",
       "    <tr>\n",
       "      <th>...</th>\n",
       "      <th>...</th>\n",
       "      <td>...</td>\n",
       "      <td>...</td>\n",
       "      <td>...</td>\n",
       "      <td>...</td>\n",
       "      <td>...</td>\n",
       "      <td>...</td>\n",
       "    </tr>\n",
       "    <tr>\n",
       "      <th rowspan=\"5\" valign=\"top\">dcau_LDS</th>\n",
       "      <th>11</th>\n",
       "      <td>60.596667</td>\n",
       "      <td>53.346667</td>\n",
       "      <td>87.403333</td>\n",
       "      <td>90.606667</td>\n",
       "      <td>89.860000</td>\n",
       "      <td>86.730000</td>\n",
       "    </tr>\n",
       "    <tr>\n",
       "      <th>12</th>\n",
       "      <td>52.120000</td>\n",
       "      <td>73.290000</td>\n",
       "      <td>69.340000</td>\n",
       "      <td>78.420000</td>\n",
       "      <td>84.150000</td>\n",
       "      <td>86.296667</td>\n",
       "    </tr>\n",
       "    <tr>\n",
       "      <th>13</th>\n",
       "      <td>61.296667</td>\n",
       "      <td>69.940000</td>\n",
       "      <td>61.006667</td>\n",
       "      <td>82.560000</td>\n",
       "      <td>92.076667</td>\n",
       "      <td>83.213333</td>\n",
       "    </tr>\n",
       "    <tr>\n",
       "      <th>14</th>\n",
       "      <td>58.380000</td>\n",
       "      <td>54.336667</td>\n",
       "      <td>66.016667</td>\n",
       "      <td>71.483333</td>\n",
       "      <td>75.096667</td>\n",
       "      <td>77.406667</td>\n",
       "    </tr>\n",
       "    <tr>\n",
       "      <th>15</th>\n",
       "      <td>71.893333</td>\n",
       "      <td>49.806667</td>\n",
       "      <td>72.326667</td>\n",
       "      <td>90.943333</td>\n",
       "      <td>94.410000</td>\n",
       "      <td>94.606667</td>\n",
       "    </tr>\n",
       "  </tbody>\n",
       "</table>\n",
       "<p>90 rows × 6 columns</p>\n",
       "</div>"
      ],
      "text/plain": [
       "                     acc                                              \\\n",
       "freq               delta      theta      alpha       beta      gamma   \n",
       "feature  user                                                          \n",
       "de_LDS   1     58.720000  73.530000  61.873333  72.880000  76.060000   \n",
       "         2     73.410000  51.806667  66.283333  64.666667  64.980000   \n",
       "         3     67.290000  68.066667  75.963333  81.263333  77.626667   \n",
       "         4     58.236667  69.993333  72.400000  68.980000  73.410000   \n",
       "         5     65.196667  81.670000  66.473333  75.436667  58.093333   \n",
       "...                  ...        ...        ...        ...        ...   \n",
       "dcau_LDS 11    60.596667  53.346667  87.403333  90.606667  89.860000   \n",
       "         12    52.120000  73.290000  69.340000  78.420000  84.150000   \n",
       "         13    61.296667  69.940000  61.006667  82.560000  92.076667   \n",
       "         14    58.380000  54.336667  66.016667  71.483333  75.096667   \n",
       "         15    71.893333  49.806667  72.326667  90.943333  94.410000   \n",
       "\n",
       "                          \n",
       "freq                 all  \n",
       "feature  user             \n",
       "de_LDS   1     77.766667  \n",
       "         2     86.463333  \n",
       "         3     89.523333  \n",
       "         4     72.833333  \n",
       "         5     80.153333  \n",
       "...                  ...  \n",
       "dcau_LDS 11    86.730000  \n",
       "         12    86.296667  \n",
       "         13    83.213333  \n",
       "         14    77.406667  \n",
       "         15    94.606667  \n",
       "\n",
       "[90 rows x 6 columns]"
      ]
     },
     "execution_count": 48,
     "metadata": {},
     "output_type": "execute_result"
    }
   ],
   "source": [
    "# Media Por individuo\n",
    "full_svm_result_df.pivot_table(index=['feature','user'], columns=['freq'],values=['acc'])\\\n",
    "    .reindex([\"delta\",\"theta\", \"alpha\", \"beta\", \"gamma\", \"all\"],axis=1,level=1)\\\n",
    "    .reindex(['de_LDS','psd_LDS', 'rasm_LDS', 'dasm_LDS', 'asm_LDS','dcau_LDS'],axis=0, level=0)\n"
   ]
  },
  {
   "cell_type": "code",
   "execution_count": 49,
   "metadata": {},
   "outputs": [
    {
     "data": {
      "text/html": [
       "<div>\n",
       "<style scoped>\n",
       "    .dataframe tbody tr th:only-of-type {\n",
       "        vertical-align: middle;\n",
       "    }\n",
       "\n",
       "    .dataframe tbody tr th {\n",
       "        vertical-align: top;\n",
       "    }\n",
       "\n",
       "    .dataframe thead tr th {\n",
       "        text-align: left;\n",
       "    }\n",
       "\n",
       "    .dataframe thead tr:last-of-type th {\n",
       "        text-align: right;\n",
       "    }\n",
       "</style>\n",
       "<table border=\"1\" class=\"dataframe\">\n",
       "  <thead>\n",
       "    <tr>\n",
       "      <th></th>\n",
       "      <th colspan=\"12\" halign=\"left\">acc</th>\n",
       "    </tr>\n",
       "    <tr>\n",
       "      <th></th>\n",
       "      <th colspan=\"6\" halign=\"left\">mean</th>\n",
       "      <th colspan=\"6\" halign=\"left\">std</th>\n",
       "    </tr>\n",
       "    <tr>\n",
       "      <th>freq</th>\n",
       "      <th>all</th>\n",
       "      <th>alpha</th>\n",
       "      <th>beta</th>\n",
       "      <th>delta</th>\n",
       "      <th>gamma</th>\n",
       "      <th>theta</th>\n",
       "      <th>all</th>\n",
       "      <th>alpha</th>\n",
       "      <th>beta</th>\n",
       "      <th>delta</th>\n",
       "      <th>gamma</th>\n",
       "      <th>theta</th>\n",
       "    </tr>\n",
       "    <tr>\n",
       "      <th>feature</th>\n",
       "      <th></th>\n",
       "      <th></th>\n",
       "      <th></th>\n",
       "      <th></th>\n",
       "      <th></th>\n",
       "      <th></th>\n",
       "      <th></th>\n",
       "      <th></th>\n",
       "      <th></th>\n",
       "      <th></th>\n",
       "      <th></th>\n",
       "      <th></th>\n",
       "    </tr>\n",
       "  </thead>\n",
       "  <tbody>\n",
       "    <tr>\n",
       "      <th>asm_LDS</th>\n",
       "      <td>76.452889</td>\n",
       "      <td>61.482222</td>\n",
       "      <td>73.442444</td>\n",
       "      <td>49.093333</td>\n",
       "      <td>76.171556</td>\n",
       "      <td>53.764444</td>\n",
       "      <td>14.370204</td>\n",
       "      <td>14.580634</td>\n",
       "      <td>17.711631</td>\n",
       "      <td>13.039906</td>\n",
       "      <td>16.072736</td>\n",
       "      <td>15.029487</td>\n",
       "    </tr>\n",
       "    <tr>\n",
       "      <th>dasm_LDS</th>\n",
       "      <td>76.801333</td>\n",
       "      <td>61.954000</td>\n",
       "      <td>73.871111</td>\n",
       "      <td>49.826889</td>\n",
       "      <td>77.224222</td>\n",
       "      <td>53.527556</td>\n",
       "      <td>14.441105</td>\n",
       "      <td>15.016069</td>\n",
       "      <td>17.674402</td>\n",
       "      <td>12.830926</td>\n",
       "      <td>15.897314</td>\n",
       "      <td>14.904275</td>\n",
       "    </tr>\n",
       "    <tr>\n",
       "      <th>dcau_LDS</th>\n",
       "      <td>81.428444</td>\n",
       "      <td>64.770444</td>\n",
       "      <td>74.900000</td>\n",
       "      <td>57.490000</td>\n",
       "      <td>77.667556</td>\n",
       "      <td>60.157111</td>\n",
       "      <td>11.623271</td>\n",
       "      <td>14.299843</td>\n",
       "      <td>16.337169</td>\n",
       "      <td>15.751355</td>\n",
       "      <td>16.848737</td>\n",
       "      <td>14.618634</td>\n",
       "    </tr>\n",
       "    <tr>\n",
       "      <th>de_LDS</th>\n",
       "      <td>84.439333</td>\n",
       "      <td>71.530667</td>\n",
       "      <td>79.824000</td>\n",
       "      <td>63.005778</td>\n",
       "      <td>78.253333</td>\n",
       "      <td>69.614667</td>\n",
       "      <td>11.576629</td>\n",
       "      <td>14.219806</td>\n",
       "      <td>13.712045</td>\n",
       "      <td>12.891150</td>\n",
       "      <td>15.009233</td>\n",
       "      <td>13.778185</td>\n",
       "    </tr>\n",
       "    <tr>\n",
       "      <th>psd_LDS</th>\n",
       "      <td>77.994889</td>\n",
       "      <td>66.334444</td>\n",
       "      <td>71.038222</td>\n",
       "      <td>61.912444</td>\n",
       "      <td>71.962889</td>\n",
       "      <td>69.426667</td>\n",
       "      <td>13.910390</td>\n",
       "      <td>16.424886</td>\n",
       "      <td>17.008295</td>\n",
       "      <td>14.102146</td>\n",
       "      <td>15.023268</td>\n",
       "      <td>12.411887</td>\n",
       "    </tr>\n",
       "    <tr>\n",
       "      <th>rasm_LDS</th>\n",
       "      <td>76.877778</td>\n",
       "      <td>61.212444</td>\n",
       "      <td>74.478000</td>\n",
       "      <td>48.993778</td>\n",
       "      <td>77.111333</td>\n",
       "      <td>53.487111</td>\n",
       "      <td>14.459169</td>\n",
       "      <td>14.957801</td>\n",
       "      <td>17.640809</td>\n",
       "      <td>12.887822</td>\n",
       "      <td>15.833787</td>\n",
       "      <td>14.535379</td>\n",
       "    </tr>\n",
       "  </tbody>\n",
       "</table>\n",
       "</div>"
      ],
      "text/plain": [
       "                acc                                                         \\\n",
       "               mean                                                          \n",
       "freq            all      alpha       beta      delta      gamma      theta   \n",
       "feature                                                                      \n",
       "asm_LDS   76.452889  61.482222  73.442444  49.093333  76.171556  53.764444   \n",
       "dasm_LDS  76.801333  61.954000  73.871111  49.826889  77.224222  53.527556   \n",
       "dcau_LDS  81.428444  64.770444  74.900000  57.490000  77.667556  60.157111   \n",
       "de_LDS    84.439333  71.530667  79.824000  63.005778  78.253333  69.614667   \n",
       "psd_LDS   77.994889  66.334444  71.038222  61.912444  71.962889  69.426667   \n",
       "rasm_LDS  76.877778  61.212444  74.478000  48.993778  77.111333  53.487111   \n",
       "\n",
       "                                                                            \n",
       "                std                                                         \n",
       "freq            all      alpha       beta      delta      gamma      theta  \n",
       "feature                                                                     \n",
       "asm_LDS   14.370204  14.580634  17.711631  13.039906  16.072736  15.029487  \n",
       "dasm_LDS  14.441105  15.016069  17.674402  12.830926  15.897314  14.904275  \n",
       "dcau_LDS  11.623271  14.299843  16.337169  15.751355  16.848737  14.618634  \n",
       "de_LDS    11.576629  14.219806  13.712045  12.891150  15.009233  13.778185  \n",
       "psd_LDS   13.910390  16.424886  17.008295  14.102146  15.023268  12.411887  \n",
       "rasm_LDS  14.459169  14.957801  17.640809  12.887822  15.833787  14.535379  "
      ]
     },
     "execution_count": 49,
     "metadata": {},
     "output_type": "execute_result"
    }
   ],
   "source": [
    "# Media Por feature\n",
    "analysing_std_and_mean = full_svm_result_df.pivot_table(index=['feature'], columns=['freq'],values=['acc'],aggfunc={'acc':[np.mean,np.std]})\n",
    "# \\\n",
    "#     .reindex([\"delta\",\"theta\", \"alpha\", \"beta\", \"gamma\", \"all\"],axis=1,level=1)\\\n",
    "#     .reindex(['de_LDS','psd_LDS', 'rasm_LDS', 'dasm_LDS', 'asm_LDS','dcau_LDS'],axis=0)\n",
    "analysing_std_and_mean"
   ]
  },
  {
   "cell_type": "code",
   "execution_count": 50,
   "metadata": {},
   "outputs": [
    {
     "data": {
      "text/html": [
       "<div>\n",
       "<style scoped>\n",
       "    .dataframe tbody tr th:only-of-type {\n",
       "        vertical-align: middle;\n",
       "    }\n",
       "\n",
       "    .dataframe tbody tr th {\n",
       "        vertical-align: top;\n",
       "    }\n",
       "\n",
       "    .dataframe thead th {\n",
       "        text-align: right;\n",
       "    }\n",
       "</style>\n",
       "<table border=\"1\" class=\"dataframe\">\n",
       "  <thead>\n",
       "    <tr style=\"text-align: right;\">\n",
       "      <th></th>\n",
       "      <th>acc_all_together</th>\n",
       "      <th>acc_alpha_together</th>\n",
       "      <th>acc_beta_together</th>\n",
       "      <th>acc_delta_together</th>\n",
       "      <th>acc_gamma_together</th>\n",
       "      <th>acc_theta_together</th>\n",
       "    </tr>\n",
       "    <tr>\n",
       "      <th>feature</th>\n",
       "      <th></th>\n",
       "      <th></th>\n",
       "      <th></th>\n",
       "      <th></th>\n",
       "      <th></th>\n",
       "      <th></th>\n",
       "    </tr>\n",
       "  </thead>\n",
       "  <tbody>\n",
       "    <tr>\n",
       "      <th>asm_LDS</th>\n",
       "      <td>76.45/14.37</td>\n",
       "      <td>61.48/14.58</td>\n",
       "      <td>73.44/17.71</td>\n",
       "      <td>49.09/13.04</td>\n",
       "      <td>76.17/16.07</td>\n",
       "      <td>53.76/15.03</td>\n",
       "    </tr>\n",
       "    <tr>\n",
       "      <th>dasm_LDS</th>\n",
       "      <td>76.8/14.44</td>\n",
       "      <td>61.95/15.02</td>\n",
       "      <td>73.87/17.67</td>\n",
       "      <td>49.83/12.83</td>\n",
       "      <td>77.22/15.9</td>\n",
       "      <td>53.53/14.9</td>\n",
       "    </tr>\n",
       "    <tr>\n",
       "      <th>dcau_LDS</th>\n",
       "      <td>81.43/11.62</td>\n",
       "      <td>64.77/14.3</td>\n",
       "      <td>74.9/16.34</td>\n",
       "      <td>57.49/15.75</td>\n",
       "      <td>77.67/16.85</td>\n",
       "      <td>60.16/14.62</td>\n",
       "    </tr>\n",
       "    <tr>\n",
       "      <th>de_LDS</th>\n",
       "      <td>84.44/11.58</td>\n",
       "      <td>71.53/14.22</td>\n",
       "      <td>79.82/13.71</td>\n",
       "      <td>63.01/12.89</td>\n",
       "      <td>78.25/15.01</td>\n",
       "      <td>69.61/13.78</td>\n",
       "    </tr>\n",
       "    <tr>\n",
       "      <th>psd_LDS</th>\n",
       "      <td>77.99/13.91</td>\n",
       "      <td>66.33/16.42</td>\n",
       "      <td>71.04/17.01</td>\n",
       "      <td>61.91/14.1</td>\n",
       "      <td>71.96/15.02</td>\n",
       "      <td>69.43/12.41</td>\n",
       "    </tr>\n",
       "    <tr>\n",
       "      <th>rasm_LDS</th>\n",
       "      <td>76.88/14.46</td>\n",
       "      <td>61.21/14.96</td>\n",
       "      <td>74.48/17.64</td>\n",
       "      <td>48.99/12.89</td>\n",
       "      <td>77.11/15.83</td>\n",
       "      <td>53.49/14.54</td>\n",
       "    </tr>\n",
       "  </tbody>\n",
       "</table>\n",
       "</div>"
      ],
      "text/plain": [
       "         acc_all_together acc_alpha_together acc_beta_together  \\\n",
       "feature                                                          \n",
       "asm_LDS       76.45/14.37        61.48/14.58       73.44/17.71   \n",
       "dasm_LDS       76.8/14.44        61.95/15.02       73.87/17.67   \n",
       "dcau_LDS      81.43/11.62         64.77/14.3        74.9/16.34   \n",
       "de_LDS        84.44/11.58        71.53/14.22       79.82/13.71   \n",
       "psd_LDS       77.99/13.91        66.33/16.42       71.04/17.01   \n",
       "rasm_LDS      76.88/14.46        61.21/14.96       74.48/17.64   \n",
       "\n",
       "         acc_delta_together acc_gamma_together acc_theta_together  \n",
       "feature                                                            \n",
       "asm_LDS         49.09/13.04        76.17/16.07        53.76/15.03  \n",
       "dasm_LDS        49.83/12.83         77.22/15.9         53.53/14.9  \n",
       "dcau_LDS        57.49/15.75        77.67/16.85        60.16/14.62  \n",
       "de_LDS          63.01/12.89        78.25/15.01        69.61/13.78  \n",
       "psd_LDS          61.91/14.1        71.96/15.02        69.43/12.41  \n",
       "rasm_LDS        48.99/12.89        77.11/15.83        53.49/14.54  "
      ]
     },
     "execution_count": 50,
     "metadata": {},
     "output_type": "execute_result"
    }
   ],
   "source": [
    "analysing_std_and_mean.columns = analysing_std_and_mean.columns.reorder_levels(order=[0,2,1])\n",
    "# print(analysing_std_and_mean.columns)\n",
    "analysing_std_and_mean.columns = ['_'.join(col) for col in analysing_std_and_mean.columns]\n",
    "# column_to_concatenate='acc_all'\n",
    "new_column_list = []\n",
    "for column_to_concatenate in ['acc_all','acc_alpha','acc_beta','acc_delta','acc_gamma','acc_theta']:\n",
    "    new_column = f'{column_to_concatenate}_together'\n",
    "    analysing_std_and_mean[new_column] = analysing_std_and_mean[f'{column_to_concatenate}_mean'].round(2).astype(str) + '/'+ analysing_std_and_mean[f'{column_to_concatenate}_std'].round(2).astype(str) \n",
    "    new_column_list.append(new_column)\n",
    "analysing_std_and_mean[new_column_list]\n"
   ]
  },
  {
   "cell_type": "code",
   "execution_count": 51,
   "metadata": {},
   "outputs": [
    {
     "data": {
      "text/html": [
       "<div>\n",
       "<style scoped>\n",
       "    .dataframe tbody tr th:only-of-type {\n",
       "        vertical-align: middle;\n",
       "    }\n",
       "\n",
       "    .dataframe tbody tr th {\n",
       "        vertical-align: top;\n",
       "    }\n",
       "\n",
       "    .dataframe thead th {\n",
       "        text-align: right;\n",
       "    }\n",
       "</style>\n",
       "<table border=\"1\" class=\"dataframe\">\n",
       "  <thead>\n",
       "    <tr style=\"text-align: right;\">\n",
       "      <th></th>\n",
       "      <th>acc_delta_together</th>\n",
       "      <th>acc_theta_together</th>\n",
       "      <th>acc_alpha_together</th>\n",
       "      <th>acc_beta_together</th>\n",
       "      <th>acc_gamma_together</th>\n",
       "      <th>acc_all_together</th>\n",
       "    </tr>\n",
       "    <tr>\n",
       "      <th>feature</th>\n",
       "      <th></th>\n",
       "      <th></th>\n",
       "      <th></th>\n",
       "      <th></th>\n",
       "      <th></th>\n",
       "      <th></th>\n",
       "    </tr>\n",
       "  </thead>\n",
       "  <tbody>\n",
       "    <tr>\n",
       "      <th>de_LDS</th>\n",
       "      <td>63.01/12.89</td>\n",
       "      <td>69.61/13.78</td>\n",
       "      <td>71.53/14.22</td>\n",
       "      <td>79.82/13.71</td>\n",
       "      <td>78.25/15.01</td>\n",
       "      <td>84.44/11.58</td>\n",
       "    </tr>\n",
       "    <tr>\n",
       "      <th>psd_LDS</th>\n",
       "      <td>61.91/14.1</td>\n",
       "      <td>69.43/12.41</td>\n",
       "      <td>66.33/16.42</td>\n",
       "      <td>71.04/17.01</td>\n",
       "      <td>71.96/15.02</td>\n",
       "      <td>77.99/13.91</td>\n",
       "    </tr>\n",
       "    <tr>\n",
       "      <th>rasm_LDS</th>\n",
       "      <td>48.99/12.89</td>\n",
       "      <td>53.49/14.54</td>\n",
       "      <td>61.21/14.96</td>\n",
       "      <td>74.48/17.64</td>\n",
       "      <td>77.11/15.83</td>\n",
       "      <td>76.88/14.46</td>\n",
       "    </tr>\n",
       "    <tr>\n",
       "      <th>dasm_LDS</th>\n",
       "      <td>49.83/12.83</td>\n",
       "      <td>53.53/14.9</td>\n",
       "      <td>61.95/15.02</td>\n",
       "      <td>73.87/17.67</td>\n",
       "      <td>77.22/15.9</td>\n",
       "      <td>76.8/14.44</td>\n",
       "    </tr>\n",
       "    <tr>\n",
       "      <th>asm_LDS</th>\n",
       "      <td>49.09/13.04</td>\n",
       "      <td>53.76/15.03</td>\n",
       "      <td>61.48/14.58</td>\n",
       "      <td>73.44/17.71</td>\n",
       "      <td>76.17/16.07</td>\n",
       "      <td>76.45/14.37</td>\n",
       "    </tr>\n",
       "    <tr>\n",
       "      <th>dcau_LDS</th>\n",
       "      <td>57.49/15.75</td>\n",
       "      <td>60.16/14.62</td>\n",
       "      <td>64.77/14.3</td>\n",
       "      <td>74.9/16.34</td>\n",
       "      <td>77.67/16.85</td>\n",
       "      <td>81.43/11.62</td>\n",
       "    </tr>\n",
       "  </tbody>\n",
       "</table>\n",
       "</div>"
      ],
      "text/plain": [
       "         acc_delta_together acc_theta_together acc_alpha_together  \\\n",
       "feature                                                             \n",
       "de_LDS          63.01/12.89        69.61/13.78        71.53/14.22   \n",
       "psd_LDS          61.91/14.1        69.43/12.41        66.33/16.42   \n",
       "rasm_LDS        48.99/12.89        53.49/14.54        61.21/14.96   \n",
       "dasm_LDS        49.83/12.83         53.53/14.9        61.95/15.02   \n",
       "asm_LDS         49.09/13.04        53.76/15.03        61.48/14.58   \n",
       "dcau_LDS        57.49/15.75        60.16/14.62         64.77/14.3   \n",
       "\n",
       "         acc_beta_together acc_gamma_together acc_all_together  \n",
       "feature                                                         \n",
       "de_LDS         79.82/13.71        78.25/15.01      84.44/11.58  \n",
       "psd_LDS        71.04/17.01        71.96/15.02      77.99/13.91  \n",
       "rasm_LDS       74.48/17.64        77.11/15.83      76.88/14.46  \n",
       "dasm_LDS       73.87/17.67         77.22/15.9       76.8/14.44  \n",
       "asm_LDS        73.44/17.71        76.17/16.07      76.45/14.37  \n",
       "dcau_LDS        74.9/16.34        77.67/16.85      81.43/11.62  "
      ]
     },
     "execution_count": 51,
     "metadata": {},
     "output_type": "execute_result"
    }
   ],
   "source": [
    "analysing_std_and_mean[['acc_delta_together','acc_theta_together','acc_alpha_together','acc_beta_together','acc_gamma_together','acc_all_together']]\\\n",
    "    .reindex(['de_LDS','psd_LDS', 'rasm_LDS', 'dasm_LDS', 'asm_LDS','dcau_LDS'],axis=0)\n"
   ]
  },
  {
   "cell_type": "code",
   "execution_count": null,
   "metadata": {},
   "outputs": [],
   "source": [
    "analysing_std_and_mean[['acc_all_together']]\\\n",
    "    .reindex(['de_LDS','psd_LDS', 'rasm_LDS', 'dasm_LDS', 'asm_LDS','dcau_LDS'],axis=0)\n"
   ]
  },
  {
   "attachments": {},
   "cell_type": "markdown",
   "metadata": {},
   "source": [
    "# Explorando resultados DNN"
   ]
  },
  {
   "cell_type": "code",
   "execution_count": null,
   "metadata": {},
   "outputs": [],
   "source": [
    "datetime_now = datetime.now().strftime(\"%Y%m%d_%H%M\")"
   ]
  },
  {
   "cell_type": "code",
   "execution_count": null,
   "metadata": {},
   "outputs": [],
   "source": [
    "!find 14_dnn_eeg_1s_baseline -type f > {datetime_now}_all_dnn_predictions.txt"
   ]
  },
  {
   "cell_type": "code",
   "execution_count": null,
   "metadata": {},
   "outputs": [],
   "source": [
    "with open(f\"{datetime_now}_all_dnn_predictions.txt\", \"r\") as f:\n",
    "    files_from_session = f.read()\n",
    "\n",
    "files_from_session_as_list = files_from_session.split(\"\\n\")\n",
    "files_from_session_as_list = [cur_file_session for cur_file_session in files_from_session_as_list if len(cur_file_session)>1]\n",
    "print(len(files_from_session_as_list))\n",
    "print(files_from_session_as_list)"
   ]
  },
  {
   "cell_type": "code",
   "execution_count": null,
   "metadata": {},
   "outputs": [],
   "source": [
    "import pandas as pd"
   ]
  },
  {
   "cell_type": "code",
   "execution_count": null,
   "metadata": {},
   "outputs": [],
   "source": [
    "model_result = pd.read_pickle(files_from_session_as_list[0])\n",
    "model_result\n"
   ]
  },
  {
   "cell_type": "code",
   "execution_count": null,
   "metadata": {},
   "outputs": [],
   "source": [
    "type(model_result['acc'])"
   ]
  },
  {
   "cell_type": "code",
   "execution_count": null,
   "metadata": {},
   "outputs": [],
   "source": [
    "model_result['acc'].item()"
   ]
  },
  {
   "cell_type": "code",
   "execution_count": null,
   "metadata": {},
   "outputs": [],
   "source": [
    "accuracy_dict = {}\n",
    "for each_file in files_from_session_as_list:\n",
    "    print(each_file)\n",
    "    model_result = pd.read_pickle(each_file)\n",
    "    accuracy_dict[each_file] = model_result['acc'].item()"
   ]
  },
  {
   "cell_type": "code",
   "execution_count": null,
   "metadata": {},
   "outputs": [],
   "source": [
    "all_models_results_ordered = dict(sorted(accuracy_dict.items(), key=lambda item: item[1], reverse=True))\n",
    "print(len(all_models_results_ordered))\n",
    "all_models_results_ordered\n"
   ]
  },
  {
   "cell_type": "code",
   "execution_count": null,
   "metadata": {},
   "outputs": [],
   "source": [
    "dnn_result_df = pd.DataFrame(all_models_results_ordered.items())\n",
    "dnn_result_df = dnn_result_df.rename(columns={1:'acc'})"
   ]
  },
  {
   "cell_type": "code",
   "execution_count": null,
   "metadata": {},
   "outputs": [],
   "source": [
    "dnn_result_df[[\"folder\", \"feature\", \"user\"]] = pd.DataFrame(dnn_result_df[0].str.split('/').to_list())"
   ]
  },
  {
   "cell_type": "code",
   "execution_count": null,
   "metadata": {},
   "outputs": [],
   "source": [
    "dnn_result_df[[\"user\", \"session\"]]  = pd.DataFrame(dnn_result_df['user'].str.split('_').to_list())\n",
    "dnn_result_df"
   ]
  },
  {
   "cell_type": "code",
   "execution_count": null,
   "metadata": {},
   "outputs": [],
   "source": [
    "import re"
   ]
  },
  {
   "cell_type": "code",
   "execution_count": null,
   "metadata": {},
   "outputs": [],
   "source": [
    "#dnn_result_df['feature'].apply(lambda x: re.findall(\"\\d*\\.?\\d*$/\", x))\n",
    "dnn_result_df['param'] = dnn_result_df['feature'].apply(lambda x: re.findall(\"-?[\\d.]+(?:e-?\\d+)?\", x))\n",
    "dnn_result_df['param'] = dnn_result_df['param'].apply(lambda x: {f\"lr{x[0]}:{x[1]}\"})"
   ]
  },
  {
   "cell_type": "code",
   "execution_count": null,
   "metadata": {},
   "outputs": [],
   "source": [
    "dnn_result_df[['user', 'session', 'feature', 'param', 'acc']].sort_values(['user', 'acc'], ascending=[False, False])"
   ]
  },
  {
   "cell_type": "code",
   "execution_count": null,
   "metadata": {},
   "outputs": [],
   "source": [
    "# dnn_result_df[dnn_result_df.user == '12']"
   ]
  },
  {
   "cell_type": "code",
   "execution_count": null,
   "metadata": {},
   "outputs": [],
   "source": [
    "from datetime import datetime"
   ]
  },
  {
   "cell_type": "code",
   "execution_count": null,
   "metadata": {},
   "outputs": [],
   "source": [
    "external_data_ref = datetime.today().date().strftime(\"%Y%m%d\")\n",
    "external_data_ref"
   ]
  },
  {
   "cell_type": "code",
   "execution_count": null,
   "metadata": {},
   "outputs": [],
   "source": [
    "dnn_result_df[['user', 'session', 'feature', 'param', 'acc']].sort_values(['user', 'acc'], ascending=[False, False]).to_csv(f\"{external_data_ref}_dnn_result.csv\")"
   ]
  },
  {
   "cell_type": "code",
   "execution_count": null,
   "metadata": {},
   "outputs": [],
   "source": [
    "eda_dnn = dnn_result_df[['user', 'session', 'feature', 'param', 'acc']].sort_values(['user', 'acc'], ascending=[False, False])\n",
    "eda_dnn"
   ]
  },
  {
   "cell_type": "code",
   "execution_count": null,
   "metadata": {},
   "outputs": [],
   "source": [
    "eda_dnn.groupby(['user', 'session'])['param', 'acc'].agg({'acc':'max'})"
   ]
  },
  {
   "cell_type": "code",
   "execution_count": null,
   "metadata": {},
   "outputs": [],
   "source": [
    "eda_dnn.groupby(['user', 'session']).max().acc.mean()"
   ]
  },
  {
   "cell_type": "code",
   "execution_count": null,
   "metadata": {},
   "outputs": [],
   "source": [
    "# https://stackoverflow.com/questions/44185787/result-based-in-other-column-using-pandas-aggregation\n",
    "# ed_dnn_2 = eda_dnn.groupby(['user', 'session'])['param', 'acc'].agg({'acc':'max', 'param':lambda x: eda_dnn['param'][x.idmax()]}).reset_index()\n",
    "ed_dnn_2 = eda_dnn.groupby(['user', 'session'])['param', 'acc'].agg({'acc':'max'}).reset_index()\n",
    "\n",
    "ed_dnn_2"
   ]
  },
  {
   "cell_type": "code",
   "execution_count": null,
   "metadata": {},
   "outputs": [],
   "source": [
    "x = ['10', '20131130', 0.7377167344093323]\n",
    "dnn_result_df[(dnn_result_df['user']==x[0]) & (dnn_result_df['session']==x[1]) & (dnn_result_df['acc']==x[2])]"
   ]
  },
  {
   "cell_type": "code",
   "execution_count": null,
   "metadata": {},
   "outputs": [],
   "source": [
    "ed_dnn_2"
   ]
  },
  {
   "cell_type": "code",
   "execution_count": null,
   "metadata": {},
   "outputs": [],
   "source": [
    "#ed_dnn_2.apply(lambda x: dnn_result_df[(dnn_result_df['user']==x[0]) & (dnn_result_df['session']==x[1]) & (dnn_result_df['acc']==x[2])], axis=1)]\n",
    "\n",
    "#quase la\n",
    "#ed_dnn_2.apply(lambda x: dnn_result_df[(dnn_result_df['user']==x[0]) & (dnn_result_df['session']==x[1]) & (dnn_result_df['acc']==x[2])]['param'], axis=1)\n",
    "\n",
    "\n",
    "# ed_dnn_2['params'] = \n",
    "\n",
    "for idx, x in ed_dnn_2.iterrows():\n",
    "    ed_dnn_2.loc[idx,'params_2'] = dnn_result_df[(dnn_result_df['user']==x[0]) & (dnn_result_df['session']==x[1]) & (dnn_result_df['acc']==x[2])].iloc[0,6]\n",
    "\n",
    "\n",
    "# ed_dnn_2.apply(lambda x: dnn_result_df[(dnn_result_df['user']==x[0]) & (dnn_result_df['session']==x[1]) & (dnn_result_df['acc']==x[2])]['param'], axis=1)"
   ]
  },
  {
   "cell_type": "code",
   "execution_count": null,
   "metadata": {},
   "outputs": [],
   "source": [
    "ed_dnn_2.to_csv(f\"{external_data_ref}_dnn_result_summary.csv\")"
   ]
  },
  {
   "cell_type": "code",
   "execution_count": null,
   "metadata": {},
   "outputs": [],
   "source": [
    "dnn_result_df[(dnn_result_df['user']==x[0]) & (dnn_result_df['session']==x[1]) & (dnn_result_df['acc']==x[2])].iloc[0,6]"
   ]
  },
  {
   "cell_type": "code",
   "execution_count": null,
   "metadata": {},
   "outputs": [],
   "source": [
    "ed_dnn_2"
   ]
  },
  {
   "cell_type": "code",
   "execution_count": null,
   "metadata": {},
   "outputs": [],
   "source": [
    "print(f\"mean:{ed_dnn_2.acc.mean():0.4f} / std:{ed_dnn_2.acc.std():0.4f}\")"
   ]
  },
  {
   "cell_type": "code",
   "execution_count": null,
   "metadata": {},
   "outputs": [],
   "source": [
    "ed_dnn_2.groupby(['user']).mean().acc.std()"
   ]
  },
  {
   "attachments": {},
   "cell_type": "markdown",
   "metadata": {},
   "source": [
    "# Explorando Resultados LOGISTIC REGRESSION"
   ]
  },
  {
   "cell_type": "code",
   "execution_count": null,
   "metadata": {},
   "outputs": [],
   "source": [
    "from datetime import datetime"
   ]
  },
  {
   "cell_type": "code",
   "execution_count": null,
   "metadata": {},
   "outputs": [],
   "source": [
    "datetime_now = datetime.now().strftime(\"%Y%m%d_%H%M\")\n",
    "filename_to_write = f\"{datetime_now}_all_logRegression_predictions.txt\""
   ]
  },
  {
   "cell_type": "code",
   "execution_count": null,
   "metadata": {},
   "outputs": [],
   "source": [
    "!find 20230827_lr_eeg_1s_baseline_all -type f > {filename_to_write}"
   ]
  },
  {
   "cell_type": "code",
   "execution_count": null,
   "metadata": {},
   "outputs": [],
   "source": [
    "with open(filename_to_write, \"r\") as f:\n",
    "    files_from_session = f.read()\n",
    "\n",
    "files_from_session_as_list = files_from_session.split(\"\\n\")\n",
    "files_from_session_as_list = [cur_file_session for cur_file_session in files_from_session_as_list if len(cur_file_session)>1]\n",
    "print(len(files_from_session_as_list))\n",
    "print(files_from_session_as_list)"
   ]
  },
  {
   "cell_type": "code",
   "execution_count": null,
   "metadata": {},
   "outputs": [],
   "source": [
    "model_result = pd.read_pickle(files_from_session_as_list[0])\n",
    "model_result"
   ]
  },
  {
   "cell_type": "code",
   "execution_count": null,
   "metadata": {},
   "outputs": [],
   "source": [
    "accuracy_dict = {}\n",
    "for each_file in files_from_session_as_list:\n",
    "    # print(each_file)\n",
    "    model_result = pd.read_pickle(each_file)\n",
    "    accuracy_dict[each_file] = model_result['acc'].item()\n",
    "accuracy_dict"
   ]
  },
  {
   "cell_type": "code",
   "execution_count": null,
   "metadata": {},
   "outputs": [],
   "source": [
    "all_models_results_ordered = dict(sorted(accuracy_dict.items(), key=lambda item: item[1], reverse=True))\n",
    "print(len(all_models_results_ordered))\n",
    "all_models_results_ordered\n"
   ]
  },
  {
   "cell_type": "code",
   "execution_count": null,
   "metadata": {},
   "outputs": [],
   "source": [
    "logrec_result_df = pd.DataFrame(all_models_results_ordered.items())\n",
    "logrec_result_df = logrec_result_df.rename(columns={1:'acc'})\n",
    "logrec_result_df"
   ]
  },
  {
   "cell_type": "code",
   "execution_count": null,
   "metadata": {},
   "outputs": [],
   "source": [
    "logrec_result_df[[\"folder\", \"feature\", \"user\"]] = pd.DataFrame(logrec_result_df[0].str.split('/').to_list())\n",
    "logrec_result_df[[\"user\", \"session\"]]  = pd.DataFrame(logrec_result_df['user'].str.split('_').to_list())\n",
    "logrec_result_df"
   ]
  },
  {
   "cell_type": "code",
   "execution_count": null,
   "metadata": {},
   "outputs": [],
   "source": [
    "external_data_ref = datetime_now\n",
    "logrec_result_df = logrec_result_df[['user', 'session', 'feature', 'acc']].sort_values(['user', 'acc'], ascending=[False, False])\n",
    "logrec_result_df.to_csv(f\"{external_data_ref}_logreg_result_summary.csv\")\n",
    "logrec_result_df"
   ]
  },
  {
   "cell_type": "code",
   "execution_count": null,
   "metadata": {},
   "outputs": [],
   "source": [
    "print(f\"mean:{logrec_result_df.acc.mean():0.4f} / std:{logrec_result_df.acc.std():0.4f}\")"
   ]
  },
  {
   "cell_type": "code",
   "execution_count": null,
   "metadata": {},
   "outputs": [],
   "source": [
    "print(\"accuracy per user:\")\n",
    "logrec_result_df.groupby(['user','session','feature']).mean().sort_values('acc', ascending=False)"
   ]
  },
  {
   "attachments": {},
   "cell_type": "markdown",
   "metadata": {},
   "source": [
    "# LR for each band"
   ]
  },
  {
   "cell_type": "code",
   "execution_count": null,
   "metadata": {},
   "outputs": [],
   "source": [
    "datetime_now = datetime.now().strftime(\"%Y%m%d_%H%M\")\n",
    "external_data_ref = datetime.today().date().strftime(\"%Y%m%d\")\n",
    "\n",
    "full_lr_result_df = pd.DataFrame()\n",
    "all_features = ['de_LDS','psd_LDS', 'rasm_LDS', 'dasm_LDS', 'asm_LDS','dcau_LDS']\n",
    "\n",
    "for cur_feature in all_features:\n",
    "    for cur_freq_band in [\"delta\",\"theta\", \"alpha\", \"beta\", \"gamma\",\"all\"]:\n",
    "        filename_to_write = f\"{datetime_now}_all_LR_predictions_{cur_freq_band}.txt\"\n",
    "\n",
    "        os.system(f\"find 20230827_lr_eeg_1s_baseline_{cur_freq_band}/{cur_feature} -type f > {filename_to_write}\")\n",
    "\n",
    "        with open(filename_to_write, \"r\") as f:\n",
    "            files_from_session = f.read()\n",
    "\n",
    "        files_from_session_as_list = files_from_session.split(\"\\n\")\n",
    "        files_from_session_as_list = [cur_file_session for cur_file_session in files_from_session_as_list if len(cur_file_session)>1]\n",
    "        #print(len(files_from_session_as_list))\n",
    "        #print(files_from_session_as_list)\n",
    "\n",
    "        accuracy_dict = {}\n",
    "        for each_file in files_from_session_as_list:\n",
    "            # print(each_file)\n",
    "            model_result = pd.read_pickle(each_file)\n",
    "            accuracy_dict[each_file] = [model_result['acc'], model_result['n']]\n",
    "\n",
    "        all_models_results_ordered = dict(sorted(accuracy_dict.items(), key=lambda item: item[1], reverse=True))\n",
    "\n",
    "        lr_result_df = pd.DataFrame(all_models_results_ordered.items())\n",
    "        lr_result_df[['acc', 'param']] = pd.DataFrame(lr_result_df[1].to_list())\n",
    "        lr_result_df['param'] = lr_result_df['param'].apply(lambda x: {\"n\":x})\n",
    "        lr_result_df[[\"folder\", \"feature\", \"user\"]] = pd.DataFrame(lr_result_df[0].str.split('/').to_list())\n",
    "        lr_result_df[[\"user\", \"session\"]]  = pd.DataFrame(lr_result_df['user'].str.split('_').to_list())\n",
    "        lr_result_df = lr_result_df[['user', 'session', 'feature', 'param', 'acc']].sort_values(['user', 'acc'], ascending=[False, False])\n",
    "\n",
    "        # lr_result_df.to_csv(f\"{external_data_ref}_knn_result_summary_{cur_freq_band}.csv\")\n",
    "\n",
    "        # print(f\"{cur_freq_band} - mean:{lr_result_df.acc.mean():0.4f} / std:{lr_result_df.acc.std():0.4f}\")\n",
    "        print(f\"{lr_result_df.acc.mean():0.4f}/{lr_result_df.acc.std():0.4f}\")\n",
    "\n",
    "        lr_result_df['freq'] = cur_freq_band\n",
    "        full_lr_result_df = pd.concat([full_lr_result_df, lr_result_df])\n",
    "\n",
    "    full_lr_result_df.reset_index().to_csv(f\"{datetime_now}_lr_result_summary_each_band_{cur_feature}.csv\")\n",
    "    print('\\n\\n')"
   ]
  },
  {
   "cell_type": "code",
   "execution_count": null,
   "metadata": {},
   "outputs": [],
   "source": [
    "full_lr_result_df"
   ]
  },
  {
   "cell_type": "code",
   "execution_count": null,
   "metadata": {},
   "outputs": [],
   "source": [
    "full_lr_result_df['acc'] = full_lr_result_df['acc'].round(4)*100\n",
    "#full_lr_result_df['acc'] = full_lr_result_df['acc'].round(4)/100\n",
    "\n",
    "full_lr_result_df['user'] = full_lr_result_df['user'].astype(int)"
   ]
  },
  {
   "cell_type": "code",
   "execution_count": null,
   "metadata": {},
   "outputs": [],
   "source": [
    "full_lr_result_df.groupby(['freq'])['acc'].mean()"
   ]
  },
  {
   "cell_type": "code",
   "execution_count": null,
   "metadata": {},
   "outputs": [],
   "source": [
    "pivoted_table = full_lr_result_df.pivot_table(index=['feature','user','session'], columns=['freq'],values=['acc'])\n",
    "pivoted_table"
   ]
  },
  {
   "cell_type": "code",
   "execution_count": null,
   "metadata": {},
   "outputs": [],
   "source": [
    "pivoted_table.columns"
   ]
  },
  {
   "cell_type": "code",
   "execution_count": null,
   "metadata": {},
   "outputs": [],
   "source": [
    "#sorted(pivoted_table.index.levels[1].astype(int))\n",
    "#df1.index..astype(str)\n",
    "#df1.index.set_levels([idx.levels[:-1], idx.levels[-1].astype(str)]) = \n"
   ]
  },
  {
   "cell_type": "code",
   "execution_count": null,
   "metadata": {},
   "outputs": [],
   "source": [
    "pivoted_table = pivoted_table.reindex([\"delta\",\"theta\", \"alpha\", \"beta\", \"gamma\", \"all\"],axis=1,level=1)\\\n",
    "    .reindex(['de_LDS','psd_LDS', 'rasm_LDS', 'dasm_LDS', 'asm_LDS','dcau_LDS'],axis=0, level=0)\n",
    "pivoted_table"
   ]
  },
  {
   "cell_type": "code",
   "execution_count": null,
   "metadata": {},
   "outputs": [],
   "source": [
    "pivoted_table.round(2).to_csv(f'{datetime_now}_lr_result_summary_FULL_REPORT.csv')"
   ]
  },
  {
   "cell_type": "code",
   "execution_count": null,
   "metadata": {},
   "outputs": [],
   "source": [
    "# Media Por individuo\n",
    "full_lr_result_df.pivot_table(index=['feature','user'], columns=['freq'],values=['acc'])\\\n",
    "    .reindex([\"delta\",\"theta\", \"alpha\", \"beta\", \"gamma\", \"all\"],axis=1,level=1)\\\n",
    "    .reindex(['de_LDS','psd_LDS', 'rasm_LDS', 'dasm_LDS', 'asm_LDS','dcau_LDS'],axis=0, level=0)\n"
   ]
  },
  {
   "cell_type": "code",
   "execution_count": null,
   "metadata": {},
   "outputs": [],
   "source": [
    "full_lr_result_df.pivot_table(index=['feature'], columns=['freq'],values=['acc'],aggfunc={'acc':[np.mean]})\\\n",
    "    .reindex(['de_LDS','psd_LDS', 'rasm_LDS', 'dasm_LDS', 'asm_LDS','dcau_LDS'],axis=0)\n"
   ]
  },
  {
   "cell_type": "code",
   "execution_count": null,
   "metadata": {},
   "outputs": [],
   "source": [
    "# Media Por feature\n",
    "analysing_std_and_mean = full_lr_result_df.pivot_table(index=['feature'], columns=['freq'],values=['acc'],aggfunc={'acc':[np.mean,np.std]})\n",
    "# \\\n",
    "#     .reindex([\"delta\",\"theta\", \"alpha\", \"beta\", \"gamma\", \"all\"],axis=1,level=1)\\\n",
    "#     .reindex(['de_LDS','psd_LDS', 'rasm_LDS', 'dasm_LDS', 'asm_LDS','dcau_LDS'],axis=0)\n",
    "analysing_std_and_mean"
   ]
  },
  {
   "cell_type": "code",
   "execution_count": null,
   "metadata": {},
   "outputs": [],
   "source": [
    "analysing_std_and_mean.columns"
   ]
  },
  {
   "cell_type": "code",
   "execution_count": null,
   "metadata": {},
   "outputs": [],
   "source": [
    "analysing_std_and_mean.columns = analysing_std_and_mean.columns.reorder_levels(order=[0,2,1])\n",
    "print(analysing_std_and_mean.columns)\n",
    "analysing_std_and_mean"
   ]
  },
  {
   "cell_type": "code",
   "execution_count": null,
   "metadata": {},
   "outputs": [],
   "source": [
    "#quase la\n",
    "analysing_std_and_mean.stack()"
   ]
  },
  {
   "cell_type": "code",
   "execution_count": null,
   "metadata": {},
   "outputs": [],
   "source": [
    "# analysing_std_and_mean.columns.get_level_values(0)"
   ]
  },
  {
   "cell_type": "code",
   "execution_count": null,
   "metadata": {},
   "outputs": [],
   "source": [
    "analysing_std_and_mean.columns"
   ]
  },
  {
   "cell_type": "code",
   "execution_count": null,
   "metadata": {},
   "outputs": [],
   "source": [
    "analysing_std_and_mean.columns = ['_'.join(col) for col in analysing_std_and_mean.columns]\n",
    "analysing_std_and_mean"
   ]
  },
  {
   "cell_type": "code",
   "execution_count": null,
   "metadata": {},
   "outputs": [],
   "source": [
    "# column_to_concatenate='acc_all'\n",
    "new_column_list = []\n",
    "for column_to_concatenate in ['acc_all','acc_alpha','acc_beta','acc_delta','acc_gamma','acc_theta']:\n",
    "    new_column = f'{column_to_concatenate}_together'\n",
    "    analysing_std_and_mean[new_column] = analysing_std_and_mean[f'{column_to_concatenate}_mean'].round(2).astype(str) + '/'+ analysing_std_and_mean[f'{column_to_concatenate}_std'].round(2).astype(str) \n",
    "    new_column_list.append(new_column)\n",
    "analysing_std_and_mean[new_column_list]\n",
    "#analysing_std_and_mean.loc[:,'acc_all_mean']"
   ]
  },
  {
   "cell_type": "code",
   "execution_count": null,
   "metadata": {},
   "outputs": [],
   "source": [
    "# \"delta\",\"theta\", \"alpha\", \"beta\", \"gamma\", \"all\"],\n",
    "analysing_std_and_mean[['acc_delta_together','acc_theta_together','acc_alpha_together','acc_beta_together','acc_gamma_together','acc_all_together']]\\\n",
    "    .reindex(['de_LDS','psd_LDS', 'rasm_LDS', 'dasm_LDS', 'asm_LDS','dcau_LDS'],axis=0)\n"
   ]
  },
  {
   "cell_type": "code",
   "execution_count": null,
   "metadata": {},
   "outputs": [],
   "source": [
    "analysing_std_and_mean[['acc_all_together']]\\\n",
    "    .reindex(['de_LDS','psd_LDS', 'rasm_LDS', 'dasm_LDS', 'asm_LDS','dcau_LDS'],axis=0)\n"
   ]
  },
  {
   "attachments": {},
   "cell_type": "markdown",
   "metadata": {},
   "source": [
    "# Explorando Resultados KNN"
   ]
  },
  {
   "cell_type": "code",
   "execution_count": null,
   "metadata": {},
   "outputs": [],
   "source": [
    "datetime_now = datetime.now().strftime(\"%Y%m%d_%H%M\")\n",
    "filename_to_write = f\"{datetime_now}_all_KNN_predictions.txt\""
   ]
  },
  {
   "cell_type": "code",
   "execution_count": null,
   "metadata": {},
   "outputs": [],
   "source": [
    "!find 17_KNN_eeg_1s_baseline -type f > {filename_to_write}"
   ]
  },
  {
   "cell_type": "code",
   "execution_count": null,
   "metadata": {},
   "outputs": [],
   "source": [
    "with open(filename_to_write, \"r\") as f:\n",
    "    files_from_session = f.read()\n",
    "\n",
    "files_from_session_as_list = files_from_session.split(\"\\n\")\n",
    "files_from_session_as_list = [cur_file_session for cur_file_session in files_from_session_as_list if len(cur_file_session)>1]\n",
    "print(len(files_from_session_as_list))\n",
    "print(files_from_session_as_list)"
   ]
  },
  {
   "cell_type": "code",
   "execution_count": null,
   "metadata": {},
   "outputs": [],
   "source": [
    "model_result = pd.read_pickle(files_from_session_as_list[0])\n",
    "model_result"
   ]
  },
  {
   "cell_type": "code",
   "execution_count": null,
   "metadata": {},
   "outputs": [],
   "source": [
    "accuracy_dict = {}\n",
    "for each_file in files_from_session_as_list:\n",
    "    # print(each_file)\n",
    "    model_result = pd.read_pickle(each_file)\n",
    "    accuracy_dict[each_file] = [model_result['acc'], model_result['n']]\n",
    "accuracy_dict"
   ]
  },
  {
   "cell_type": "code",
   "execution_count": null,
   "metadata": {},
   "outputs": [],
   "source": [
    "all_models_results_ordered = dict(sorted(accuracy_dict.items(), key=lambda item: item[1], reverse=True))\n",
    "print(len(all_models_results_ordered))\n",
    "all_models_results_ordered\n"
   ]
  },
  {
   "cell_type": "code",
   "execution_count": null,
   "metadata": {},
   "outputs": [],
   "source": [
    "knn_result_df = pd.DataFrame(all_models_results_ordered.items())\n",
    "knn_result_df[['acc', 'param']] = pd.DataFrame(knn_result_df[1].to_list())\n",
    "knn_result_df['param'] = knn_result_df['param'].apply(lambda x: {\"n\":x})\n"
   ]
  },
  {
   "cell_type": "code",
   "execution_count": null,
   "metadata": {},
   "outputs": [],
   "source": [
    "#knn_result_df[[\"folder\", \"feature\", \"user\"]] = pd.DataFrame(knn_result_df[0].str.split('/').to_list())\n",
    "#knn_result_df[[\"user\", \"session\"]]  = pd.DataFrame(knn_result_df['user'].str.split('_').to_list())\n",
    "#knn_result_df = knn_result_df[['user', 'session', 'feature', 'param', 'acc']].sort_values(['user', 'acc'], ascending=[False, False])\n",
    "knn_result_df.to_csv(f\"{external_data_ref}_knn_result_summary.csv\")\n",
    "knn_result_df"
   ]
  },
  {
   "cell_type": "code",
   "execution_count": null,
   "metadata": {},
   "outputs": [],
   "source": [
    "print(f\"mean:{knn_result_df.acc.mean():0.4f} / std:{knn_result_df.acc.std():0.4f}\")"
   ]
  },
  {
   "cell_type": "code",
   "execution_count": null,
   "metadata": {},
   "outputs": [],
   "source": [
    "print(\"accuracy per user:\")\n",
    "knn_result_df.groupby(['user']).mean().sort_values('acc', ascending=False)"
   ]
  },
  {
   "attachments": {},
   "cell_type": "markdown",
   "metadata": {},
   "source": [
    "## KNN for each band"
   ]
  },
  {
   "cell_type": "code",
   "execution_count": null,
   "metadata": {},
   "outputs": [],
   "source": [
    "datetime_now = datetime.now().strftime(\"%Y%m%d_%H%M\")\n",
    "external_data_ref = datetime.today().date().strftime(\"%Y%m%d\")\n",
    "\n",
    "full_knn_result_df = pd.DataFrame()\n",
    "all_features = ['de_LDS','psd_LDS', 'rasm_LDS', 'dasm_LDS', 'asm_LDS','dcau_LDS']\n",
    "\n",
    "for cur_feature in all_features:\n",
    "    for cur_freq_band in [\"delta\",\"theta\", \"alpha\", \"beta\", \"gamma\",\"all\"]:\n",
    "        filename_to_write = f\"{datetime_now}_all_KNN_predictions_{cur_freq_band}.txt\"\n",
    "\n",
    "        os.system(f\"find 20230828_knn_eeg_1s_baseline_{cur_freq_band}/{cur_feature} -type f > {filename_to_write}\")\n",
    "\n",
    "        with open(filename_to_write, \"r\") as f:\n",
    "            files_from_session = f.read()\n",
    "\n",
    "        files_from_session_as_list = files_from_session.split(\"\\n\")\n",
    "        files_from_session_as_list = [cur_file_session for cur_file_session in files_from_session_as_list if len(cur_file_session)>1]\n",
    "        #print(len(files_from_session_as_list))\n",
    "        #print(files_from_session_as_list)\n",
    "\n",
    "        accuracy_dict = {}\n",
    "        for each_file in files_from_session_as_list:\n",
    "            # print(each_file)\n",
    "            model_result = pd.read_pickle(each_file)\n",
    "            accuracy_dict[each_file] = [model_result['acc'], model_result['n']]\n",
    "\n",
    "        all_models_results_ordered = dict(sorted(accuracy_dict.items(), key=lambda item: item[1], reverse=True))\n",
    "\n",
    "        knn_result_df = pd.DataFrame(all_models_results_ordered.items())\n",
    "        knn_result_df[['acc', 'param']] = pd.DataFrame(knn_result_df[1].to_list())\n",
    "        knn_result_df['param'] = knn_result_df['param'].apply(lambda x: {\"n\":x})\n",
    "        knn_result_df[[\"folder\", \"feature\", \"user\"]] = pd.DataFrame(knn_result_df[0].str.split('/').to_list())\n",
    "        knn_result_df[[\"user\", \"session\"]]  = pd.DataFrame(knn_result_df['user'].str.split('_').to_list())\n",
    "        knn_result_df = knn_result_df[['user', 'session', 'feature', 'param', 'acc']].sort_values(['user', 'acc'], ascending=[False, False])\n",
    "\n",
    "        # knn_result_df.to_csv(f\"{external_data_ref}_knn_result_summary_{cur_freq_band}.csv\")\n",
    "\n",
    "        # print(f\"{cur_freq_band} - mean:{knn_result_df.acc.mean():0.4f} / std:{knn_result_df.acc.std():0.4f}\")\n",
    "        print(f\"{knn_result_df.acc.mean():0.4f}/{knn_result_df.acc.std():0.4f}\")\n",
    "\n",
    "        knn_result_df['freq'] = cur_freq_band\n",
    "        full_knn_result_df = pd.concat([full_knn_result_df, knn_result_df])\n",
    "\n",
    "    full_knn_result_df.reset_index().to_csv(f\"{external_data_ref}_knn_result_summary_each_band_{cur_feature}.csv\")\n"
   ]
  },
  {
   "cell_type": "code",
   "execution_count": null,
   "metadata": {},
   "outputs": [],
   "source": [
    "full_knn_result_df"
   ]
  },
  {
   "cell_type": "code",
   "execution_count": null,
   "metadata": {},
   "outputs": [],
   "source": [
    "full_knn_result_df['acc'] = full_knn_result_df['acc'].round(4)*100\n",
    "full_knn_result_df['user'] = full_knn_result_df['user'].astype(int)"
   ]
  },
  {
   "cell_type": "code",
   "execution_count": null,
   "metadata": {},
   "outputs": [],
   "source": [
    "full_knn_result_df.groupby(['freq'])['acc'].mean()"
   ]
  },
  {
   "cell_type": "code",
   "execution_count": null,
   "metadata": {},
   "outputs": [],
   "source": [
    "pivoted_table = full_knn_result_df.pivot_table(index=['feature','user','session'], columns=['freq'],values=['acc'])\n",
    "pivoted_table"
   ]
  },
  {
   "cell_type": "code",
   "execution_count": null,
   "metadata": {},
   "outputs": [],
   "source": [
    "# Media Por individuo\n",
    "full_knn_result_df.pivot_table(index=['feature','user'], columns=['freq'],values=['acc'])\\\n",
    "    .reindex([\"delta\",\"theta\", \"alpha\", \"beta\", \"gamma\", \"all\"],axis=1,level=1)\\\n",
    "    .reindex(['de_LDS','psd_LDS', 'rasm_LDS', 'dasm_LDS', 'asm_LDS','dcau_LDS'],axis=0, level=0)\n"
   ]
  },
  {
   "cell_type": "code",
   "execution_count": null,
   "metadata": {},
   "outputs": [],
   "source": [
    "# Media Por feature\n",
    "analysing_std_and_mean = full_knn_result_df.pivot_table(index=['feature'], columns=['freq'],values=['acc'],aggfunc={'acc':[np.mean,np.std]})\n",
    "analysing_std_and_mean"
   ]
  },
  {
   "cell_type": "code",
   "execution_count": null,
   "metadata": {},
   "outputs": [],
   "source": [
    "analysing_std_and_mean.columns"
   ]
  },
  {
   "cell_type": "code",
   "execution_count": null,
   "metadata": {},
   "outputs": [],
   "source": [
    "analysing_std_and_mean.columns = analysing_std_and_mean.columns.reorder_levels(order=[0,2,1])\n",
    "# print(analysing_std_and_mean.columns)\n",
    "analysing_std_and_mean.columns = ['_'.join(col) for col in analysing_std_and_mean.columns]\n",
    "# column_to_concatenate='acc_all'\n",
    "new_column_list = []\n",
    "for column_to_concatenate in ['acc_all','acc_alpha','acc_beta','acc_delta','acc_gamma','acc_theta']:\n",
    "    new_column = f'{column_to_concatenate}_together'\n",
    "    analysing_std_and_mean[new_column] = analysing_std_and_mean[f'{column_to_concatenate}_mean'].round(2).astype(str) + '/'+ analysing_std_and_mean[f'{column_to_concatenate}_std'].round(2).astype(str) \n",
    "    new_column_list.append(new_column)\n",
    "analysing_std_and_mean[new_column_list]\n"
   ]
  },
  {
   "cell_type": "code",
   "execution_count": null,
   "metadata": {},
   "outputs": [],
   "source": [
    "analysing_std_and_mean[['acc_delta_together','acc_theta_together','acc_alpha_together','acc_beta_together','acc_gamma_together','acc_all_together']]\\\n",
    "    .reindex(['de_LDS','psd_LDS', 'rasm_LDS', 'dasm_LDS', 'asm_LDS','dcau_LDS'],axis=0)\n"
   ]
  },
  {
   "cell_type": "code",
   "execution_count": null,
   "metadata": {},
   "outputs": [],
   "source": [
    "analysing_std_and_mean[['acc_all_together']]\\\n",
    "    .reindex(['de_LDS','psd_LDS', 'rasm_LDS', 'dasm_LDS', 'asm_LDS','dcau_LDS'],axis=0)\n"
   ]
  },
  {
   "cell_type": "code",
   "execution_count": null,
   "metadata": {},
   "outputs": [],
   "source": []
  }
 ],
 "metadata": {
  "kernelspec": {
   "display_name": "ppget_env",
   "language": "python",
   "name": "python3"
  },
  "language_info": {
   "codemirror_mode": {
    "name": "ipython",
    "version": 3
   },
   "file_extension": ".py",
   "mimetype": "text/x-python",
   "name": "python",
   "nbconvert_exporter": "python",
   "pygments_lexer": "ipython3",
   "version": "3.7.16"
  },
  "orig_nbformat": 4,
  "vscode": {
   "interpreter": {
    "hash": "91f9952c56706b049e70c780d2eadeed0ab5d9a1e1cfd3530058c6575c21370c"
   }
  }
 },
 "nbformat": 4,
 "nbformat_minor": 2
}
